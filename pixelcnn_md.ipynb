{
  "cells": [
    {
      "cell_type": "markdown",
      "metadata": {
        "id": "view-in-github",
        "colab_type": "text"
      },
      "source": [
        "<a href=\"https://colab.research.google.com/github/Radhibomma/GCollab/blob/main/pixelcnn_md.ipynb\" target=\"_parent\"><img src=\"https://colab.research.google.com/assets/colab-badge.svg\" alt=\"Open In Colab\"/></a>"
      ]
    },
    {
      "cell_type": "markdown",
      "id": "b076bd1a-b236-4fbc-953d-8295b25122ae",
      "metadata": {
        "id": "b076bd1a-b236-4fbc-953d-8295b25122ae"
      },
      "source": [
        "# 👾 PixelCNN using Tensorflow distributions"
      ]
    },
    {
      "cell_type": "markdown",
      "id": "9235cbd1-f136-411c-88d9-f69f270c0b96",
      "metadata": {
        "id": "9235cbd1-f136-411c-88d9-f69f270c0b96"
      },
      "source": [
        "In this notebook, we'll walk through the steps required to train your own PixelCNN on the fashion MNIST dataset using Tensorflow distributions"
      ]
    },
    {
      "cell_type": "code",
      "execution_count": null,
      "id": "84acc7be-6764-4668-b2bb-178f63deeed3",
      "metadata": {
        "id": "84acc7be-6764-4668-b2bb-178f63deeed3"
      },
      "outputs": [],
      "source": [
        "import numpy as np\n",
        "\n",
        "import matplotlib.pyplot as plt\n",
        "\n",
        "import tensorflow as tf\n",
        "from tensorflow.keras import datasets, layers, models, optimizers, callbacks\n",
        "import tensorflow_probability as tfp"
      ]
    },
    {
      "cell_type": "markdown",
      "id": "339e6268-ebd7-4feb-86db-1fe7abccdbe5",
      "metadata": {
        "id": "339e6268-ebd7-4feb-86db-1fe7abccdbe5"
      },
      "source": [
        "## 0. Parameters <a name=\"parameters\"></a>"
      ]
    },
    {
      "cell_type": "code",
      "execution_count": null,
      "id": "1b2ee6ce-129f-4833-b0c5-fa567381c4e0",
      "metadata": {
        "id": "1b2ee6ce-129f-4833-b0c5-fa567381c4e0"
      },
      "outputs": [],
      "source": [
        "IMAGE_SIZE = 32\n",
        "N_COMPONENTS = 5\n",
        "EPOCHS = 10\n",
        "BATCH_SIZE = 128"
      ]
    },
    {
      "cell_type": "code",
      "execution_count": null,
      "id": "s5TA7azwwv0z",
      "metadata": {
        "id": "s5TA7azwwv0z"
      },
      "outputs": [],
      "source": [
        "def showimages(images, figsize, grid_size, ran):\n",
        "    fig = plt.figure(figsize=(figsize, figsize))\n",
        "    fig.subplots_adjust(hspace=0.4, wspace=0.4)\n",
        "    for i in range(ran):\n",
        "        ax = fig.add_subplot(grid_size, grid_size, i + 1)\n",
        "        ax.axis(\"off\")\n",
        "        ax.imshow(images[i, :, :], cmap=\"Greys\")"
      ]
    },
    {
      "cell_type": "markdown",
      "id": "b7716fac-0010-49b0-b98e-53be2259edde",
      "metadata": {
        "id": "b7716fac-0010-49b0-b98e-53be2259edde"
      },
      "source": [
        "## 1. Prepare the data <a name=\"prepare\"></a>"
      ]
    },
    {
      "cell_type": "code",
      "execution_count": null,
      "id": "9a73e5a4-1638-411c-8d3c-29f823424458",
      "metadata": {
        "id": "9a73e5a4-1638-411c-8d3c-29f823424458"
      },
      "outputs": [],
      "source": [
        "# Load the data\n",
        "(x_train, _), (_, _) = datasets.fashion_mnist.load_data()"
      ]
    },
    {
      "cell_type": "code",
      "execution_count": null,
      "id": "YDmx99EXw3-u",
      "metadata": {
        "colab": {
          "base_uri": "https://localhost:8080/",
          "height": 236
        },
        "id": "YDmx99EXw3-u",
        "outputId": "0fa0f47b-1028-4019-9462-54ceb8a40067"
      },
      "outputs": [
        {
          "output_type": "display_data",
          "data": {
            "text/plain": [
              "<Figure size 5000x5000 with 5 Axes>"
            ],
            "image/png": "[encoded data removed]"
          },
          "metadata": {}
        }
      ],
      "source": [
        "showimages(x_train, 50, 5, 5)"
      ]
    },
    {
      "cell_type": "code",
      "execution_count": null,
      "id": "ebae2f0d-59fd-4796-841f-7213eae638de",
      "metadata": {
        "id": "ebae2f0d-59fd-4796-841f-7213eae638de"
      },
      "outputs": [],
      "source": [
        "# Preprocess the data\n",
        "\n",
        "\n",
        "def preprocess(imgs):\n",
        "    imgs = np.expand_dims(imgs, -1)\n",
        "    imgs = tf.image.resize(imgs, (IMAGE_SIZE, IMAGE_SIZE)).numpy()\n",
        "    return imgs\n",
        "\n",
        "\n",
        "input_data = preprocess(x_train)"
      ]
    },
    {
      "cell_type": "code",
      "execution_count": null,
      "id": "fa53709f-7f3f-483b-9db8-2e5f9b9942c2",
      "metadata": {
        "colab": {
          "base_uri": "https://localhost:8080/",
          "height": 1000
        },
        "id": "fa53709f-7f3f-483b-9db8-2e5f9b9942c2",
        "outputId": "262bcede-397b-46d9-fe69-f08937eabf72"
      },
      "outputs": [
        {
          "output_type": "display_data",
          "data": {
            "text/plain": [
              "array([[[[0.],\n",
              "         [0.],\n",
              "         [0.],\n",
              "         ...,\n",
              "         [0.],\n",
              "         [0.],\n",
              "         [0.]],\n",
              "\n",
              "        [[0.],\n",
              "         [0.],\n",
              "         [0.],\n",
              "         ...,\n",
              "         [0.],\n",
              "         [0.],\n",
              "         [0.]],\n",
              "\n",
              "        [[0.],\n",
              "         [0.],\n",
              "         [0.],\n",
              "         ...,\n",
              "         [0.],\n",
              "         [0.],\n",
              "         [0.]],\n",
              "\n",
              "        ...,\n",
              "\n",
              "        [[0.],\n",
              "         [0.],\n",
              "         [0.],\n",
              "         ...,\n",
              "         [0.],\n",
              "         [0.],\n",
              "         [0.]],\n",
              "\n",
              "        [[0.],\n",
              "         [0.],\n",
              "         [0.],\n",
              "         ...,\n",
              "         [0.],\n",
              "         [0.],\n",
              "         [0.]],\n",
              "\n",
              "        [[0.],\n",
              "         [0.],\n",
              "         [0.],\n",
              "         ...,\n",
              "         [0.],\n",
              "         [0.],\n",
              "         [0.]]],\n",
              "\n",
              "\n",
              "       [[[0.],\n",
              "         [0.],\n",
              "         [0.],\n",
              "         ...,\n",
              "         [0.],\n",
              "         [0.],\n",
              "         [0.]],\n",
              "\n",
              "        [[0.],\n",
              "         [0.],\n",
              "         [0.],\n",
              "         ...,\n",
              "         [0.],\n",
              "         [0.],\n",
              "         [0.]],\n",
              "\n",
              "        [[0.],\n",
              "         [0.],\n",
              "         [0.],\n",
              "         ...,\n",
              "         [0.],\n",
              "         [0.],\n",
              "         [0.]],\n",
              "\n",
              "        ...,\n",
              "\n",
              "        [[0.],\n",
              "         [0.],\n",
              "         [0.],\n",
              "         ...,\n",
              "         [0.],\n",
              "         [0.],\n",
              "         [0.]],\n",
              "\n",
              "        [[0.],\n",
              "         [0.],\n",
              "         [0.],\n",
              "         ...,\n",
              "         [0.],\n",
              "         [0.],\n",
              "         [0.]],\n",
              "\n",
              "        [[0.],\n",
              "         [0.],\n",
              "         [0.],\n",
              "         ...,\n",
              "         [0.],\n",
              "         [0.],\n",
              "         [0.]]],\n",
              "\n",
              "\n",
              "       [[[0.],\n",
              "         [0.],\n",
              "         [0.],\n",
              "         ...,\n",
              "         [0.],\n",
              "         [0.],\n",
              "         [0.]],\n",
              "\n",
              "        [[0.],\n",
              "         [0.],\n",
              "         [0.],\n",
              "         ...,\n",
              "         [0.],\n",
              "         [0.],\n",
              "         [0.]],\n",
              "\n",
              "        [[0.],\n",
              "         [0.],\n",
              "         [0.],\n",
              "         ...,\n",
              "         [0.],\n",
              "         [0.],\n",
              "         [0.]],\n",
              "\n",
              "        ...,\n",
              "\n",
              "        [[0.],\n",
              "         [0.],\n",
              "         [0.],\n",
              "         ...,\n",
              "         [0.],\n",
              "         [0.],\n",
              "         [0.]],\n",
              "\n",
              "        [[0.],\n",
              "         [0.],\n",
              "         [0.],\n",
              "         ...,\n",
              "         [0.],\n",
              "         [0.],\n",
              "         [0.]],\n",
              "\n",
              "        [[0.],\n",
              "         [0.],\n",
              "         [0.],\n",
              "         ...,\n",
              "         [0.],\n",
              "         [0.],\n",
              "         [0.]]],\n",
              "\n",
              "\n",
              "       ...,\n",
              "\n",
              "\n",
              "       [[[0.],\n",
              "         [0.],\n",
              "         [0.],\n",
              "         ...,\n",
              "         [0.],\n",
              "         [0.],\n",
              "         [0.]],\n",
              "\n",
              "        [[0.],\n",
              "         [0.],\n",
              "         [0.],\n",
              "         ...,\n",
              "         [0.],\n",
              "         [0.],\n",
              "         [0.]],\n",
              "\n",
              "        [[0.],\n",
              "         [0.],\n",
              "         [0.],\n",
              "         ...,\n",
              "         [0.],\n",
              "         [0.],\n",
              "         [0.]],\n",
              "\n",
              "        ...,\n",
              "\n",
              "        [[0.],\n",
              "         [0.],\n",
              "         [0.],\n",
              "         ...,\n",
              "         [0.],\n",
              "         [0.],\n",
              "         [0.]],\n",
              "\n",
              "        [[0.],\n",
              "         [0.],\n",
              "         [0.],\n",
              "         ...,\n",
              "         [0.],\n",
              "         [0.],\n",
              "         [0.]],\n",
              "\n",
              "        [[0.],\n",
              "         [0.],\n",
              "         [0.],\n",
              "         ...,\n",
              "         [0.],\n",
              "         [0.],\n",
              "         [0.]]],\n",
              "\n",
              "\n",
              "       [[[0.],\n",
              "         [0.],\n",
              "         [0.],\n",
              "         ...,\n",
              "         [0.],\n",
              "         [0.],\n",
              "         [0.]],\n",
              "\n",
              "        [[0.],\n",
              "         [0.],\n",
              "         [0.],\n",
              "         ...,\n",
              "         [0.],\n",
              "         [0.],\n",
              "         [0.]],\n",
              "\n",
              "        [[0.],\n",
              "         [0.],\n",
              "         [0.],\n",
              "         ...,\n",
              "         [0.],\n",
              "         [0.],\n",
              "         [0.]],\n",
              "\n",
              "        ...,\n",
              "\n",
              "        [[0.],\n",
              "         [0.],\n",
              "         [0.],\n",
              "         ...,\n",
              "         [0.],\n",
              "         [0.],\n",
              "         [0.]],\n",
              "\n",
              "        [[0.],\n",
              "         [0.],\n",
              "         [0.],\n",
              "         ...,\n",
              "         [0.],\n",
              "         [0.],\n",
              "         [0.]],\n",
              "\n",
              "        [[0.],\n",
              "         [0.],\n",
              "         [0.],\n",
              "         ...,\n",
              "         [0.],\n",
              "         [0.],\n",
              "         [0.]]],\n",
              "\n",
              "\n",
              "       [[[0.],\n",
              "         [0.],\n",
              "         [0.],\n",
              "         ...,\n",
              "         [0.],\n",
              "         [0.],\n",
              "         [0.]],\n",
              "\n",
              "        [[0.],\n",
              "         [0.],\n",
              "         [0.],\n",
              "         ...,\n",
              "         [0.],\n",
              "         [0.],\n",
              "         [0.]],\n",
              "\n",
              "        [[0.],\n",
              "         [0.],\n",
              "         [0.],\n",
              "         ...,\n",
              "         [0.],\n",
              "         [0.],\n",
              "         [0.]],\n",
              "\n",
              "        ...,\n",
              "\n",
              "        [[0.],\n",
              "         [0.],\n",
              "         [0.],\n",
              "         ...,\n",
              "         [0.],\n",
              "         [0.],\n",
              "         [0.]],\n",
              "\n",
              "        [[0.],\n",
              "         [0.],\n",
              "         [0.],\n",
              "         ...,\n",
              "         [0.],\n",
              "         [0.],\n",
              "         [0.]],\n",
              "\n",
              "        [[0.],\n",
              "         [0.],\n",
              "         [0.],\n",
              "         ...,\n",
              "         [0.],\n",
              "         [0.],\n",
              "         [0.]]]], dtype=float32)"
            ]
          },
          "metadata": {}
        }
      ],
      "source": [
        "# Show some items of clothing from the training set\n",
        "display(input_data)"
      ]
    },
    {
      "cell_type": "markdown",
      "id": "aff50401-3abe-4c10-bba8-b35bc13ad7d5",
      "metadata": {
        "id": "aff50401-3abe-4c10-bba8-b35bc13ad7d5"
      },
      "source": [
        "## 2. Build the PixelCNN <a name=\"build\"></a>"
      ]
    },
    {
      "cell_type": "code",
      "execution_count": null,
      "id": "71a2a4a1-690e-4c94-b323-86f0e5b691d5",
      "metadata": {
        "id": "71a2a4a1-690e-4c94-b323-86f0e5b691d5"
      },
      "outputs": [],
      "source": [
        "# Define a Pixel CNN network\n",
        "dist = tfp.distributions.PixelCNN(\n",
        "    image_shape=(IMAGE_SIZE, IMAGE_SIZE, 1),\n",
        "    num_resnet=1,\n",
        "    num_hierarchies=2,\n",
        "    num_filters=32,\n",
        "    num_logistic_mix=N_COMPONENTS,\n",
        "    dropout_p=0.3,\n",
        ")\n",
        "\n",
        "class LogProbLayer(layers.Layer):\n",
        "    def __init__(self, dist, **kwargs):\n",
        "        super(LogProbLayer, self).__init__(**kwargs)\n",
        "        self.dist = dist\n",
        "\n",
        "    def get_config(self):\n",
        "        config = super().get_config()\n",
        "        return config\n",
        "\n",
        "    def call(self, inputs):\n",
        "        # Now 'inputs' will be a regular TensorFlow tensor during execution\n",
        "        return self.dist.log_prob(inputs)\n",
        "\n",
        "# Define the model input\n",
        "image_input = layers.Input(shape=(IMAGE_SIZE, IMAGE_SIZE, 1))\n",
        "\n",
        "# Create an instance of the custom layer\n",
        "log_prob_layer = LogProbLayer(dist)\n",
        "\n",
        "# Define the log likelihood for the loss fn\n",
        "log_prob = log_prob_layer(image_input)\n",
        "\n",
        "# Define a custom training step\n",
        "def custom_train_step(data):\n",
        "    with tf.GradientTape() as tape:\n",
        "        # Forward pass\n",
        "        log_prob_output = pixelcnn(data)\n",
        "        # Calculate the negative log-likelihood as the loss\n",
        "        # Clip the log probability output to avoid potential infinities\n",
        "        log_prob_output = tf.clip_by_value(log_prob_output, -1e6, 1e6)\n",
        "        # Replace None and NaN with a large negative number\n",
        "        log_prob_output = tf.where(tf.math.is_nan(log_prob_output), tf.constant(-1e6, dtype=log_prob_output.dtype), log_prob_output)\n",
        "        log_prob_output = tf.where(tf.math.is_inf(log_prob_output), tf.constant(-1e6, dtype=log_prob_output.dtype), log_prob_output)\n",
        "        loss = -tf.reduce_mean(log_prob_output)\n",
        "\n",
        "    # Calculate gradients\n",
        "    gradients = tape.gradient(loss, pixelcnn.trainable_variables)\n",
        "    # Update model weights\n",
        "    pixelcnn.optimizer.apply_gradients(zip(gradients, pixelcnn.trainable_variables))\n",
        "    return loss\n",
        "\n",
        "# Define the model\n",
        "pixelcnn = models.Model(inputs=image_input, outputs=log_prob)\n",
        "#pixelcnn.add_loss(-tf.reduce_mean(log_prob))\n",
        "#pixelcnn.compile(loss='mse', optimizer='adam')"
      ]
    },
    {
      "cell_type": "markdown",
      "id": "35b14665-4359-447b-be58-3fd58ba69084",
      "metadata": {
        "id": "35b14665-4359-447b-be58-3fd58ba69084"
      },
      "source": [
        "## 3. Train the PixelCNN <a name=\"train\"></a>"
      ]
    },
    {
      "cell_type": "code",
      "execution_count": null,
      "id": "d9ec362d-41fa-473a-ad56-ebeec6cfd3b8",
      "metadata": {
        "id": "d9ec362d-41fa-473a-ad56-ebeec6cfd3b8"
      },
      "outputs": [],
      "source": [
        "# Define a custom loss function to handle potential None, NaN, and Inf values\n",
        "def custom_loss(y_true, y_pred):\n",
        "    # Clip y_pred to avoid potential infinities or NaNs\n",
        "    y_pred = tf.clip_by_value(y_pred, -1e6, 1e6)\n",
        "    # Replace None, NaN, and Inf values with a large negative number\n",
        "    y_pred = tf.where(tf.math.is_nan(y_pred), tf.constant(-1e6, dtype=y_pred.dtype), y_pred)\n",
        "    y_pred = tf.where(tf.math.is_inf(y_pred), tf.constant(-1e6, dtype=y_pred.dtype), y_pred)\n",
        "    y_pred = tf.where(tf.math.is_none(y_pred), tf.constant(-1e6, dtype=y_pred.dtype), y_pred) # added to handle potential None values\n",
        "\n",
        "    # Calculate and return the loss (negative log-likelihood)\n",
        "    loss = -tf.reduce_mean(y_pred)\n",
        "    return loss  # Explicitly return the loss value\n",
        "\n",
        "pixelcnn.compile(\n",
        "    loss=\"mean_squared_error\",\n",
        "    optimizer = \"adam\",\n",
        ")"
      ]
    },
    {
      "cell_type": "code",
      "execution_count": null,
      "id": "c525e44b-b3bb-489c-9d35-fcfe3e714e6a",
      "metadata": {
        "id": "c525e44b-b3bb-489c-9d35-fcfe3e714e6a"
      },
      "outputs": [],
      "source": [
        "tensorboard_callback = callbacks.TensorBoard(log_dir=\"./logs\")\n",
        "\n",
        "\n",
        "class ImageGenerator(callbacks.Callback):\n",
        "    def __init__(self, num_img):\n",
        "        self.num_img = num_img\n",
        "\n",
        "    def generate(self):\n",
        "        # Check if dist.sample returns None and handle it\n",
        "        samples = dist.sample(self.num_img)\n",
        "        if samples is None:\n",
        "            # Handle the case where dist.sample returns None\n",
        "            # For example, you could return an array of zeros:\n",
        "            return tf.zeros([self.num_img, 32, 32, 1], dtype=tf.float32).numpy()  # Assuming your image shape\n",
        "            # Or raise an exception:\n",
        "            # raise ValueError(\"dist.sample returned None\")\n",
        "        return samples.numpy()\n",
        "\n",
        "    def get_config(self):\n",
        "        config = super().get_config()\n",
        "        return config\n",
        "\n",
        "    def on_epoch_end(self, epoch, logs=None):\n",
        "        generated_images = self.generate()\n",
        "        #display(\n",
        "        #    generated_images,\n",
        "        #    n=self.num_img,\n",
        "        #    save_to=\"./output/generated_img_%03d.png\" % (epoch),\n",
        "        #)\n",
        "\n",
        "\n",
        "img_generator_callback = ImageGenerator(num_img=2)"
      ]
    },
    {
      "cell_type": "code",
      "execution_count": null,
      "id": "bd6a5a71-eb55-4ec0-9c8c-cb11a382ff90",
      "metadata": {
        "colab": {
          "base_uri": "https://localhost:8080/"
        },
        "id": "bd6a5a71-eb55-4ec0-9c8c-cb11a382ff90",
        "outputId": "b22d3dbe-9cea-4db6-e4fa-887a48a8e51d"
      },
      "outputs": [
        {
          "output_type": "stream",
          "name": "stderr",
          "text": [
            "/usr/local/lib/python3.10/dist-packages/keras/src/backend/tensorflow/trainer.py:75: UserWarning: The model does not have any trainable weights.\n",
            "  warnings.warn(\"The model does not have any trainable weights.\")\n"
          ]
        },
        {
          "output_type": "stream",
          "name": "stdout",
          "text": [
            "\u001b[1m469/469\u001b[0m \u001b[32m━━━━━━━━━━━━━━━━━━━━\u001b[0m\u001b[37m\u001b[0m \u001b[1m1753s\u001b[0m 4s/step - loss: 18851480.0000\n"
          ]
        },
        {
          "output_type": "execute_result",
          "data": {
            "text/plain": [
              "<keras.src.callbacks.history.History at 0x7ecef074f970>"
            ]
          },
          "metadata": {},
          "execution_count": 11
        }
      ],
      "source": [
        "pixelcnn.fit(\n",
        "    input_data, input_data,\n",
        "    batch_size=BATCH_SIZE,\n",
        "    epochs=EPOCHS,\n",
        "    verbose=True,\n",
        "    callbacks=[tensorboard_callback, img_generator_callback],\n",
        ")"
      ]
    },
    {
      "cell_type": "markdown",
      "id": "fb1f295f-ade0-4040-a6a5-a7b428b08ebc",
      "metadata": {
        "id": "fb1f295f-ade0-4040-a6a5-a7b428b08ebc"
      },
      "source": [
        "## 4. Generate images <a name=\"generate\"></a>"
      ]
    },
    {
      "cell_type": "code",
      "execution_count": null,
      "id": "8db3cfe3-339e-463d-8af5-fbd403385fca",
      "metadata": {
        "id": "8db3cfe3-339e-463d-8af5-fbd403385fca"
      },
      "outputs": [],
      "source": [
        "generated_images = img_generator_callback.generate()"
      ]
    },
    {
      "cell_type": "code",
      "execution_count": null,
      "id": "80087297-3f47-4e0c-ac89-8758d4386d7c",
      "metadata": {
        "colab": {
          "base_uri": "https://localhost:8080/",
          "height": 615
        },
        "id": "80087297-3f47-4e0c-ac89-8758d4386d7c",
        "outputId": "30e23d3c-5694-49bf-dea5-b010671e60e4"
      },
      "outputs": [
        {
          "output_type": "display_data",
          "data": {
            "text/plain": [
              "<Figure size 5000x5000 with 2 Axes>"
            ],
            "image/png": "[encoded data removed]"
          },
          "metadata": {}
        }
      ],
      "source": [
        "#display(generated_images, n=img_generator_callback.num_img)\n",
        "showimages(generated_images, 50, 5, 2)"
      ]
    }
  ],
  "metadata": {
    "accelerator": "GPU",
    "colab": {
      "gpuType": "T4",
      "provenance": [],
      "include_colab_link": true
    },
    "kernelspec": {
      "display_name": "Python 3",
      "name": "python3"
    },
    "language_info": {
      "codemirror_mode": {
        "name": "ipython",
        "version": 3
      },
      "file_extension": ".py",
      "mimetype": "text/x-python",
      "name": "python",
      "nbconvert_exporter": "python",
      "pygments_lexer": "ipython3",
      "version": "3.8.10"
    }
  },
  "nbformat": 4,
  "nbformat_minor": 5
}