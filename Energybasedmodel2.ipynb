{
  "nbformat": 4,
  "nbformat_minor": 0,
  "metadata": {
    "colab": {
      "provenance": [],
      "authorship_tag": "ABX9TyOTk/dNuHLrTBsxYJvSGMx4",
      "include_colab_link": true
    },
    "kernelspec": {
      "name": "python3",
      "display_name": "Python 3"
    },
    "language_info": {
      "name": "python"
    }
  },
  "cells": [
    {
      "cell_type": "markdown",
      "metadata": {
        "id": "view-in-github",
        "colab_type": "text"
      },
      "source": [
        "<a href=\"https://colab.research.google.com/github/Radhibomma/GCollab/blob/main/Energybasedmodel2.ipynb\" target=\"_parent\"><img src=\"https://colab.research.google.com/assets/colab-badge.svg\" alt=\"Open In Colab\"/></a>"
      ]
    },
    {
      "cell_type": "code",
      "execution_count": 44,
      "metadata": {
        "colab": {
          "base_uri": "https://localhost:8080/"
        },
        "id": "PPsre8Mu7SF9",
        "outputId": "ae388f57-49c2-4127-8522-49d990e2d8b8"
      },
      "outputs": [
        {
          "output_type": "stream",
          "name": "stdout",
          "text": [
            "Requirement already satisfied: tensorflow in /usr/local/lib/python3.10/dist-packages (2.17.1)\n",
            "Requirement already satisfied: numpy in /usr/local/lib/python3.10/dist-packages (1.26.4)\n",
            "Requirement already satisfied: matplotlib in /usr/local/lib/python3.10/dist-packages (3.8.0)\n",
            "Requirement already satisfied: absl-py>=1.0.0 in /usr/local/lib/python3.10/dist-packages (from tensorflow) (1.4.0)\n",
            "Requirement already satisfied: astunparse>=1.6.0 in /usr/local/lib/python3.10/dist-packages (from tensorflow) (1.6.3)\n",
            "Requirement already satisfied: flatbuffers>=24.3.25 in /usr/local/lib/python3.10/dist-packages (from tensorflow) (24.3.25)\n",
            "Requirement already satisfied: gast!=0.5.0,!=0.5.1,!=0.5.2,>=0.2.1 in /usr/local/lib/python3.10/dist-packages (from tensorflow) (0.6.0)\n",
            "Requirement already satisfied: google-pasta>=0.1.1 in /usr/local/lib/python3.10/dist-packages (from tensorflow) (0.2.0)\n",
            "Requirement already satisfied: h5py>=3.10.0 in /usr/local/lib/python3.10/dist-packages (from tensorflow) (3.12.1)\n",
            "Requirement already satisfied: libclang>=13.0.0 in /usr/local/lib/python3.10/dist-packages (from tensorflow) (18.1.1)\n",
            "Requirement already satisfied: ml-dtypes<0.5.0,>=0.3.1 in /usr/local/lib/python3.10/dist-packages (from tensorflow) (0.4.1)\n",
            "Requirement already satisfied: opt-einsum>=2.3.2 in /usr/local/lib/python3.10/dist-packages (from tensorflow) (3.4.0)\n",
            "Requirement already satisfied: packaging in /usr/local/lib/python3.10/dist-packages (from tensorflow) (24.2)\n",
            "Requirement already satisfied: protobuf!=4.21.0,!=4.21.1,!=4.21.2,!=4.21.3,!=4.21.4,!=4.21.5,<5.0.0dev,>=3.20.3 in /usr/local/lib/python3.10/dist-packages (from tensorflow) (4.25.5)\n",
            "Requirement already satisfied: requests<3,>=2.21.0 in /usr/local/lib/python3.10/dist-packages (from tensorflow) (2.32.3)\n",
            "Requirement already satisfied: setuptools in /usr/local/lib/python3.10/dist-packages (from tensorflow) (75.1.0)\n",
            "Requirement already satisfied: six>=1.12.0 in /usr/local/lib/python3.10/dist-packages (from tensorflow) (1.16.0)\n",
            "Requirement already satisfied: termcolor>=1.1.0 in /usr/local/lib/python3.10/dist-packages (from tensorflow) (2.5.0)\n",
            "Requirement already satisfied: typing-extensions>=3.6.6 in /usr/local/lib/python3.10/dist-packages (from tensorflow) (4.12.2)\n",
            "Requirement already satisfied: wrapt>=1.11.0 in /usr/local/lib/python3.10/dist-packages (from tensorflow) (1.16.0)\n",
            "Requirement already satisfied: grpcio<2.0,>=1.24.3 in /usr/local/lib/python3.10/dist-packages (from tensorflow) (1.67.1)\n",
            "Requirement already satisfied: tensorboard<2.18,>=2.17 in /usr/local/lib/python3.10/dist-packages (from tensorflow) (2.17.1)\n",
            "Requirement already satisfied: keras>=3.2.0 in /usr/local/lib/python3.10/dist-packages (from tensorflow) (3.5.0)\n",
            "Requirement already satisfied: tensorflow-io-gcs-filesystem>=0.23.1 in /usr/local/lib/python3.10/dist-packages (from tensorflow) (0.37.1)\n",
            "Requirement already satisfied: contourpy>=1.0.1 in /usr/local/lib/python3.10/dist-packages (from matplotlib) (1.3.1)\n",
            "Requirement already satisfied: cycler>=0.10 in /usr/local/lib/python3.10/dist-packages (from matplotlib) (0.12.1)\n",
            "Requirement already satisfied: fonttools>=4.22.0 in /usr/local/lib/python3.10/dist-packages (from matplotlib) (4.54.1)\n",
            "Requirement already satisfied: kiwisolver>=1.0.1 in /usr/local/lib/python3.10/dist-packages (from matplotlib) (1.4.7)\n",
            "Requirement already satisfied: pillow>=6.2.0 in /usr/local/lib/python3.10/dist-packages (from matplotlib) (11.0.0)\n",
            "Requirement already satisfied: pyparsing>=2.3.1 in /usr/local/lib/python3.10/dist-packages (from matplotlib) (3.2.0)\n",
            "Requirement already satisfied: python-dateutil>=2.7 in /usr/local/lib/python3.10/dist-packages (from matplotlib) (2.8.2)\n",
            "Requirement already satisfied: wheel<1.0,>=0.23.0 in /usr/local/lib/python3.10/dist-packages (from astunparse>=1.6.0->tensorflow) (0.45.0)\n",
            "Requirement already satisfied: rich in /usr/local/lib/python3.10/dist-packages (from keras>=3.2.0->tensorflow) (13.9.4)\n",
            "Requirement already satisfied: namex in /usr/local/lib/python3.10/dist-packages (from keras>=3.2.0->tensorflow) (0.0.8)\n",
            "Requirement already satisfied: optree in /usr/local/lib/python3.10/dist-packages (from keras>=3.2.0->tensorflow) (0.13.1)\n",
            "Requirement already satisfied: charset-normalizer<4,>=2 in /usr/local/lib/python3.10/dist-packages (from requests<3,>=2.21.0->tensorflow) (3.4.0)\n",
            "Requirement already satisfied: idna<4,>=2.5 in /usr/local/lib/python3.10/dist-packages (from requests<3,>=2.21.0->tensorflow) (3.10)\n",
            "Requirement already satisfied: urllib3<3,>=1.21.1 in /usr/local/lib/python3.10/dist-packages (from requests<3,>=2.21.0->tensorflow) (2.2.3)\n",
            "Requirement already satisfied: certifi>=2017.4.17 in /usr/local/lib/python3.10/dist-packages (from requests<3,>=2.21.0->tensorflow) (2024.8.30)\n",
            "Requirement already satisfied: markdown>=2.6.8 in /usr/local/lib/python3.10/dist-packages (from tensorboard<2.18,>=2.17->tensorflow) (3.7)\n",
            "Requirement already satisfied: tensorboard-data-server<0.8.0,>=0.7.0 in /usr/local/lib/python3.10/dist-packages (from tensorboard<2.18,>=2.17->tensorflow) (0.7.2)\n",
            "Requirement already satisfied: werkzeug>=1.0.1 in /usr/local/lib/python3.10/dist-packages (from tensorboard<2.18,>=2.17->tensorflow) (3.1.3)\n",
            "Requirement already satisfied: MarkupSafe>=2.1.1 in /usr/local/lib/python3.10/dist-packages (from werkzeug>=1.0.1->tensorboard<2.18,>=2.17->tensorflow) (3.0.2)\n",
            "Requirement already satisfied: markdown-it-py>=2.2.0 in /usr/local/lib/python3.10/dist-packages (from rich->keras>=3.2.0->tensorflow) (3.0.0)\n",
            "Requirement already satisfied: pygments<3.0.0,>=2.13.0 in /usr/local/lib/python3.10/dist-packages (from rich->keras>=3.2.0->tensorflow) (2.18.0)\n",
            "Requirement already satisfied: mdurl~=0.1 in /usr/local/lib/python3.10/dist-packages (from markdown-it-py>=2.2.0->rich->keras>=3.2.0->tensorflow) (0.1.2)\n"
          ]
        }
      ],
      "source": [
        "pip install tensorflow numpy matplotlib"
      ]
    },
    {
      "cell_type": "code",
      "source": [
        "import tensorflow as tf\n",
        "import numpy as np\n",
        "import matplotlib.pyplot as plt\n",
        "from tensorflow.keras import layers, Model\n",
        "import tensorflow.keras.backend as K"
      ],
      "metadata": {
        "id": "1HzS2tTi8w5q"
      },
      "execution_count": 64,
      "outputs": []
    },
    {
      "cell_type": "code",
      "source": [
        "# Set random seeds for reproducibility\n",
        "tf.random.set_seed(42)\n",
        "np.random.seed(42)"
      ],
      "metadata": {
        "id": "4gTK4lne83bX"
      },
      "execution_count": 65,
      "outputs": []
    },
    {
      "cell_type": "code",
      "source": [
        "# Load and preprocess MNIST data\n",
        "def load_mnist():\n",
        "    (x_train, _), (x_test, _) = tf.keras.datasets.mnist.load_data()\n",
        "    x_train = x_train.astype('float32') / 255.0\n",
        "    x_test = x_test.astype('float32') / 255.0\n",
        "    x_train = x_train.reshape(-1, 28, 28, 1)\n",
        "    x_test = x_test.reshape(-1, 28, 28, 1)\n",
        "    return x_train, x_test"
      ],
      "metadata": {
        "id": "ttMGbYJx89Bq"
      },
      "execution_count": 66,
      "outputs": []
    },
    {
      "cell_type": "code",
      "source": [
        "# Custom Swish activation\n",
        "def swish(x):\n",
        "    return x * tf.sigmoid(x)"
      ],
      "metadata": {
        "id": "wF48EyOI9Bhr"
      },
      "execution_count": 67,
      "outputs": []
    },
    {
      "cell_type": "code",
      "source": [
        "# Energy Network\n",
        "class EnergyNetwork(Model):\n",
        "    def __init__(self):\n",
        "        super(EnergyNetwork, self).__init__()"
      ],
      "metadata": {
        "id": "GNFAatX79Fvd"
      },
      "execution_count": 68,
      "outputs": []
    },
    {
      "cell_type": "code",
      "source": [
        "# Energy Network\n",
        "class EnergyNetwork(Model):\n",
        "    def __init__(self):\n",
        "        super(EnergyNetwork, self).__init__()\n",
        "        self.conv1 = layers.Conv2D(64, 3, activation=swish, padding='same')\n",
        "        self.conv2 = layers.Conv2D(64, 3, activation=swish, padding='same')\n",
        "        self.conv3 = layers.Conv2D(64, 3, activation=swish, padding='same')\n",
        "        self.flatten = layers.Flatten()\n",
        "        self.dense1 = layers.Dense(256, activation=swish)\n",
        "        self.dense2 = layers.Dense(1, activation=None)"
      ],
      "metadata": {
        "id": "hbodIl2a9R3M"
      },
      "execution_count": 70,
      "outputs": []
    },
    {
      "cell_type": "code",
      "source": [
        "def call(self, x):\n",
        "        x = self.conv1(x)\n",
        "        x = self.conv2(x)\n",
        "        x = self.conv3(x)\n",
        "        x = self.flatten(x)\n",
        "        x = self.dense1(x)\n",
        "        return self.dense2(x)"
      ],
      "metadata": {
        "id": "I1482Tm19Wp_"
      },
      "execution_count": 71,
      "outputs": []
    },
    {
      "cell_type": "code",
      "source": [
        "# Langevin dynamics sampling\n",
        "def langevin_dynamics(model, initial_samples, n_steps=60, step_size=10.0, noise_scale=0.005):\n",
        "    samples = tf.convert_to_tensor(initial_samples, dtype=tf.float32)"
      ],
      "metadata": {
        "id": "W1tFVHlJ9mxV"
      },
      "execution_count": 72,
      "outputs": []
    },
    {
      "cell_type": "code",
      "source": [
        "# Langevin dynamics sampling\n",
        "def langevin_dynamics(model, initial_samples, n_steps=60, step_size=10.0, noise_scale=0.005):\n",
        "    samples = tf.convert_to_tensor(initial_samples, dtype=tf.float32)\n",
        "\n",
        "    # Loop over n_steps within the function definition\n",
        "    for _ in range(n_steps):\n",
        "        with tf.GradientTape() as tape:\n",
        "            tape.watch(samples)\n",
        "            energy = model(samples)\n",
        "\n",
        "    # ... rest of your Langevin dynamics implementation ...\n",
        "    return samples # or any other desired output from the function"
      ],
      "metadata": {
        "id": "vfONOvvi9t7O"
      },
      "execution_count": 75,
      "outputs": []
    },
    {
      "cell_type": "code",
      "source": [
        "# Langevin dynamics sampling\n",
        "def langevin_dynamics(model, initial_samples, n_steps=60, step_size=10.0, noise_scale=0.005):\n",
        "    samples = tf.convert_to_tensor(initial_samples, dtype=tf.float32)\n",
        "\n",
        "    # Loop over n_steps within the function definition\n",
        "    for _ in range(n_steps):\n",
        "        with tf.GradientTape() as tape:\n",
        "            tape.watch(samples)\n",
        "            energy = model(samples)\n",
        "            # Compute gradients - This line should be indented to be within the 'with' block\n",
        "            gradients = tape.gradient(energy, samples)\n",
        "\n",
        "    # ... rest of your Langevin dynamics implementation ...\n",
        "    return samples # or any other desired output from the function"
      ],
      "metadata": {
        "id": "mUE7TYWl94_F"
      },
      "execution_count": 76,
      "outputs": []
    },
    {
      "cell_type": "code",
      "source": [
        "# Langevin dynamics sampling\n",
        "def langevin_dynamics(model, initial_samples, n_steps=60, step_size=10.0, noise_scale=0.005):\n",
        "    samples = tf.convert_to_tensor(initial_samples, dtype=tf.float32)\n",
        "\n",
        "    # Loop over n_steps within the function definition\n",
        "    for _ in range(n_steps):\n",
        "        with tf.GradientTape() as tape:\n",
        "            tape.watch(samples)\n",
        "            energy = model(samples)\n",
        "            # Compute gradients - This line should be indented to be within the 'with' block\n",
        "            gradients = tape.gradient(energy, samples)\n",
        "\n",
        "        # Update samples - Indented correctly within the 'for' loop\n",
        "        noise = tf.random.normal(samples.shape) * noise_scale\n",
        "        samples = samples - step_size * gradients + noise\n",
        "        samples = tf.clip_by_value(samples, 0.0, 1.0)\n",
        "\n",
        "    # ... rest of your Langevin dynamics implementation ...\n",
        "    return samples # or any other desired output from the function"
      ],
      "metadata": {
        "id": "XsqCJlt79-2G"
      },
      "execution_count": 78,
      "outputs": []
    },
    {
      "cell_type": "code",
      "source": [
        "return samples"
      ],
      "metadata": {
        "colab": {
          "base_uri": "https://localhost:8080/",
          "height": 106
        },
        "id": "Ui-qoW-L-LkD",
        "outputId": "6dfb5aea-771a-4cb9-a3db-72454a232073"
      },
      "execution_count": 82,
      "outputs": [
        {
          "output_type": "error",
          "ename": "SyntaxError",
          "evalue": "'return' outside function (<ipython-input-82-bf79256dfb2b>, line 1)",
          "traceback": [
            "\u001b[0;36m  File \u001b[0;32m\"<ipython-input-82-bf79256dfb2b>\"\u001b[0;36m, line \u001b[0;32m1\u001b[0m\n\u001b[0;31m    return samples\u001b[0m\n\u001b[0m    ^\u001b[0m\n\u001b[0;31mSyntaxError\u001b[0m\u001b[0;31m:\u001b[0m 'return' outside function\n"
          ]
        }
      ]
    },
    {
      "cell_type": "code",
      "source": [
        "# Custom training step\n",
        "@tf.function\n",
        "def train_step(model, optimizer, real_samples, sample_buffer, buffer_size=10000):\n",
        "    batch_size = real_samples.shape[0]\n",
        ""
      ],
      "metadata": {
        "id": "k2h3VSvB-Oh3"
      },
      "execution_count": 83,
      "outputs": []
    },
    {
      "cell_type": "code",
      "source": [
        "# Custom training step\n",
        "@tf.function\n",
        "def train_step(model, optimizer, real_samples, sample_buffer, buffer_size=10000):\n",
        "    batch_size = real_samples.shape[0]\n",
        "    # Initialize random samples for Langevin dynamics\n",
        "    # The if statement should have the same indentation level as the previous line\n",
        "    if len(sample_buffer) < batch_size:\n",
        "        init_samples = tf.random.uniform((batch_size, 28, 28, 1))\n",
        "        sample_buffer.extend(init_samples.numpy())"
      ],
      "metadata": {
        "id": "dUBb4Ms9-SM_"
      },
      "execution_count": 85,
      "outputs": []
    },
    {
      "cell_type": "code",
      "source": [
        "# Custom training step\n",
        "@tf.function\n",
        "def train_step(model, optimizer, real_samples, sample_buffer, buffer_size=10000):\n",
        "    batch_size = real_samples.shape[0]\n",
        "    # Initialize random samples for Langevin dynamics\n",
        "    if len(sample_buffer) < batch_size:\n",
        "        init_samples = tf.random.uniform((batch_size, 28, 28, 1))\n",
        "        sample_buffer.extend(init_samples.numpy())\n",
        "    # Sample from buffer\n",
        "    # This line should be at the same indentation level as the 'if' statement\n",
        "    buffer_idx = np.random.choice(len(sample_buffer), batch_size, replace=False)\n",
        "    init_samples = tf.convert_to_tensor([sample_buffer[i] for i in buffer_idx])"
      ],
      "metadata": {
        "id": "2yd0PKT8-WdW"
      },
      "execution_count": 87,
      "outputs": []
    },
    {
      "cell_type": "code",
      "source": [
        "# Custom training step\n",
        "@tf.function\n",
        "def train_step(model, optimizer, real_samples, sample_buffer, buffer_size=10000):\n",
        "    batch_size = real_samples.shape[0]\n",
        "    # Initialize random samples for Langevin dynamics\n",
        "    if len(sample_buffer) < batch_size:\n",
        "        init_samples = tf.random.uniform((batch_size, 28, 28, 1))\n",
        "        sample_buffer.extend(init_samples.numpy())\n",
        "    # Sample from buffer\n",
        "    buffer_idx = np.random.choice(len(sample_buffer), batch_size, replace=False)\n",
        "    init_samples = tf.convert_to_tensor([sample_buffer[i] for i in buffer_idx])\n",
        "    # Generate samples using Langevin dynamics # This line and the next should be indented to the same level as the first line inside the function\n",
        "    with tf.GradientTape() as tape:\n",
        "        fake_samples = langevin_dynamics(model, init_samples)"
      ],
      "metadata": {
        "id": "q4gULpKB-Z2m"
      },
      "execution_count": 89,
      "outputs": []
    },
    {
      "cell_type": "code",
      "source": [
        "# Custom training step\n",
        "@tf.function\n",
        "def train_step(model, optimizer, real_samples, sample_buffer, buffer_size=10000):\n",
        "    batch_size = real_samples.shape[0]\n",
        "    # Initialize random samples for Langevin dynamics\n",
        "    if len(sample_buffer) < batch_size:\n",
        "        init_samples = tf.random.uniform((batch_size, 28, 28, 1))\n",
        "        sample_buffer.extend(init_samples.numpy())\n",
        "    # Sample from buffer\n",
        "    buffer_idx = np.random.choice(len(sample_buffer), batch_size, replace=False)\n",
        "    init_samples = tf.convert_to_tensor([sample_buffer[i] for i in buffer_idx])\n",
        "    # Generate samples using Langevin dynamics\n",
        "    with tf.GradientTape() as tape:\n",
        "        fake_samples = langevin_dynamics(model, init_samples)\n",
        "        # Compute energies #These lines should be indented to be within the 'with' block\n",
        "        real_energy = model(real_samples)\n",
        "        fake_energy = model(fake_samples)"
      ],
      "metadata": {
        "id": "R3ZNg65S-dLF"
      },
      "execution_count": 92,
      "outputs": []
    },
    {
      "cell_type": "code",
      "source": [
        "# Custom training step\n",
        "@tf.function\n",
        "def train_step(model, optimizer, real_samples, sample_buffer, buffer_size=10000):\n",
        "    batch_size = real_samples.shape[0]\n",
        "    # Initialize random samples for Langevin dynamics\n",
        "    if len(sample_buffer) < batch_size:\n",
        "        init_samples = tf.random.uniform((batch_size, 28, 28, 1))\n",
        "        sample_buffer.extend(init_samples.numpy())\n",
        "    # Sample from buffer\n",
        "    buffer_idx = np.random.choice(len(sample_buffer), batch_size, replace=False)\n",
        "    init_samples = tf.convert_to_tensor([sample_buffer[i] for i in buffer_idx])\n",
        "    # Generate samples using Langevin dynamics\n",
        "    with tf.GradientTape() as tape:\n",
        "        fake_samples = langevin_dynamics(model, init_samples)\n",
        "        # Compute energies\n",
        "        real_energy = model(real_samples)\n",
        "        fake_energy = model(fake_samples)\n",
        "        # Compute loss (contrastive divergence) # This line was in 'ipython-input-93-2ca1c5977018' and has been moved inside the 'with' block\n",
        "        loss = tf.reduce_mean(real_energy) - tf.reduce_mean(fake_energy)"
      ],
      "metadata": {
        "id": "s5bYCUC9-gcZ"
      },
      "execution_count": 94,
      "outputs": []
    },
    {
      "cell_type": "code",
      "source": [
        "# Custom training step\n",
        "@tf.function\n",
        "def train_step(model, optimizer, real_samples, sample_buffer, buffer_size=10000):\n",
        "    batch_size = real_samples.shape[0]\n",
        "    # Initialize random samples for Langevin dynamics\n",
        "    if len(sample_buffer) < batch_size:\n",
        "        init_samples = tf.random.uniform((batch_size, 28, 28, 1))\n",
        "        sample_buffer.extend(init_samples.numpy())\n",
        "    # Sample from buffer\n",
        "    buffer_idx = np.random.choice(len(sample_buffer), batch_size, replace=False)\n",
        "    init_samples = tf.convert_to_tensor([sample_buffer[i] for i in buffer_idx])\n",
        "    # Generate samples using Langevin dynamics\n",
        "    with tf.GradientTape() as tape:\n",
        "        fake_samples = langevin_dynamics(model, init_samples)\n",
        "        # Compute energies\n",
        "        real_energy = model(real_samples)\n",
        "        fake_energy = model(fake_samples)\n",
        "        # Compute loss (contrastive divergence)\n",
        "        loss = tf.reduce_mean(real_energy) - tf.reduce_mean(fake_energy)\n",
        "\n",
        "    # Update model  #This line and the next two were in 'ipython-input-95-51cfc28f0eab' and have been moved inside the 'train_step' function\n",
        "    gradients = tape.gradient(loss, model.trainable_variables) # This line was indented, causing the error. It's now unindented and inside the 'train_step' function\n",
        "    optimizer.apply_gradients(zip(gradients, model.trainable_variables))"
      ],
      "metadata": {
        "id": "cgfW8_fC-knE"
      },
      "execution_count": 96,
      "outputs": []
    },
    {
      "cell_type": "code",
      "source": [
        "import tensorflow as tf\n",
        "import numpy as np\n",
        "\n",
        "# Custom training step\n",
        "@tf.function\n",
        "def train_step(model, optimizer, real_samples, sample_buffer, buffer_size=10000):\n",
        "    batch_size = real_samples.shape[0]\n",
        "    # Initialize random samples for Langevin dynamics\n",
        "    if len(sample_buffer) < batch_size:\n",
        "        init_samples = tf.random.uniform((batch_size, 28, 28, 1))\n",
        "        sample_buffer.extend(init_samples.numpy())\n",
        "    # Sample from buffer\n",
        "    buffer_idx = np.random.choice(len(sample_buffer), batch_size, replace=False)\n",
        "    init_samples = tf.convert_to_tensor([sample_buffer[i] for i in buffer_idx])\n",
        "    # Generate samples using Langevin dynamics\n",
        "    with tf.GradientTape() as tape:\n",
        "        fake_samples = langevin_dynamics(model, init_samples)\n",
        "        # Compute energies\n",
        "        real_energy = model(real_samples)\n",
        "        fake_energy = model(fake_samples)\n",
        "        # Compute loss (contrastive divergence)\n",
        "        loss = tf.reduce_mean(real_energy) - tf.reduce_mean(fake_energy)\n",
        "    # Update model\n",
        "    gradients = tape.gradient(loss, model.trainable_variables)\n",
        "    optimizer.apply_gradients(zip(gradients, model.trainable_variables))\n",
        "\n",
        "    # Update buffer # Moved inside the 'train_step' function\n",
        "    for idx, sample in zip(buffer_idx, fake_samples.numpy()):\n",
        "        sample_buffer[idx] = sample"
      ],
      "metadata": {
        "id": "IJ8hMBEi-oII"
      },
      "execution_count": 99,
      "outputs": []
    },
    {
      "cell_type": "code",
      "source": [
        "return loss,fake_samples"
      ],
      "metadata": {
        "colab": {
          "base_uri": "https://localhost:8080/",
          "height": 106
        },
        "id": "zZ6zhcIq-ra-",
        "outputId": "571d7ae0-f636-45d8-9bef-4a98f61dc3a2"
      },
      "execution_count": 138,
      "outputs": [
        {
          "output_type": "error",
          "ename": "SyntaxError",
          "evalue": "'return' outside function (<ipython-input-138-f583d582672f>, line 1)",
          "traceback": [
            "\u001b[0;36m  File \u001b[0;32m\"<ipython-input-138-f583d582672f>\"\u001b[0;36m, line \u001b[0;32m1\u001b[0m\n\u001b[0;31m    return loss,fake_samples\u001b[0m\n\u001b[0m    ^\u001b[0m\n\u001b[0;31mSyntaxError\u001b[0m\u001b[0;31m:\u001b[0m 'return' outside function\n"
          ]
        }
      ]
    },
    {
      "cell_type": "code",
      "source": [
        "# Training loop\n",
        "def train_ebm(epochs=120, batch_size=128):\n",
        "    # Load data\n",
        "    x_train, x_test = load_mnist()"
      ],
      "metadata": {
        "id": "0EijddP5_GKW"
      },
      "execution_count": 104,
      "outputs": []
    },
    {
      "cell_type": "code",
      "source": [
        "# Training loop\n",
        "def train_ebm(epochs=120, batch_size=128):\n",
        "    # Load data\n",
        "    x_train, x_test = load_mnist()\n",
        "    # Create model and optimizer # Removed the extra indentation from these two lines\n",
        "    model = EnergyNetwork()\n",
        "    optimizer = tf.keras.optimizers.Adam(learning_rate=1e-4)"
      ],
      "metadata": {
        "id": "sGkrRm5r_Lrz"
      },
      "execution_count": 106,
      "outputs": []
    },
    {
      "cell_type": "code",
      "source": [
        "# Training loop\n",
        "def train_ebm(epochs=120, batch_size=128):\n",
        "    # Load data\n",
        "    x_train, x_test = load_mnist()\n",
        "    # Create model and optimizer\n",
        "    model = EnergyNetwork()\n",
        "    optimizer = tf.keras.optimizers.Adam(learning_rate=1e-4)\n",
        "    # Initialize sample buffer\n",
        "    sample_buffer = list(np.random.uniform(0, 1, (10000, 28, 28, 1))) #Corrected indentation - 4 spaces inside the function\n",
        "\n",
        "    # ... (Rest of your training loop code)"
      ],
      "metadata": {
        "id": "GGvYom79_PbJ"
      },
      "execution_count": 108,
      "outputs": []
    },
    {
      "cell_type": "code",
      "source": [
        "# Training loop\n",
        "def train_ebm(epochs=120, batch_size=128):\n",
        "    # Load data\n",
        "    x_train, x_test = load_mnist()\n",
        "    # Create model and optimizer\n",
        "    model = EnergyNetwork()\n",
        "    optimizer = tf.keras.optimizers.Adam(learning_rate=1e-4)\n",
        "    # Initialize sample buffer\n",
        "    sample_buffer = list(np.random.uniform(0, 1, (10000, 28, 28, 1))) #Corrected indentation - 4 spaces inside the function\n",
        "\n",
        "    # Training history # Moved history initialization inside the function\n",
        "    history = []\n",
        "\n",
        "    # ... (Rest of your training loop code)"
      ],
      "metadata": {
        "id": "4mtCXGRw_S5s"
      },
      "execution_count": 110,
      "outputs": []
    },
    {
      "cell_type": "code",
      "source": [
        "# Training loop\n",
        "def train_ebm(epochs=120, batch_size=128):\n",
        "    # Load data\n",
        "    x_train, x_test = load_mnist()\n",
        "    # Create model and optimizer\n",
        "    model = EnergyNetwork()\n",
        "    optimizer = tf.keras.optimizers.Adam(learning_rate=1e-4)\n",
        "    # Initialize sample buffer\n",
        "    sample_buffer = list(np.random.uniform(0, 1, (10000, 28, 28, 1)))\n",
        "\n",
        "    # Training history\n",
        "    history = []\n",
        "\n",
        "    # Training loop starts here - Indentation corrected to align with function definition\n",
        "    for epoch in range(epochs):\n",
        "        epoch_losses = []\n",
        "\n",
        "        # ... (Rest of your training loop code)"
      ],
      "metadata": {
        "id": "Uefo4c5z_WWk"
      },
      "execution_count": 112,
      "outputs": []
    },
    {
      "cell_type": "code",
      "source": [
        "# Training loop\n",
        "def train_ebm(epochs=120, batch_size=128):\n",
        "    # Load data\n",
        "    x_train, x_test = load_mnist()\n",
        "    # Create model and optimizer\n",
        "    model = EnergyNetwork()\n",
        "    optimizer = tf.keras.optimizers.Adam(learning_rate=1e-4)\n",
        "    # Initialize sample buffer\n",
        "    sample_buffer = list(np.random.uniform(0, 1, (10000, 28, 28, 1)))\n",
        "\n",
        "    # Training history\n",
        "    history = []\n",
        "\n",
        "    # Training loop starts here\n",
        "    for epoch in range(epochs):\n",
        "        epoch_losses = []\n",
        "\n",
        "        # Iterate over the training data in batches\n",
        "        for batch_start in range(0, len(x_train), batch_size): # Moved the for loop inside the train_ebm function\n",
        "            batch_end = min(batch_start + batch_size, len(x_train))\n",
        "            batch_real = x_train[batch_start:batch_end]\n",
        "\n",
        "            # ... (Rest of your training loop code within the for loop)"
      ],
      "metadata": {
        "id": "ow-h2Fe1_aYm"
      },
      "execution_count": 115,
      "outputs": []
    },
    {
      "cell_type": "code",
      "source": [
        "# ipython-input-115-a68b3d7caef4\n",
        "def train_ebm(epochs=120, batch_size=128):\n",
        "    # Load data\n",
        "    x_train, x_test = load_mnist()\n",
        "    # Create model and optimizer\n",
        "    model = EnergyNetwork()\n",
        "    optimizer = tf.keras.optimizers.Adam(learning_rate=1e-4)\n",
        "    # Initialize sample buffer\n",
        "    sample_buffer = list(np.random.uniform(0, 1, (10000, 28, 28, 1)))\n",
        "\n",
        "    # Training history\n",
        "    history = []\n",
        "\n",
        "    # Training loop starts here\n",
        "    for epoch in range(epochs):\n",
        "        epoch_losses = []\n",
        "\n",
        "        # Iterate over the training data in batches\n",
        "        for batch_start in range(0, len(x_train), batch_size):\n",
        "            batch_end = min(batch_start + batch_size, len(x_train))\n",
        "            batch_real = x_train[batch_start:batch_end]\n",
        "\n",
        "            # Call train_step and append the loss\n",
        "            loss, fake_samples = train_step(model, optimizer, batch_real, sample_buffer)\n",
        "            epoch_losses.append(float(loss))\n",
        "            #This line was incorrectly indented in the original code.\n",
        "            #It should be at the same level as the line above it, inside the inner for loop.\n",
        "\n",
        "        # ... (Rest of your training loop code within the for loop)"
      ],
      "metadata": {
        "id": "0vXHokwx_d2d"
      },
      "execution_count": 117,
      "outputs": []
    },
    {
      "cell_type": "code",
      "source": [
        "# ipython-input-117-ac0b08da8399\n",
        "def train_ebm(epochs=120, batch_size=128):\n",
        "    # Load data\n",
        "    x_train, x_test = load_mnist()\n",
        "    # Create model and optimizer\n",
        "    model = EnergyNetwork()\n",
        "    optimizer = tf.keras.optimizers.Adam(learning_rate=1e-4)\n",
        "    # Initialize sample buffer\n",
        "    sample_buffer = list(np.random.uniform(0, 1, (10000, 28, 28, 1)))\n",
        "\n",
        "    # Training history\n",
        "    history = []\n",
        "\n",
        "    # Training loop starts here\n",
        "    for epoch in range(epochs):\n",
        "        epoch_losses = []\n",
        "\n",
        "        # Iterate over the training data in batches\n",
        "        for batch_start in range(0, len(x_train), batch_size):\n",
        "            batch_end = min(batch_start + batch_size, len(x_train))\n",
        "            batch_real = x_train[batch_start:batch_end]\n",
        "\n",
        "            # Call train_step and append the loss\n",
        "            loss, fake_samples = train_step(model, optimizer, batch_real, sample_buffer)\n",
        "            epoch_losses.append(float(loss))\n",
        "            #This line was incorrectly indented in the original code.\n",
        "            #It should be at the same level as the line above it, inside the inner for loop.\n",
        "\n",
        "        # Calculate average loss and add to history - This block was previously in a separate cell\n",
        "        avg_loss = np.mean(epoch_losses)\n",
        "        history.append(avg_loss)\n",
        "\n",
        "        # ... (Rest of your training loop code within the for loop)"
      ],
      "metadata": {
        "id": "a927NaeO_hTh"
      },
      "execution_count": 119,
      "outputs": []
    },
    {
      "cell_type": "code",
      "source": [
        "# ipython-input-119-a4e19ddf25c7\n",
        "def train_ebm(epochs=120, batch_size=128):\n",
        "    # Load data\n",
        "    x_train, x_test = load_mnist()\n",
        "    # Create model and optimizer\n",
        "    model = EnergyNetwork()\n",
        "    optimizer = tf.keras.optimizers.Adam(learning_rate=1e-4)\n",
        "    # Initialize sample buffer\n",
        "    sample_buffer = list(np.random.uniform(0, 1, (10000, 28, 28, 1)))\n",
        "\n",
        "    # Training history\n",
        "    history = []\n",
        "\n",
        "    # Training loop starts here\n",
        "    for epoch in range(epochs):\n",
        "        epoch_losses = []\n",
        "\n",
        "        # Iterate over the training data in batches\n",
        "        for batch_start in range(0, len(x_train), batch_size):\n",
        "            batch_end = min(batch_start + batch_size, len(x_train))\n",
        "            batch_real = x_train[batch_start:batch_end]\n",
        "\n",
        "            # Call train_step and append the loss\n",
        "            loss, fake_samples = train_step(model, optimizer, batch_real, sample_buffer)\n",
        "            epoch_losses.append(float(loss))\n",
        "            #This line was incorrectly indented in the original code.\n",
        "            #It should be at the same level as the line above it, inside the inner for loop.\n",
        "\n",
        "        # Calculate average loss and add to history - This block was previously in a separate cell\n",
        "        avg_loss = np.mean(epoch_losses)\n",
        "        history.append(avg_loss)\n",
        "\n",
        "        # Print the loss every 10 epochs - Moved from separate cell\n",
        "        if (epoch + 1) % 10 == 0:\n",
        "            print(f\"Epoch {epoch + 1}/{epochs}, Loss: {avg_loss:.4f}\")\n",
        "            #This line was causing the error because epoch was not defined in the scope of the cell it was in.\n",
        "            #Moving it inside the train_ebm function makes epoch accessible.\n",
        "\n",
        "        # ... (Rest of your training loop code within the for loop)"
      ],
      "metadata": {
        "id": "hJU3Dceo_k0j"
      },
      "execution_count": 122,
      "outputs": []
    },
    {
      "cell_type": "code",
      "source": [
        "# ipython-input-99-eeea69f8c6cf\n",
        "import tensorflow as tf\n",
        "import numpy as np\n",
        "\n",
        "def train_step(model, optimizer, real_samples, sample_buffer, buffer_size=10000):\n",
        "    \"\"\"\n",
        "    Performs a single training step for the energy-based model.\n",
        "\n",
        "    Args:\n",
        "        model: The energy model.\n",
        "        optimizer: The optimizer used for training.\n",
        "        real_samples: A batch of real samples.\n",
        "        sample_buffer: A buffer to store generated samples.\n",
        "        buffer_size: The size of the sample buffer.\n",
        "\n",
        "    Returns:\n",
        "        The loss value for the step and the generated samples.\n",
        "    \"\"\"\n",
        "\n",
        "    with tf.GradientTape() as tape:\n",
        "        # This is where the indented block should start\n",
        "        # Calculate energy for real and fake samples (replace with your logic)\n",
        "        real_energy = model(real_samples)\n",
        "        # Example placeholder for real energy calculation\n",
        "\n",
        "        # Add your code for calculating fake energy here\n",
        "        # ... (rest of train_step code)\n",
        "        loss = ... # Calculate loss (replace with your loss function)\n",
        "        # Example placeholder for loss calculation\n",
        "\n",
        "        # Calculate gradients and apply them\n",
        "        gradients = tape.gradient(loss, model.trainable_variables)\n",
        "        optimizer.apply_gradients(zip(gradients, model.trainable_variables))\n",
        "\n",
        "    # Update sample buffer\n",
        "    buffer_idx = np.random.choice(buffer_size, size=len(real_samples), replace=False)\n",
        "    init_samples = tf.convert_to_tensor([sample_buffer[i] for i in buffer_idx], dtype=tf.float32) #Added dtype=tf.float32 to fix mismatch\n",
        "    fake_samples = langevin_dynamics(model, init_samples)\n",
        "    for i, idx in enumerate(buffer_idx):\n",
        "        sample_buffer[idx] = fake_samples[i].numpy()\n",
        "\n",
        "    return loss, fake_samples"
      ],
      "metadata": {
        "id": "guAeVGkUCcKO"
      },
      "execution_count": 125,
      "outputs": []
    },
    {
      "cell_type": "code",
      "source": [
        "def train_ebm(epochs=120, batch_size=128):\n",
        "    # Load data\n",
        "    x_train, x_test = load_mnist()\n",
        "    # Create model and optimizer\n",
        "    model = EnergyNetwork()\n",
        "    optimizer = tf.keras.optimizers.Adam(learning_rate=1e-4)\n",
        "    # Initialize sample buffer\n",
        "    sample_buffer = list(np.random.uniform(0, 1, (10000, 28, 28, 1)))\n",
        "\n",
        "    # Training history\n",
        "    history = []\n",
        "\n",
        "    # Training loop starts here\n",
        "    for epoch in range(epochs):\n",
        "        epoch_losses = []\n",
        "\n",
        "        # Iterate over the training data in batches\n",
        "        for batch_start in range(0, len(x_train), batch_size):\n",
        "            batch_end = min(batch_start + batch_size, len(x_train))\n",
        "            batch_real = x_train[batch_start:batch_end]\n",
        "\n",
        "            # Call train_step and append the loss\n",
        "            loss, fake_samples = train_step(model, optimizer, batch_real, sample_buffer)\n",
        "            epoch_losses.append(float(loss))\n",
        "            #This line was incorrectly indented in the original code.\n",
        "            #It should be at the same level as the line above it, inside the inner for loop.\n",
        "\n",
        "        # Calculate average loss and add to history\n",
        "        avg_loss = np.mean(epoch_losses)\n",
        "        history.append(avg_loss)\n",
        "\n",
        "        # Print the loss and generate samples every 10 epochs - Moved inside the function\n",
        "        if (epoch + 1) % 10 == 0:\n",
        "            print(f\"Epoch {epoch + 1}/{epochs}, Loss: {avg_loss:.4f}\")\n",
        "            # Generate and display samples\n",
        "            random_samples = tf.random.uniform((16, 28, 28, 1))\n",
        "            generated = langevin_dynamics(model, random_samples)\n",
        "\n",
        "            plt.figure(figsize=(10, 10))\n",
        "            for i in range(16):\n",
        "                plt.subplot(4, 4, i + 1)\n",
        "                plt.imshow(generated[i, :, :, 0], cmap='gray')\n",
        "                plt.axis('off')\n",
        "            plt.savefig(f'samples_epoch_{epoch+1}.png')\n",
        "            plt.close()\n",
        "\n",
        "        # ... (Rest of your training loop code within the for loop)"
      ],
      "metadata": {
        "id": "JC2Qy2IcCFvD"
      },
      "execution_count": 126,
      "outputs": []
    },
    {
      "cell_type": "code",
      "source": [
        "import tensorflow as tf\n",
        "import numpy as np\n",
        "\n",
        "class EnergyNetwork(tf.keras.Model):\n",
        "    def __init__(self):\n",
        "        super(EnergyNetwork, self).__init__()\n",
        "        self.conv1 = tf.keras.layers.Conv2D(32, (3, 3), activation='relu', input_shape=(28, 28, 1))\n",
        "        self.conv2 = tf.keras.layers.Conv2D(64, (3, 3), activation='relu')\n",
        "        self.flatten = tf.keras.layers.Flatten()\n",
        "        self.dense1 = tf.keras.layers.Dense(128, activation='relu')\n",
        "        self.dense2 = tf.keras.layers.Dense(1)  # Outputting a single energy value\n",
        "\n",
        "    def call(self, inputs):\n",
        "        x = self.conv1(inputs)\n",
        "        x = self.conv2(x)\n",
        "        x = self.flatten(x)\n",
        "        x = self.dense1(x)\n",
        "        energy = self.dense2(x)  # Output is the energy\n",
        "        return energy"
      ],
      "metadata": {
        "id": "Ngb04kpz_yjs"
      },
      "execution_count": 128,
      "outputs": []
    },
    {
      "cell_type": "code",
      "source": [
        "# ipython-input-126-aeac1763b5a2\n",
        "import tensorflow as tf\n",
        "import numpy as np\n",
        "import matplotlib.pyplot as plt # Import matplotlib here\n",
        "\n",
        "def train_ebm(epochs=120, batch_size=128):\n",
        "    # Load data\n",
        "    x_train, x_test = load_mnist()  # Assuming load_mnist is defined elsewhere\n",
        "    # Create model and optimizer\n",
        "    model = EnergyNetwork()\n",
        "    optimizer = tf.keras.optimizers.Adam(learning_rate=1e-4)\n",
        "    # Initialize sample buffer\n",
        "    sample_buffer = list(np.random.uniform(0, 1, (10000, 28, 28, 1)))\n",
        "\n",
        "    # Training history - Initialize history here\n",
        "    history = []\n",
        "\n",
        "    # Training loop starts here\n",
        "    # ... (Rest of your training loop remains the same) ...\n",
        "\n",
        "    return history  # Return the history list\n",
        "\n",
        "# Call the train_ebm function and store the returned history\n",
        "history = train_ebm()\n",
        "\n",
        "# ... (Your plotting code) ...\n",
        "plt.figure(figsize=(10, 5))\n",
        "plt.plot(history)\n",
        "plt.title('Training Loss')\n",
        "plt.xlabel('Epoch')\n",
        "plt.ylabel('Loss')\n",
        "plt.savefig('loss_curve.png')\n",
        "plt.show()"
      ],
      "metadata": {
        "colab": {
          "base_uri": "https://localhost:8080/",
          "height": 487
        },
        "id": "qpb1bJcp_2P4",
        "outputId": "bae29277-8441-4279-92a8-848e70b92ce0"
      },
      "execution_count": 132,
      "outputs": [
        {
          "output_type": "display_data",
          "data": {
            "text/plain": [
              "<Figure size 1000x500 with 1 Axes>"
            ],
            "image/png": "[encoded data removed]"
          },
          "metadata": {}
        }
      ]
    },
    {
      "cell_type": "code",
      "source": [
        "# ipython-input-126-aeac1763b5a2\n",
        "import tensorflow as tf\n",
        "import numpy as np\n",
        "import matplotlib.pyplot as plt # Import matplotlib here\n",
        "\n",
        "def train_ebm(epochs=120, batch_size=128):\n",
        "    # Load data\n",
        "    x_train, x_test = load_mnist()  # Assuming load_mnist is defined elsewhere\n",
        "    # Create model and optimizer\n",
        "    model = EnergyNetwork()  # Define model here to make it accessible\n",
        "    optimizer = tf.keras.optimizers.Adam(learning_rate=1e-4)\n",
        "    # Initialize sample buffer\n",
        "    sample_buffer = list(np.random.uniform(0, 1, (10000, 28, 28, 1)))\n",
        "\n",
        "    # Training history - Initialize history here\n",
        "    history = []\n",
        "\n",
        "    # Training loop starts here\n",
        "    # ... (Rest of your training loop remains the same) ...\n",
        "\n",
        "    return history, model  # Return both history and the trained model\n",
        "\n",
        "# Call the train_ebm function and store the returned history and model\n",
        "history, trained_model = train_ebm()  # Assign the trained model to 'trained_model'\n",
        "\n",
        "# ... (Your plotting code) ...\n",
        "\n",
        "# Generate final samples using the trained model\n",
        "final_samples = tf.random.uniform((16, 28, 28, 1))\n",
        "generated = langevin_dynamics(trained_model, final_samples) # Now 'trained_model' is defined"
      ],
      "metadata": {
        "colab": {
          "base_uri": "https://localhost:8080/"
        },
        "id": "JCHMEJcJ_9vC",
        "outputId": "3ee170ed-ad4b-46c8-e364-9bcf16d3170c"
      },
      "execution_count": 136,
      "outputs": [
        {
          "output_type": "stream",
          "name": "stderr",
          "text": [
            "/usr/local/lib/python3.10/dist-packages/keras/src/layers/convolutional/base_conv.py:107: UserWarning: Do not pass an `input_shape`/`input_dim` argument to a layer. When using Sequential models, prefer using an `Input(shape)` object as the first layer in the model instead.\n",
            "  super().__init__(activity_regularizer=activity_regularizer, **kwargs)\n"
          ]
        }
      ]
    },
    {
      "cell_type": "code",
      "source": [
        "plt.figure(figsize=(10, 10))\n",
        "for i in range(16):\n",
        "    plt.subplot(4, 4, i + 1)\n",
        "    plt.imshow(generated[i, :, :, 0], cmap='gray')\n",
        "    plt.axis('off')\n",
        "plt.savefig('final_samples.png')\n",
        "plt.show()"
      ],
      "metadata": {
        "colab": {
          "base_uri": "https://localhost:8080/",
          "height": 807
        },
        "id": "ateBALofAKtB",
        "outputId": "2fd234e9-aae1-4582-a7eb-b48d2553d2a6"
      },
      "execution_count": 137,
      "outputs": [
        {
          "output_type": "display_data",
          "data": {
            "text/plain": [
              "<Figure size 1000x1000 with 16 Axes>"
            ],
            "image/png": "[encoded data removed]"
          },
          "metadata": {}
        }
      ]
    }
  ]
}