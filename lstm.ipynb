{
  "cells": [
    {
      "cell_type": "markdown",
      "metadata": {
        "id": "view-in-github",
        "colab_type": "text"
      },
      "source": [
        "<a href=\"https://colab.research.google.com/github/Radhibomma/GCollab/blob/main/lstm.ipynb\" target=\"_parent\"><img src=\"https://colab.research.google.com/assets/colab-badge.svg\" alt=\"Open In Colab\"/></a>"
      ]
    },
    {
      "cell_type": "markdown",
      "id": "b076bd1a-b236-4fbc-953d-8295b25122ae",
      "metadata": {
        "id": "b076bd1a-b236-4fbc-953d-8295b25122ae"
      },
      "source": [
        "# 🥙 LSTM on Recipe Data"
      ]
    },
    {
      "cell_type": "markdown",
      "id": "658a95da-9645-4bcf-bd9d-4b95a4b6f582",
      "metadata": {
        "id": "658a95da-9645-4bcf-bd9d-4b95a4b6f582"
      },
      "source": [
        "In this notebook, we'll walk through the steps required to train your own LSTM on the recipes dataset"
      ]
    },
    {
      "cell_type": "code",
      "execution_count": 1,
      "id": "4e0d56cc-4773-4029-97d8-26f882ba79c9",
      "metadata": {
        "id": "4e0d56cc-4773-4029-97d8-26f882ba79c9"
      },
      "outputs": [],
      "source": [
        "\n",
        "import numpy as np\n",
        "import json\n",
        "import re\n",
        "import string\n",
        "\n",
        "import kagglehub\n",
        "\n",
        "import tensorflow as tf\n",
        "from tensorflow.keras import layers, models, callbacks, losses"
      ]
    },
    {
      "cell_type": "markdown",
      "id": "339e6268-ebd7-4feb-86db-1fe7abccdbe5",
      "metadata": {
        "id": "339e6268-ebd7-4feb-86db-1fe7abccdbe5"
      },
      "source": [
        "## 0. Parameters <a name=\"parameters\"></a>"
      ]
    },
    {
      "cell_type": "code",
      "execution_count": 2,
      "id": "2d8352af-343e-4c2e-8c91-95f8bac1c8a1",
      "metadata": {
        "id": "2d8352af-343e-4c2e-8c91-95f8bac1c8a1"
      },
      "outputs": [],
      "source": [
        "VOCAB_SIZE = 10000\n",
        "MAX_LEN = 200\n",
        "EMBEDDING_DIM = 100\n",
        "N_UNITS = 128\n",
        "VALIDATION_SPLIT = 0.2\n",
        "SEED = 42\n",
        "LOAD_MODEL = False\n",
        "BATCH_SIZE = 32\n",
        "EPOCHS = 25"
      ]
    },
    {
      "cell_type": "markdown",
      "id": "b7716fac-0010-49b0-b98e-53be2259edde",
      "metadata": {
        "id": "b7716fac-0010-49b0-b98e-53be2259edde"
      },
      "source": [
        "## 1. Load the data <a name=\"load\"></a>"
      ]
    },
    {
      "cell_type": "code",
      "execution_count": 3,
      "id": "93cf6b0f-9667-4146-8911-763a8a2925d3",
      "metadata": {
        "id": "93cf6b0f-9667-4146-8911-763a8a2925d3"
      },
      "outputs": [],
      "source": [
        "# Load the full dataset\n",
        "\n",
        "# Download latest version\n",
        "path = kagglehub.dataset_download(\"hugodarwood/epirecipes\")\n",
        "\n",
        "with open(path + \"/full_format_recipes.json\") as json_data:\n",
        "    recipe_data = json.load(json_data)"
      ]
    },
    {
      "cell_type": "code",
      "execution_count": 4,
      "id": "23a74eca-f1b7-4a46-9a1f-b5806a4ed361",
      "metadata": {
        "id": "23a74eca-f1b7-4a46-9a1f-b5806a4ed361"
      },
      "outputs": [],
      "source": [
        "# Filter the dataset\n",
        "filtered_data = [\n",
        "    \"Recipe for \" + x[\"title\"] + \" | \" + \" \".join(x[\"directions\"])\n",
        "    for x in recipe_data\n",
        "    if \"title\" in x\n",
        "    and x[\"title\"] is not None\n",
        "    and \"directions\" in x\n",
        "    and x[\"directions\"] is not None\n",
        "]"
      ]
    },
    {
      "cell_type": "code",
      "execution_count": 5,
      "id": "389c20de-0422-4c48-a7b4-6ee12a7bf0e2",
      "metadata": {
        "colab": {
          "base_uri": "https://localhost:8080/"
        },
        "id": "389c20de-0422-4c48-a7b4-6ee12a7bf0e2",
        "outputId": "701bed87-c012-4934-d1dd-c553e94e9647"
      },
      "outputs": [
        {
          "output_type": "stream",
          "name": "stdout",
          "text": [
            "20111 recipes loaded\n"
          ]
        }
      ],
      "source": [
        "# Count the recipes\n",
        "n_recipes = len(filtered_data)\n",
        "print(f\"{n_recipes} recipes loaded\")"
      ]
    },
    {
      "cell_type": "code",
      "execution_count": 6,
      "id": "1b2e3cf7-e416-460e-874a-0dd9637bca36",
      "metadata": {
        "colab": {
          "base_uri": "https://localhost:8080/"
        },
        "id": "1b2e3cf7-e416-460e-874a-0dd9637bca36",
        "outputId": "2124c8ba-ba12-41cb-a071-823a8bcbb07a"
      },
      "outputs": [
        {
          "output_type": "stream",
          "name": "stdout",
          "text": [
            "Recipe for Ham Persillade with Mustard Potato Salad and Mashed Peas  | Chop enough parsley leaves to measure 1 tablespoon; reserve. Chop remaining leaves and stems and simmer with broth and garlic in a small saucepan, covered, 5 minutes. Meanwhile, sprinkle gelatin over water in a medium bowl and let soften 1 minute. Strain broth through a fine-mesh sieve into bowl with gelatin and stir to dissolve. Season with salt and pepper. Set bowl in an ice bath and cool to room temperature, stirring. Toss ham with reserved parsley and divide among jars. Pour gelatin on top and chill until set, at least 1 hour. Whisk together mayonnaise, mustard, vinegar, 1/4 teaspoon salt, and 1/4 teaspoon pepper in a large bowl. Stir in celery, cornichons, and potatoes. Pulse peas with marjoram, oil, 1/2 teaspoon pepper, and 1/4 teaspoon salt in a food processor to a coarse mash. Layer peas, then potato salad, over ham.\n"
          ]
        }
      ],
      "source": [
        "example = filtered_data[9]\n",
        "print(example)"
      ]
    },
    {
      "cell_type": "markdown",
      "id": "3f871aaf-d873-41c7-8946-e4eef7ac17c1",
      "metadata": {
        "id": "3f871aaf-d873-41c7-8946-e4eef7ac17c1"
      },
      "source": [
        "## 2. Tokenise the data"
      ]
    },
    {
      "cell_type": "code",
      "execution_count": 7,
      "id": "5b2064fb-5dcc-4657-b470-0928d10e2ddc",
      "metadata": {
        "id": "5b2064fb-5dcc-4657-b470-0928d10e2ddc"
      },
      "outputs": [],
      "source": [
        "# Pad the punctuation, to treat them as separate 'words'\n",
        "def pad_punctuation(s):\n",
        "    s = re.sub(f\"([{string.punctuation}])\", r\" \\1 \", s)\n",
        "    s = re.sub(\" +\", \" \", s)\n",
        "    return s\n",
        "\n",
        "\n",
        "text_data = [pad_punctuation(x) for x in filtered_data]"
      ]
    },
    {
      "cell_type": "code",
      "execution_count": 8,
      "id": "b87d7c65-9a46-492a-a5c0-a043b0d252f3",
      "metadata": {
        "colab": {
          "base_uri": "https://localhost:8080/",
          "height": 88
        },
        "id": "b87d7c65-9a46-492a-a5c0-a043b0d252f3",
        "outputId": "233fcac7-659d-4dbd-a55c-0973282b441f"
      },
      "outputs": [
        {
          "output_type": "execute_result",
          "data": {
            "text/plain": [
              "'Recipe for Ham Persillade with Mustard Potato Salad and Mashed Peas | Chop enough parsley leaves to measure 1 tablespoon ; reserve . Chop remaining leaves and stems and simmer with broth and garlic in a small saucepan , covered , 5 minutes . Meanwhile , sprinkle gelatin over water in a medium bowl and let soften 1 minute . Strain broth through a fine - mesh sieve into bowl with gelatin and stir to dissolve . Season with salt and pepper . Set bowl in an ice bath and cool to room temperature , stirring . Toss ham with reserved parsley and divide among jars . Pour gelatin on top and chill until set , at least 1 hour . Whisk together mayonnaise , mustard , vinegar , 1 / 4 teaspoon salt , and 1 / 4 teaspoon pepper in a large bowl . Stir in celery , cornichons , and potatoes . Pulse peas with marjoram , oil , 1 / 2 teaspoon pepper , and 1 / 4 teaspoon salt in a food processor to a coarse mash . Layer peas , then potato salad , over ham . '"
            ],
            "application/vnd.google.colaboratory.intrinsic+json": {
              "type": "string"
            }
          },
          "metadata": {},
          "execution_count": 8
        }
      ],
      "source": [
        "# Display an example of a recipe\n",
        "example_data = text_data[9]\n",
        "example_data"
      ]
    },
    {
      "cell_type": "code",
      "execution_count": 9,
      "id": "9834f916-b21a-4104-acc9-f28d3bd7a8c1",
      "metadata": {
        "id": "9834f916-b21a-4104-acc9-f28d3bd7a8c1"
      },
      "outputs": [],
      "source": [
        "# Convert to a Tensorflow Dataset\n",
        "text_ds = (\n",
        "    tf.data.Dataset.from_tensor_slices(text_data)\n",
        "    .batch(BATCH_SIZE)\n",
        "    .shuffle(1000)\n",
        ")"
      ]
    },
    {
      "cell_type": "code",
      "execution_count": 10,
      "id": "884c0bcb-0807-45a1-8f7e-a32f2c6fa4de",
      "metadata": {
        "id": "884c0bcb-0807-45a1-8f7e-a32f2c6fa4de"
      },
      "outputs": [],
      "source": [
        "# Create a vectorisation layer\n",
        "vectorize_layer = layers.TextVectorization(\n",
        "    standardize=\"lower\",\n",
        "    max_tokens=VOCAB_SIZE,\n",
        "    output_mode=\"int\",\n",
        "    output_sequence_length=MAX_LEN + 1,\n",
        ")"
      ]
    },
    {
      "cell_type": "code",
      "execution_count": 11,
      "id": "4d6dd34a-d905-497b-926a-405380ebcf98",
      "metadata": {
        "id": "4d6dd34a-d905-497b-926a-405380ebcf98"
      },
      "outputs": [],
      "source": [
        "# Adapt the layer to the training set\n",
        "vectorize_layer.adapt(text_ds)\n",
        "vocab = vectorize_layer.get_vocabulary()"
      ]
    },
    {
      "cell_type": "code",
      "execution_count": 12,
      "id": "f6c1c7ce-3cf0-40d4-a3dc-ab7090f69f2f",
      "metadata": {
        "colab": {
          "base_uri": "https://localhost:8080/"
        },
        "id": "f6c1c7ce-3cf0-40d4-a3dc-ab7090f69f2f",
        "outputId": "f1ad25e0-fad8-40d1-f79a-b372dc093138"
      },
      "outputs": [
        {
          "output_type": "stream",
          "name": "stdout",
          "text": [
            "0: \n",
            "1: [UNK]\n",
            "2: .\n",
            "3: ,\n",
            "4: and\n",
            "5: to\n",
            "6: in\n",
            "7: the\n",
            "8: with\n",
            "9: a\n"
          ]
        }
      ],
      "source": [
        "# Display some token:word mappings\n",
        "for i, word in enumerate(vocab[:10]):\n",
        "    print(f\"{i}: {word}\")"
      ]
    },
    {
      "cell_type": "code",
      "execution_count": 13,
      "id": "1cc30186-7ec6-4eb6-b29a-65df6714d321",
      "metadata": {
        "colab": {
          "base_uri": "https://localhost:8080/"
        },
        "id": "1cc30186-7ec6-4eb6-b29a-65df6714d321",
        "outputId": "18b38076-91e9-4570-b12f-7b773096ef7e"
      },
      "outputs": [
        {
          "output_type": "stream",
          "name": "stdout",
          "text": [
            "[  26   16  557    1    8  298  335  189    4 1054  494   27  332  228\n",
            "  235  262    5  594   11  133   22  311    2  332   45  262    4  671\n",
            "    4   70    8  171    4   81    6    9   65   80    3  121    3   59\n",
            "   12    2  299    3   88  650   20   39    6    9   29   21    4   67\n",
            "  529   11  164    2  320  171  102    9  374   13  643  306   25   21\n",
            "    8  650    4   42    5  931    2   63    8   24    4   33    2  114\n",
            "   21    6  178  181 1245    4   60    5  140  112    3   48    2  117\n",
            "  557    8  285  235    4  200  292  980    2  107  650   28   72    4\n",
            "  108   10  114    3   57  204   11  172    2   73  110  482    3  298\n",
            "    3  190    3   11   23   32  142   24    3    4   11   23   32  142\n",
            "   33    6    9   30   21    2   42    6  353    3 3224    3    4  150\n",
            "    2  437  494    8 1281    3   37    3   11   23   15  142   33    3\n",
            "    4   11   23   32  142   24    6    9  291  188    5    9  412  572\n",
            "    2  230  494    3   46  335  189    3   20  557    2    0    0    0\n",
            "    0    0    0    0    0]\n"
          ]
        }
      ],
      "source": [
        "# Display the same example converted to ints\n",
        "example_tokenised = vectorize_layer(example_data)\n",
        "print(example_tokenised.numpy())"
      ]
    },
    {
      "cell_type": "markdown",
      "id": "8c195efb-84c6-4be0-a989-a7542188ad35",
      "metadata": {
        "id": "8c195efb-84c6-4be0-a989-a7542188ad35"
      },
      "source": [
        "## 3. Create the Training Set"
      ]
    },
    {
      "cell_type": "code",
      "execution_count": 14,
      "id": "740294a1-1a6b-4c89-92f2-036d7d1b788b",
      "metadata": {
        "id": "740294a1-1a6b-4c89-92f2-036d7d1b788b"
      },
      "outputs": [],
      "source": [
        "# Create the training set of recipes and the same text shifted by one word\n",
        "def prepare_inputs(text):\n",
        "    text = tf.expand_dims(text, -1)\n",
        "    tokenized_sentences = vectorize_layer(text)\n",
        "    x = tokenized_sentences[:, :-1]\n",
        "    y = tokenized_sentences[:, 1:]\n",
        "    return x, y\n",
        "\n",
        "\n",
        "train_ds = text_ds.map(prepare_inputs)"
      ]
    },
    {
      "cell_type": "markdown",
      "id": "aff50401-3abe-4c10-bba8-b35bc13ad7d5",
      "metadata": {
        "id": "aff50401-3abe-4c10-bba8-b35bc13ad7d5"
      },
      "source": [
        "## 4. Build the LSTM <a name=\"build\"></a>"
      ]
    },
    {
      "cell_type": "code",
      "execution_count": 15,
      "id": "9230b5bf-b4a8-48d5-b73b-6899a598f296",
      "metadata": {
        "colab": {
          "base_uri": "https://localhost:8080/",
          "height": 257
        },
        "id": "9230b5bf-b4a8-48d5-b73b-6899a598f296",
        "outputId": "dc856656-0b63-4bac-e41f-c7f0c02fa626"
      },
      "outputs": [
        {
          "output_type": "display_data",
          "data": {
            "text/plain": [
              "\u001b[1mModel: \"functional\"\u001b[0m\n"
            ],
            "text/html": [
              "<pre style=\"white-space:pre;overflow-x:auto;line-height:normal;font-family:Menlo,'DejaVu Sans Mono',consolas,'Courier New',monospace\"><span style=\"font-weight: bold\">Model: \"functional\"</span>\n",
              "</pre>\n"
            ]
          },
          "metadata": {}
        },
        {
          "output_type": "display_data",
          "data": {
            "text/plain": [
              "┏━━━━━━━━━━━━━━━━━━━━━━━━━━━━━━━━━━━━━━┳━━━━━━━━━━━━━━━━━━━━━━━━━━━━━┳━━━━━━━━━━━━━━━━━┓\n",
              "┃\u001b[1m \u001b[0m\u001b[1mLayer (type)                        \u001b[0m\u001b[1m \u001b[0m┃\u001b[1m \u001b[0m\u001b[1mOutput Shape               \u001b[0m\u001b[1m \u001b[0m┃\u001b[1m \u001b[0m\u001b[1m        Param #\u001b[0m\u001b[1m \u001b[0m┃\n",
              "┡━━━━━━━━━━━━━━━━━━━━━━━━━━━━━━━━━━━━━━╇━━━━━━━━━━━━━━━━━━━━━━━━━━━━━╇━━━━━━━━━━━━━━━━━┩\n",
              "│ input_layer (\u001b[38;5;33mInputLayer\u001b[0m)             │ (\u001b[38;5;45mNone\u001b[0m, \u001b[38;5;45mNone\u001b[0m)                │               \u001b[38;5;34m0\u001b[0m │\n",
              "├──────────────────────────────────────┼─────────────────────────────┼─────────────────┤\n",
              "│ embedding (\u001b[38;5;33mEmbedding\u001b[0m)                │ (\u001b[38;5;45mNone\u001b[0m, \u001b[38;5;45mNone\u001b[0m, \u001b[38;5;34m100\u001b[0m)           │       \u001b[38;5;34m1,000,000\u001b[0m │\n",
              "├──────────────────────────────────────┼─────────────────────────────┼─────────────────┤\n",
              "│ lstm (\u001b[38;5;33mLSTM\u001b[0m)                          │ (\u001b[38;5;45mNone\u001b[0m, \u001b[38;5;45mNone\u001b[0m, \u001b[38;5;34m128\u001b[0m)           │         \u001b[38;5;34m117,248\u001b[0m │\n",
              "├──────────────────────────────────────┼─────────────────────────────┼─────────────────┤\n",
              "│ dense (\u001b[38;5;33mDense\u001b[0m)                        │ (\u001b[38;5;45mNone\u001b[0m, \u001b[38;5;45mNone\u001b[0m, \u001b[38;5;34m10000\u001b[0m)         │       \u001b[38;5;34m1,290,000\u001b[0m │\n",
              "└──────────────────────────────────────┴─────────────────────────────┴─────────────────┘\n"
            ],
            "text/html": [
              "<pre style=\"white-space:pre;overflow-x:auto;line-height:normal;font-family:Menlo,'DejaVu Sans Mono',consolas,'Courier New',monospace\">┏━━━━━━━━━━━━━━━━━━━━━━━━━━━━━━━━━━━━━━┳━━━━━━━━━━━━━━━━━━━━━━━━━━━━━┳━━━━━━━━━━━━━━━━━┓\n",
              "┃<span style=\"font-weight: bold\"> Layer (type)                         </span>┃<span style=\"font-weight: bold\"> Output Shape                </span>┃<span style=\"font-weight: bold\">         Param # </span>┃\n",
              "┡━━━━━━━━━━━━━━━━━━━━━━━━━━━━━━━━━━━━━━╇━━━━━━━━━━━━━━━━━━━━━━━━━━━━━╇━━━━━━━━━━━━━━━━━┩\n",
              "│ input_layer (<span style=\"color: #0087ff; text-decoration-color: #0087ff\">InputLayer</span>)             │ (<span style=\"color: #00d7ff; text-decoration-color: #00d7ff\">None</span>, <span style=\"color: #00d7ff; text-decoration-color: #00d7ff\">None</span>)                │               <span style=\"color: #00af00; text-decoration-color: #00af00\">0</span> │\n",
              "├──────────────────────────────────────┼─────────────────────────────┼─────────────────┤\n",
              "│ embedding (<span style=\"color: #0087ff; text-decoration-color: #0087ff\">Embedding</span>)                │ (<span style=\"color: #00d7ff; text-decoration-color: #00d7ff\">None</span>, <span style=\"color: #00d7ff; text-decoration-color: #00d7ff\">None</span>, <span style=\"color: #00af00; text-decoration-color: #00af00\">100</span>)           │       <span style=\"color: #00af00; text-decoration-color: #00af00\">1,000,000</span> │\n",
              "├──────────────────────────────────────┼─────────────────────────────┼─────────────────┤\n",
              "│ lstm (<span style=\"color: #0087ff; text-decoration-color: #0087ff\">LSTM</span>)                          │ (<span style=\"color: #00d7ff; text-decoration-color: #00d7ff\">None</span>, <span style=\"color: #00d7ff; text-decoration-color: #00d7ff\">None</span>, <span style=\"color: #00af00; text-decoration-color: #00af00\">128</span>)           │         <span style=\"color: #00af00; text-decoration-color: #00af00\">117,248</span> │\n",
              "├──────────────────────────────────────┼─────────────────────────────┼─────────────────┤\n",
              "│ dense (<span style=\"color: #0087ff; text-decoration-color: #0087ff\">Dense</span>)                        │ (<span style=\"color: #00d7ff; text-decoration-color: #00d7ff\">None</span>, <span style=\"color: #00d7ff; text-decoration-color: #00d7ff\">None</span>, <span style=\"color: #00af00; text-decoration-color: #00af00\">10000</span>)         │       <span style=\"color: #00af00; text-decoration-color: #00af00\">1,290,000</span> │\n",
              "└──────────────────────────────────────┴─────────────────────────────┴─────────────────┘\n",
              "</pre>\n"
            ]
          },
          "metadata": {}
        },
        {
          "output_type": "display_data",
          "data": {
            "text/plain": [
              "\u001b[1m Total params: \u001b[0m\u001b[38;5;34m2,407,248\u001b[0m (9.18 MB)\n"
            ],
            "text/html": [
              "<pre style=\"white-space:pre;overflow-x:auto;line-height:normal;font-family:Menlo,'DejaVu Sans Mono',consolas,'Courier New',monospace\"><span style=\"font-weight: bold\"> Total params: </span><span style=\"color: #00af00; text-decoration-color: #00af00\">2,407,248</span> (9.18 MB)\n",
              "</pre>\n"
            ]
          },
          "metadata": {}
        },
        {
          "output_type": "display_data",
          "data": {
            "text/plain": [
              "\u001b[1m Trainable params: \u001b[0m\u001b[38;5;34m2,407,248\u001b[0m (9.18 MB)\n"
            ],
            "text/html": [
              "<pre style=\"white-space:pre;overflow-x:auto;line-height:normal;font-family:Menlo,'DejaVu Sans Mono',consolas,'Courier New',monospace\"><span style=\"font-weight: bold\"> Trainable params: </span><span style=\"color: #00af00; text-decoration-color: #00af00\">2,407,248</span> (9.18 MB)\n",
              "</pre>\n"
            ]
          },
          "metadata": {}
        },
        {
          "output_type": "display_data",
          "data": {
            "text/plain": [
              "\u001b[1m Non-trainable params: \u001b[0m\u001b[38;5;34m0\u001b[0m (0.00 B)\n"
            ],
            "text/html": [
              "<pre style=\"white-space:pre;overflow-x:auto;line-height:normal;font-family:Menlo,'DejaVu Sans Mono',consolas,'Courier New',monospace\"><span style=\"font-weight: bold\"> Non-trainable params: </span><span style=\"color: #00af00; text-decoration-color: #00af00\">0</span> (0.00 B)\n",
              "</pre>\n"
            ]
          },
          "metadata": {}
        }
      ],
      "source": [
        "inputs = layers.Input(shape=(None,), dtype=\"int32\")\n",
        "x = layers.Embedding(VOCAB_SIZE, EMBEDDING_DIM)(inputs)\n",
        "x = layers.LSTM(N_UNITS, return_sequences=True)(x)\n",
        "outputs = layers.Dense(VOCAB_SIZE, activation=\"softmax\")(x)\n",
        "lstm = models.Model(inputs, outputs)\n",
        "lstm.summary()"
      ]
    },
    {
      "cell_type": "code",
      "execution_count": 16,
      "id": "800a3c6e-fb11-4792-b6bc-9a43a7c977ad",
      "metadata": {
        "id": "800a3c6e-fb11-4792-b6bc-9a43a7c977ad"
      },
      "outputs": [],
      "source": [
        "if LOAD_MODEL:\n",
        "    # model.load_weights('./models/model')\n",
        "    lstm = models.load_model(\"./models/lstm\", compile=False)"
      ]
    },
    {
      "cell_type": "markdown",
      "id": "35b14665-4359-447b-be58-3fd58ba69084",
      "metadata": {
        "id": "35b14665-4359-447b-be58-3fd58ba69084"
      },
      "source": [
        "## 5. Train the LSTM <a name=\"train\"></a>"
      ]
    },
    {
      "cell_type": "code",
      "execution_count": 17,
      "id": "ffb1bd3b-6fd9-4536-973e-6375bbcbf16d",
      "metadata": {
        "id": "ffb1bd3b-6fd9-4536-973e-6375bbcbf16d"
      },
      "outputs": [],
      "source": [
        "loss_fn = losses.SparseCategoricalCrossentropy()\n",
        "lstm.compile(\"adam\", loss_fn)"
      ]
    },
    {
      "cell_type": "code",
      "execution_count": 18,
      "id": "3ddcff5f-829d-4449-99d2-9a3cb68f7d72",
      "metadata": {
        "id": "3ddcff5f-829d-4449-99d2-9a3cb68f7d72"
      },
      "outputs": [],
      "source": [
        "# Create a TextGenerator checkpoint\n",
        "class TextGenerator(callbacks.Callback):\n",
        "    def __init__(self, index_to_word, top_k=10):\n",
        "        self.index_to_word = index_to_word\n",
        "        self.word_to_index = {\n",
        "            word: index for index, word in enumerate(index_to_word)\n",
        "        }  # <1>\n",
        "\n",
        "    def sample_from(self, probs, temperature):  # <2>\n",
        "        probs = probs ** (1 / temperature)\n",
        "        probs = probs / np.sum(probs)\n",
        "        return np.random.choice(len(probs), p=probs), probs\n",
        "\n",
        "    def generate(self, start_prompt, max_tokens, temperature):\n",
        "        start_tokens = [\n",
        "            self.word_to_index.get(x, 1) for x in start_prompt.split()\n",
        "        ]  # <3>\n",
        "        sample_token = None\n",
        "        info = []\n",
        "        while len(start_tokens) < max_tokens and sample_token != 0:  # <4>\n",
        "            x = np.array([start_tokens])\n",
        "            y = self.model.predict(x, verbose=0)  # <5>\n",
        "            sample_token, probs = self.sample_from(y[0][-1], temperature)  # <6>\n",
        "            info.append({\"prompt\": start_prompt, \"word_probs\": probs})\n",
        "            start_tokens.append(sample_token)  # <7>\n",
        "            start_prompt = start_prompt + \" \" + self.index_to_word[sample_token]\n",
        "        print(f\"\\ngenerated text:{start_prompt}\\n\")\n",
        "        return info\n",
        "\n",
        "    def on_epoch_end(self, epoch, logs=None):\n",
        "        self.generate(\"recipe for\", max_tokens=100, temperature=1.0)"
      ]
    },
    {
      "cell_type": "code",
      "execution_count": 19,
      "id": "349865fe-ffbe-450e-97be-043ae1740e78",
      "metadata": {
        "id": "349865fe-ffbe-450e-97be-043ae1740e78"
      },
      "outputs": [],
      "source": [
        "# Create a model save checkpoint\n",
        "model_checkpoint_callback = callbacks.ModelCheckpoint(\n",
        "    filepath=\"./checkpoint.ckpt.weights.h5\",\n",
        "    save_weights_only=True,\n",
        "    save_freq=\"epoch\",\n",
        "    verbose=0,\n",
        ")\n",
        "\n",
        "tensorboard_callback = callbacks.TensorBoard(log_dir=\"./logs\")\n",
        "\n",
        "# Tokenize starting prompt\n",
        "text_generator = TextGenerator(vocab)"
      ]
    },
    {
      "cell_type": "code",
      "execution_count": 20,
      "id": "461c2b3e-b5ae-4def-8bd9-e7bab8c63d8e",
      "metadata": {
        "colab": {
          "base_uri": "https://localhost:8080/"
        },
        "id": "461c2b3e-b5ae-4def-8bd9-e7bab8c63d8e",
        "outputId": "c5c8726f-f750-4b94-a3e5-ba3ccde88954"
      },
      "outputs": [
        {
          "output_type": "stream",
          "name": "stdout",
          "text": [
            "Epoch 1/25\n",
            "\u001b[1m629/629\u001b[0m \u001b[32m━━━━━━━━━━━━━━━━━━━━\u001b[0m\u001b[37m\u001b[0m \u001b[1m0s\u001b[0m 41ms/step - loss: 5.0046\n",
            "generated text:recipe for apples \n",
            "\n",
            "\u001b[1m629/629\u001b[0m \u001b[32m━━━━━━━━━━━━━━━━━━━━\u001b[0m\u001b[37m\u001b[0m \u001b[1m30s\u001b[0m 42ms/step - loss: 5.0033\n",
            "Epoch 2/25\n",
            "\u001b[1m629/629\u001b[0m \u001b[32m━━━━━━━━━━━━━━━━━━━━\u001b[0m\u001b[37m\u001b[0m \u001b[1m0s\u001b[0m 41ms/step - loss: 3.0644\n",
            "generated text:recipe for heatproof salad with chile , and triple berries | anchovies in a large heavy pot over moderate heat 2 ingredients . add the red radicchio , refresh tomatoes , stir , uncovered , and 1 minute . brown in the other pan , and bring seeds to a boil to one dish . place in each dutch heat over medium heat until stock . about 3 minutes . cook yolks , shred tamarind water , about 30 minutes . add filling , then process until tender slightly wrap , stirring , and turning occasionally , covered , then\n",
            "\n",
            "\u001b[1m629/629\u001b[0m \u001b[32m━━━━━━━━━━━━━━━━━━━━\u001b[0m\u001b[37m\u001b[0m \u001b[1m33s\u001b[0m 52ms/step - loss: 3.0641\n",
            "Epoch 3/25\n",
            "\u001b[1m628/629\u001b[0m \u001b[32m━━━━━━━━━━━━━━━━━━━\u001b[0m\u001b[37m━\u001b[0m \u001b[1m0s\u001b[0m 41ms/step - loss: 2.5369\n",
            "generated text:recipe for roasted bluefish | place a rack on large rimmed baking sheet . in a heavy saucepan melt the olive oil in grill pan with 2 cup packed . add crème ingredients and the orange cream at base , paprika , 1 minute , stirring , until very combined golden , and stir cream in a medium saucepan over 1 4 / 4 cup water . sprinkle with salt and pepper . \n",
            "\n",
            "\u001b[1m629/629\u001b[0m \u001b[32m━━━━━━━━━━━━━━━━━━━━\u001b[0m\u001b[37m\u001b[0m \u001b[1m30s\u001b[0m 48ms/step - loss: 2.5367\n",
            "Epoch 4/25\n",
            "\u001b[1m628/629\u001b[0m \u001b[32m━━━━━━━━━━━━━━━━━━━\u001b[0m\u001b[37m━\u001b[0m \u001b[1m0s\u001b[0m 42ms/step - loss: 2.2838\n",
            "generated text:recipe for swordfish with lemon parsley , garlic , olives , and jalapeño | preheat oven to 425°f . brush butter stalks over halfway through , uncovered , and gently pulse to coat of brush with confectioners no . immediately divide potatoes among loosely loaves . bake curd until lightly charred , 40–50 minutes . transfer cupcakes to cardboard broiler up , and foil after each of fresh to coat with 3 / 2 ounces each of peanuts and each dressing . arrange crust over stack side up , to mixing sides , each powder and 2 cookie . do\n",
            "\n",
            "\u001b[1m629/629\u001b[0m \u001b[32m━━━━━━━━━━━━━━━━━━━━\u001b[0m\u001b[37m\u001b[0m \u001b[1m33s\u001b[0m 52ms/step - loss: 2.2837\n",
            "Epoch 5/25\n",
            "\u001b[1m629/629\u001b[0m \u001b[32m━━━━━━━━━━━━━━━━━━━━\u001b[0m\u001b[37m\u001b[0m \u001b[1m0s\u001b[0m 42ms/step - loss: 2.1290\n",
            "generated text:recipe for date and pecans pineapple together | grate the and peppers in a large heavy bowl and toss to turn . roast , spreading out in bottom of burners , until hot , about 20 minutes . transfer cheese to a ripe pan , then transfer to a large resealable plastic bag and sprinkle with peas , then \n",
            "\n",
            "\u001b[1m629/629\u001b[0m \u001b[32m━━━━━━━━━━━━━━━━━━━━\u001b[0m\u001b[37m\u001b[0m \u001b[1m30s\u001b[0m 47ms/step - loss: 2.1290\n",
            "Epoch 6/25\n",
            "\u001b[1m629/629\u001b[0m \u001b[32m━━━━━━━━━━━━━━━━━━━━\u001b[0m\u001b[37m\u001b[0m \u001b[1m0s\u001b[0m 42ms/step - loss: 2.0228\n",
            "generated text:recipe for wild baby vermont pork in peaches chicken | in a large saucepan combine the raspberries the soft the celery powder , with miso , the worcestershire sauce and the nutmeg , and cook until the next are the pasta comes the time , about 25 seconds , then let squeeze it into a wooden spoon . remove the the fat from the broils . for the soup has very soft , gradually add the browned to a stovetop and strain the mixture through a fine - mesh spinner , pan from water if using on stockpot . put\n",
            "\n",
            "\u001b[1m629/629\u001b[0m \u001b[32m━━━━━━━━━━━━━━━━━━━━\u001b[0m\u001b[37m\u001b[0m \u001b[1m33s\u001b[0m 52ms/step - loss: 2.0228\n",
            "Epoch 7/25\n",
            "\u001b[1m628/629\u001b[0m \u001b[32m━━━━━━━━━━━━━━━━━━━\u001b[0m\u001b[37m━\u001b[0m \u001b[1m0s\u001b[0m 42ms/step - loss: 1.9658\n",
            "generated text:recipe for chocolate cream and roll dough | combine all the ingredients to dissolve sugar , cream , into a small bowl . cook in the brandy until tender but not the touch , about 10 by 30 minutes . add the next 4 cups maximum pots to 1 cup crushed oregano , and stir until it is soft and the notes and beat it just before proceeding with a rubber mixer , until blended and light if you ' re punch , know the dough will fit over with the heat . the blender , covered , covered and\n",
            "\n",
            "\u001b[1m629/629\u001b[0m \u001b[32m━━━━━━━━━━━━━━━━━━━━\u001b[0m\u001b[37m\u001b[0m \u001b[1m33s\u001b[0m 52ms/step - loss: 1.9658\n",
            "Epoch 8/25\n",
            "\u001b[1m629/629\u001b[0m \u001b[32m━━━━━━━━━━━━━━━━━━━━\u001b[0m\u001b[37m\u001b[0m \u001b[1m0s\u001b[0m 43ms/step - loss: 1.9032\n",
            "generated text:recipe for orange - mustard and dashi spread | 1 . crème anglaise can be prepared up to 1 day in advance . increase oven temperature to room temperature and refrigerate overnight , about 2 - shaped wedges on the cakes , and top with the whole peppers . measure squash and 1 separately in 13x9x2 x bowl . broil sausage in large pot of boiling salted cooking water in same pot . simmer uncovered until next , 15 very heated minutes . season with salt and pepper . preheat oven to 350°f . sprinkle with salt ; whisk 1\n",
            "\n",
            "\u001b[1m629/629\u001b[0m \u001b[32m━━━━━━━━━━━━━━━━━━━━\u001b[0m\u001b[37m\u001b[0m \u001b[1m42s\u001b[0m 53ms/step - loss: 1.9032\n",
            "Epoch 9/25\n",
            "\u001b[1m629/629\u001b[0m \u001b[32m━━━━━━━━━━━━━━━━━━━━\u001b[0m\u001b[37m\u001b[0m \u001b[1m0s\u001b[0m 43ms/step - loss: 1.8586\n",
            "generated text:recipe for ultimate are mace stir | combine sugar , butter , brown sugar and mushrooms in medium bowl to whisk buttermilk , swirling pan . add flour , honey , and 1 / 4 cup almond from vanilla ; whisk to combine to extract and beat until cream cheese melts . stir in crystallized lemon peel . pour raspberry syrup into large bowl ; stir 2 to 25 minutes . pour in 2 cup glasses and fold back into beet mixture into yolk mixture . chill until cold mixture , about 3 to 30 minutes . ( can be\n",
            "\n",
            "\u001b[1m629/629\u001b[0m \u001b[32m━━━━━━━━━━━━━━━━━━━━\u001b[0m\u001b[37m\u001b[0m \u001b[1m33s\u001b[0m 53ms/step - loss: 1.8585\n",
            "Epoch 10/25\n",
            "\u001b[1m629/629\u001b[0m \u001b[32m━━━━━━━━━━━━━━━━━━━━\u001b[0m\u001b[37m\u001b[0m \u001b[1m0s\u001b[0m 43ms/step - loss: 1.8056\n",
            "generated text:recipe for curried beet salad with kid barbecue sauce | then other ovenproof same mugs , combine the cabbage and lettuce wedges slightly with a sharp paring knife . cut the tomato mixture into equal wedges , including hard and pith , and walnut triangles with the diagonal into a 1 / 4 - inch - thick slices . if you like the croquettes pulled out pimentón , which is nontempered , flavored the cream through 8 to 1 / 2 - cup ) and 1 - plenty of garlic . \n",
            "\n",
            "\u001b[1m629/629\u001b[0m \u001b[32m━━━━━━━━━━━━━━━━━━━━\u001b[0m\u001b[37m\u001b[0m \u001b[1m41s\u001b[0m 52ms/step - loss: 1.8055\n",
            "Epoch 11/25\n",
            "\u001b[1m628/629\u001b[0m \u001b[32m━━━━━━━━━━━━━━━━━━━\u001b[0m\u001b[37m━\u001b[0m \u001b[1m0s\u001b[0m 43ms/step - loss: 1.7689\n",
            "generated text:recipe for mexican baked cranberry mixture | preheat oven to 400°f . spray rimmed baking sheet with plastic wrap . toss grapes , cilantro , pepper 1 / 4 cup basil , and 1 / 2 cup sugar in another bowl . whisk buttermilk , walnuts , oats , egg and butter until melted and fluffy . melt 1 tablespoon butter in heavy medium saucepan over low heat until any solids in color , about 7 minutes . carefully whisk cream and egg whites in sugar mixture without salt and stir into curd until firm peaks . fill bowl of\n",
            "\n",
            "\u001b[1m629/629\u001b[0m \u001b[32m━━━━━━━━━━━━━━━━━━━━\u001b[0m\u001b[37m\u001b[0m \u001b[1m34s\u001b[0m 54ms/step - loss: 1.7689\n",
            "Epoch 12/25\n",
            "\u001b[1m628/629\u001b[0m \u001b[32m━━━━━━━━━━━━━━━━━━━\u001b[0m\u001b[37m━\u001b[0m \u001b[1m0s\u001b[0m 44ms/step - loss: 1.7294\n",
            "generated text:recipe for sparkling chile sauce | place chilies in processor and then add oil ingredients to coat . pat dry . repeat chile 15x10x2 - inch - fashioned glass . \n",
            "\n",
            "\u001b[1m629/629\u001b[0m \u001b[32m━━━━━━━━━━━━━━━━━━━━\u001b[0m\u001b[37m\u001b[0m \u001b[1m29s\u001b[0m 47ms/step - loss: 1.7294\n",
            "Epoch 13/25\n",
            "\u001b[1m629/629\u001b[0m \u001b[32m━━━━━━━━━━━━━━━━━━━━\u001b[0m\u001b[37m\u001b[0m \u001b[1m0s\u001b[0m 44ms/step - loss: 1.7112\n",
            "generated text:recipe for garlicky rice | bring 2 cups broth and water to boil in heavy medium saucepan ( if using ) . heat over medium - low heat until mixture thickens , about 3 minutes . add butter , and 1 / 2 cup gochujang to skillet and bring to simmer . reduce heat to medium - low ; simmer until chili is slightly reduced , about 10 minutes . sprinkle mushroom mixture over cauliflower and herbs , drizzle with remaining tablespoon oil . sprinkle with 1 / 3 cup sugar . grill until just cooked through , about 4\n",
            "\n",
            "\u001b[1m629/629\u001b[0m \u001b[32m━━━━━━━━━━━━━━━━━━━━\u001b[0m\u001b[37m\u001b[0m \u001b[1m46s\u001b[0m 55ms/step - loss: 1.7112\n",
            "Epoch 14/25\n",
            "\u001b[1m628/629\u001b[0m \u001b[32m━━━━━━━━━━━━━━━━━━━\u001b[0m\u001b[37m━\u001b[0m \u001b[1m0s\u001b[0m 44ms/step - loss: 1.6800\n",
            "generated text:recipe for vidalia olive oil aioli | stir 1 spinach into large bowl . heat oil in large skillet over medium - high heat . add white salted water and sauté until translucent , about 4 minutes . gradually add 1 1 / 2 cups water ; simmer until lentils are tender and beginning to soften , about 12 minutes . salt and add potato syrup , onion , and bacon and heat and stir 1 minute . stir in reserved cooking liquid , salt , broccoli and cook , stirring occasionally . bring to simmer . remove from heat\n",
            "\n",
            "\u001b[1m629/629\u001b[0m \u001b[32m━━━━━━━━━━━━━━━━━━━━\u001b[0m\u001b[37m\u001b[0m \u001b[1m34s\u001b[0m 54ms/step - loss: 1.6801\n",
            "Epoch 15/25\n",
            "\u001b[1m629/629\u001b[0m \u001b[32m━━━━━━━━━━━━━━━━━━━━\u001b[0m\u001b[37m\u001b[0m \u001b[1m0s\u001b[0m 43ms/step - loss: 1.6621\n",
            "generated text:recipe for crispy chicken stuffed swordfish | cook tarragon in oil in a 12 - inch heavy skillet over moderate heat , stirring occasionally , until browned and soft , 5 to 8 minutes . plunge through dashi into a large bowl , cover with a rubber spoon or colander . transfer and ricotta . in another bowl and gently mix the salt and pepper to combine . transfer a large to processor and mash with buttermilk and cheese and stir well into vegetables . let sit at room temperature 15 minutes before eating ( do not overcook . )\n",
            "\n",
            "\u001b[1m629/629\u001b[0m \u001b[32m━━━━━━━━━━━━━━━━━━━━\u001b[0m\u001b[37m\u001b[0m \u001b[1m40s\u001b[0m 54ms/step - loss: 1.6621\n",
            "Epoch 16/25\n",
            "\u001b[1m629/629\u001b[0m \u001b[32m━━━━━━━━━━━━━━━━━━━━\u001b[0m\u001b[37m\u001b[0m \u001b[1m0s\u001b[0m 43ms/step - loss: 1.6526\n",
            "generated text:recipe for penne with garlic icing , goat cheese and tom mayo or ancho pepper chili | in a large nonstick skillet heat 2 tablespoons of oil over moderate heat until hot but foam subsides , onions , and cumin seeds and thyme . transfer to skillet with slow , then oil . meanwhile , cook spaghetti in large pot of boiling salted water until crisp - tender , about 6 minutes . drain vegetables in foil and pour through a colander and transfer to a bowl set to a bowl . cook tofu in boiling water until a soft\n",
            "\n",
            "\u001b[1m629/629\u001b[0m \u001b[32m━━━━━━━━━━━━━━━━━━━━\u001b[0m\u001b[37m\u001b[0m \u001b[1m34s\u001b[0m 54ms/step - loss: 1.6526\n",
            "Epoch 17/25\n",
            "\u001b[1m628/629\u001b[0m \u001b[32m━━━━━━━━━━━━━━━━━━━\u001b[0m\u001b[37m━\u001b[0m \u001b[1m0s\u001b[0m 43ms/step - loss: 1.6398\n",
            "generated text:recipe for leek and dried coconut | ( if you will leave out bowl after handle and previously collapse , see using sharp knife , [UNK] segment of any dark white membrane of tan . remove ginger skins from the berries and remove the seeds from orange rind , and cool to soften . before you plan to remove down the bottom of the bowl ; set aside . fried the grate 1 / 4 cup of vegetable oil into a bowl ; in a bowl combine the vinegar , the sugar , the flours , 1 / 2 teaspoon\n",
            "\n",
            "\u001b[1m629/629\u001b[0m \u001b[32m━━━━━━━━━━━━━━━━━━━━\u001b[0m\u001b[37m\u001b[0m \u001b[1m33s\u001b[0m 53ms/step - loss: 1.6398\n",
            "Epoch 18/25\n",
            "\u001b[1m628/629\u001b[0m \u001b[32m━━━━━━━━━━━━━━━━━━━\u001b[0m\u001b[37m━\u001b[0m \u001b[1m0s\u001b[0m 44ms/step - loss: 1.6219\n",
            "generated text:recipe for vegetable and chocolate cakes with cheddar cheese freezer | melt butter in heavy medium saucepan over medium - high heat . add ginger and rub ( do not potatoes should be brown through ) . add flour and whisk to blend . return saucepan ; boil 2 minutes . add pears , then dried cherries . return beans to pot . bring to boil , cover and reduce heat to 350°f . remove pan from heat , then transfer to a bowl of cold water . scrape down sides of pan . whisk cornmeal , cocoa , coconut\n",
            "\n",
            "\u001b[1m629/629\u001b[0m \u001b[32m━━━━━━━━━━━━━━━━━━━━\u001b[0m\u001b[37m\u001b[0m \u001b[1m42s\u001b[0m 54ms/step - loss: 1.6219\n",
            "Epoch 19/25\n",
            "\u001b[1m628/629\u001b[0m \u001b[32m━━━━━━━━━━━━━━━━━━━\u001b[0m\u001b[37m━\u001b[0m \u001b[1m0s\u001b[0m 44ms/step - loss: 1.6066\n",
            "generated text:recipe for molasses - crème brûlée | preheat the oven to 375°f . butter two of a 2 - cup soufflé or other small , 2 . trim the base into a 9 - inch - thick round ; fit it into a 13 - quart cavity and gently tap out all into it . enclose butter in cold cold water in a 13 - inch pieces and scrape them as squeezed , separate pulp from out excess flour and discarding pod . in large bowl , mix cottage cheese , and vanilla . coarsely chop soft enough to hold\n",
            "\n",
            "\u001b[1m629/629\u001b[0m \u001b[32m━━━━━━━━━━━━━━━━━━━━\u001b[0m\u001b[37m\u001b[0m \u001b[1m34s\u001b[0m 54ms/step - loss: 1.6066\n",
            "Epoch 20/25\n",
            "\u001b[1m629/629\u001b[0m \u001b[32m━━━━━━━━━━━━━━━━━━━━\u001b[0m\u001b[37m\u001b[0m \u001b[1m0s\u001b[0m 44ms/step - loss: 1.5980\n",
            "generated text:recipe for red bell pepper and rosemary salad | dissolve salt in heavy medium pot . add oxtails ; set , uncovered , over high heat until just tender , stirring 30 to 35 minutes . remove from heat . add wine and boil 1 minute . set aside . pour goat cheese over bread to potatoes ; drizzle with oil . roast until vegetables begin to brown and rice are tender , about 20 minutes . discard cinnamon stick . cut radishes into 1 - inch squares . do ahead : can be made 1 day ahead . chill\n",
            "\n",
            "\u001b[1m629/629\u001b[0m \u001b[32m━━━━━━━━━━━━━━━━━━━━\u001b[0m\u001b[37m\u001b[0m \u001b[1m33s\u001b[0m 53ms/step - loss: 1.5980\n",
            "Epoch 21/25\n",
            "\u001b[1m629/629\u001b[0m \u001b[32m━━━━━━━━━━━━━━━━━━━━\u001b[0m\u001b[37m\u001b[0m \u001b[1m0s\u001b[0m 44ms/step - loss: 1.5840\n",
            "generated text:recipe for apple salad with spiced pineapple | place the strainer directly on the hot grate to remove any loose shells . set aside . pour 1 quart rice water into heavy cocktail small saucepan ; reserve . place lids in medium saucepan . bring to boil over high heat . reduce to cover . simmer for about 3 minutes . reduce heat and whisk until very smooth , stirring frequently , about 8 minutes . return to boil , stirring until sugar dissolves , about 2 minutes . cool . toss salad with gremolata ; spray blend and serve\n",
            "\n",
            "\u001b[1m629/629\u001b[0m \u001b[32m━━━━━━━━━━━━━━━━━━━━\u001b[0m\u001b[37m\u001b[0m \u001b[1m42s\u001b[0m 54ms/step - loss: 1.5840\n",
            "Epoch 22/25\n",
            "\u001b[1m628/629\u001b[0m \u001b[32m━━━━━━━━━━━━━━━━━━━\u001b[0m\u001b[37m━\u001b[0m \u001b[1m0s\u001b[0m 44ms/step - loss: 1.5631\n",
            "generated text:recipe for thai fish stock | wash cabbage leaves and in a small saucepan of boiling water ( about 1 / 2 quarts water ) and simmer , stirring occasionally , until liquid - tender , 20 - 6 minutes . ( purée dumplings begin to grind to give to a full boil . pour this stock into a bundle and boiling water in a 4 - quart pot of water , soak lid occasionally , until figs are fennel is a tender , about 20 minutes . drain pasta , rinse with cold water , discarding liquid . halve\n",
            "\n",
            "\u001b[1m629/629\u001b[0m \u001b[32m━━━━━━━━━━━━━━━━━━━━\u001b[0m\u001b[37m\u001b[0m \u001b[1m34s\u001b[0m 54ms/step - loss: 1.5631\n",
            "Epoch 23/25\n",
            "\u001b[1m628/629\u001b[0m \u001b[32m━━━━━━━━━━━━━━━━━━━\u001b[0m\u001b[37m━\u001b[0m \u001b[1m0s\u001b[0m 43ms/step - loss: 1.5585\n",
            "generated text:recipe for spiced sweet - \" cake sauté | using small brioches , cut off eggs . cut a egg into 1 / 2 - inch - thick slices ( be careful not to hold ricotta ) . brush potatoes with 1 tablespoon oil . top with egg mixture . transfer right side up to middle of a buttered 3 - up 7 - inch - degree about 2 - quart gratin pudding mold , then let it stand up to 5 x in a very large deep , buttered 1 - 2 - quart baking dish ; lined with\n",
            "\n",
            "\u001b[1m629/629\u001b[0m \u001b[32m━━━━━━━━━━━━━━━━━━━━\u001b[0m\u001b[37m\u001b[0m \u001b[1m33s\u001b[0m 52ms/step - loss: 1.5585\n",
            "Epoch 24/25\n",
            "\u001b[1m628/629\u001b[0m \u001b[32m━━━━━━━━━━━━━━━━━━━\u001b[0m\u001b[37m━\u001b[0m \u001b[1m0s\u001b[0m 43ms/step - loss: 1.5481\n",
            "generated text:recipe for pan - wrapped fish with candied ginger , bay leaves | preheat oven to 400°f . place salmon on baking sheet . bake until juices form , about 40 minutes . discard remaining basil sprigs . wash spinach in hot ; reserve cooking liquid . slice tomatoes diagonally ; cut crosswise into 3 x 6 - inch lengths . using on / off turns , use 2 tablespoons ( depending on brand of rice ) , add melted butter , 1 / 4 cup chopped green nuts , 2 tablespoons green chipotles ; toss . let stand at\n",
            "\n",
            "\u001b[1m629/629\u001b[0m \u001b[32m━━━━━━━━━━━━━━━━━━━━\u001b[0m\u001b[37m\u001b[0m \u001b[1m42s\u001b[0m 53ms/step - loss: 1.5482\n",
            "Epoch 25/25\n",
            "\u001b[1m629/629\u001b[0m \u001b[32m━━━━━━━━━━━━━━━━━━━━\u001b[0m\u001b[37m\u001b[0m \u001b[1m0s\u001b[0m 43ms/step - loss: 1.5340\n",
            "generated text:recipe for yogurt , garlic , and scallions | bring kumquats , sugar , coriander , water , and a pinch of salt in a bowl to a boil and reduce heat to medium and cover ; chill . ( stock makes a heatproof soup before using a fondue measure ( medium ) 2 cups tomato and 2 wild sauce except trout ; heat until melted . reduce the heat to a sauce , then add noodle relish to the glass . \n",
            "\n",
            "\u001b[1m629/629\u001b[0m \u001b[32m━━━━━━━━━━━━━━━━━━━━\u001b[0m\u001b[37m\u001b[0m \u001b[1m32s\u001b[0m 51ms/step - loss: 1.5340\n"
          ]
        },
        {
          "output_type": "execute_result",
          "data": {
            "text/plain": [
              "<keras.src.callbacks.history.History at 0x790a25f64040>"
            ]
          },
          "metadata": {},
          "execution_count": 20
        }
      ],
      "source": [
        "lstm.fit(\n",
        "    train_ds,\n",
        "    epochs=EPOCHS,\n",
        "    callbacks=[model_checkpoint_callback, tensorboard_callback, text_generator],\n",
        ")"
      ]
    },
    {
      "cell_type": "code",
      "execution_count": 21,
      "id": "369bde44-2e39-4bc6-8549-a3a27ecce55c",
      "metadata": {
        "id": "369bde44-2e39-4bc6-8549-a3a27ecce55c"
      },
      "outputs": [],
      "source": [
        "# Save the final model\n",
        "lstm.save(\"./lstm.keras\")"
      ]
    },
    {
      "cell_type": "markdown",
      "id": "d64e02d2-84dc-40c8-8446-40c09adf1e20",
      "metadata": {
        "id": "d64e02d2-84dc-40c8-8446-40c09adf1e20"
      },
      "source": [
        "## 6. Generate text using the LSTM"
      ]
    },
    {
      "cell_type": "code",
      "execution_count": 22,
      "id": "4ad23adb-3ec9-4e9a-9a59-b9f9bafca649",
      "metadata": {
        "id": "4ad23adb-3ec9-4e9a-9a59-b9f9bafca649"
      },
      "outputs": [],
      "source": [
        "def print_probs(info, vocab, top_k=5):\n",
        "    for i in info:\n",
        "        print(f\"\\nPROMPT: {i['prompt']}\")\n",
        "        word_probs = i[\"word_probs\"]\n",
        "        p_sorted = np.sort(word_probs)[::-1][:top_k]\n",
        "        i_sorted = np.argsort(word_probs)[::-1][:top_k]\n",
        "        for p, i in zip(p_sorted, i_sorted):\n",
        "            print(f\"{vocab[i]}:   \\t{np.round(100*p,2)}%\")\n",
        "        print(\"--------\\n\")"
      ]
    },
    {
      "cell_type": "code",
      "execution_count": 23,
      "id": "3cf25578-d47c-4b26-8252-fcdf2316a4ac",
      "metadata": {
        "id": "3cf25578-d47c-4b26-8252-fcdf2316a4ac",
        "colab": {
          "base_uri": "https://localhost:8080/"
        },
        "outputId": "c4290e61-6e1e-4d58-f318-f5061c5f4f5f"
      },
      "outputs": [
        {
          "output_type": "stream",
          "name": "stdout",
          "text": [
            "\n",
            "generated text:recipe for roasted vegetables | chop 1 / 4 pound\n",
            "\n"
          ]
        }
      ],
      "source": [
        "info = text_generator.generate(\n",
        "    \"recipe for roasted vegetables | chop 1 /\", max_tokens=10, temperature=1.0\n",
        ")"
      ]
    },
    {
      "cell_type": "code",
      "execution_count": 24,
      "id": "9df72866-b483-4489-8e26-d5e1466410fa",
      "metadata": {
        "id": "9df72866-b483-4489-8e26-d5e1466410fa",
        "colab": {
          "base_uri": "https://localhost:8080/"
        },
        "outputId": "88eb7557-db81-4c71-d3dc-44e213951799"
      },
      "outputs": [
        {
          "output_type": "stream",
          "name": "stdout",
          "text": [
            "\n",
            "PROMPT: recipe for roasted vegetables | chop 1 /\n",
            "4:   \t41.08%\n",
            "2:   \t38.03%\n",
            "3:   \t16.85%\n",
            "8:   \t1.45%\n",
            "1:   \t0.76%\n",
            "--------\n",
            "\n",
            "\n",
            "PROMPT: recipe for roasted vegetables | chop 1 / 4\n",
            "cup:   \t47.84%\n",
            "of:   \t10.88%\n",
            "inch:   \t9.48%\n",
            "teaspoon:   \t6.86%\n",
            "pound:   \t4.47%\n",
            "--------\n",
            "\n"
          ]
        }
      ],
      "source": [
        "print_probs(info, vocab)"
      ]
    },
    {
      "cell_type": "code",
      "execution_count": 25,
      "id": "562e1fe8-cbcb-438f-9637-2f2a6279c924",
      "metadata": {
        "id": "562e1fe8-cbcb-438f-9637-2f2a6279c924",
        "colab": {
          "base_uri": "https://localhost:8080/"
        },
        "outputId": "13a5c511-27c0-420a-e099-a0a3eb3c9fde"
      },
      "outputs": [
        {
          "output_type": "stream",
          "name": "stdout",
          "text": [
            "\n",
            "generated text:recipe for roasted vegetables | chop 1 / 4 cup\n",
            "\n"
          ]
        }
      ],
      "source": [
        "info = text_generator.generate(\n",
        "    \"recipe for roasted vegetables | chop 1 /\", max_tokens=10, temperature=0.5\n",
        ")"
      ]
    },
    {
      "cell_type": "code",
      "execution_count": 26,
      "id": "56356f21-04ac-40e5-94ff-291eca6a7054",
      "metadata": {
        "id": "56356f21-04ac-40e5-94ff-291eca6a7054",
        "colab": {
          "base_uri": "https://localhost:8080/"
        },
        "outputId": "b87bd2b3-f2ef-4cc8-f946-7ad0d6827f21"
      },
      "outputs": [
        {
          "output_type": "stream",
          "name": "stdout",
          "text": [
            "\n",
            "PROMPT: recipe for roasted vegetables | chop 1 /\n",
            "4:   \t49.33%\n",
            "2:   \t42.28%\n",
            "3:   \t8.3%\n",
            "8:   \t0.06%\n",
            "1:   \t0.02%\n",
            "--------\n",
            "\n",
            "\n",
            "PROMPT: recipe for roasted vegetables | chop 1 / 4\n",
            "cup:   \t88.55%\n",
            "of:   \t4.58%\n",
            "inch:   \t3.48%\n",
            "teaspoon:   \t1.82%\n",
            "pound:   \t0.77%\n",
            "--------\n",
            "\n"
          ]
        }
      ],
      "source": [
        "print_probs(info, vocab)"
      ]
    },
    {
      "cell_type": "code",
      "execution_count": 27,
      "id": "2e434497-07f3-4989-a68d-3e31cf8fa4fe",
      "metadata": {
        "id": "2e434497-07f3-4989-a68d-3e31cf8fa4fe",
        "colab": {
          "base_uri": "https://localhost:8080/"
        },
        "outputId": "1cb2578f-a13c-4d9b-dc4f-c089c3c14c24"
      },
      "outputs": [
        {
          "output_type": "stream",
          "name": "stdout",
          "text": [
            "\n",
            "generated text:recipe for chocolate ice cream | »\n",
            "\n",
            "\n",
            "PROMPT: recipe for chocolate ice cream |\n",
            "whisk:   \t5.73%\n",
            "stir:   \t5.67%\n",
            "combine:   \t4.57%\n",
            "bring:   \t4.23%\n",
            "in:   \t4.1%\n",
            "--------\n",
            "\n"
          ]
        }
      ],
      "source": [
        "info = text_generator.generate(\n",
        "    \"recipe for chocolate ice cream |\", max_tokens=7, temperature=1.5\n",
        ")\n",
        "print_probs(info, vocab)"
      ]
    },
    {
      "cell_type": "code",
      "execution_count": 28,
      "id": "011cd0e0-956c-4a63-8ec3-f7dfed31764e",
      "metadata": {
        "id": "011cd0e0-956c-4a63-8ec3-f7dfed31764e",
        "colab": {
          "base_uri": "https://localhost:8080/"
        },
        "outputId": "48b7f31a-d8e6-466d-a50f-5b3878e0c2da"
      },
      "outputs": [
        {
          "output_type": "stream",
          "name": "stdout",
          "text": [
            "\n",
            "generated text:recipe for chocolate ice cream | whisk\n",
            "\n",
            "\n",
            "PROMPT: recipe for chocolate ice cream |\n",
            "whisk:   \t42.26%\n",
            "stir:   \t39.23%\n",
            "combine:   \t7.78%\n",
            "bring:   \t4.38%\n",
            "in:   \t3.47%\n",
            "--------\n",
            "\n"
          ]
        }
      ],
      "source": [
        "info = text_generator.generate(\n",
        "    \"recipe for chocolate ice cream |\", max_tokens=7, temperature=0.2\n",
        ")\n",
        "print_probs(info, vocab)"
      ]
    },
    {
      "cell_type": "code",
      "execution_count": 32,
      "id": "9m9iwotiJS8M",
      "metadata": {
        "id": "9m9iwotiJS8M",
        "colab": {
          "base_uri": "https://localhost:8080/"
        },
        "outputId": "05ca954b-0ba8-4be8-850f-f3914dfcdf4a"
      },
      "outputs": [
        {
          "output_type": "stream",
          "name": "stdout",
          "text": [
            "\n",
            "generated text:recipe for lemon fried rice | wrap oxtails on paper towels to basic everything up and lamb shanks 1 shrimp through . divide the kale scallops among unbuttered pipe , drizzling on a scoop claw row down on the dressing rolls . repeat with additional chimichurri garlic on pop . in plastic plate 1–2 - truss together dip watermelon slices flat and 425˚f ( torn measure 3 or softer mango ) with gremolata . slice overlapping mixture near thin as room limes . \n",
            "\n",
            "\n",
            "PROMPT: recipe for lemon fried rice |\n",
            "in:   \t8.47%\n",
            "heat:   \t5.6%\n",
            "bring:   \t4.85%\n",
            "combine:   \t4.01%\n",
            "whisk:   \t3.48%\n",
            "--------\n",
            "\n",
            "\n",
            "PROMPT: recipe for lemon fried rice | wrap\n",
            "a:   \t6.82%\n",
            "the:   \t3.73%\n",
            "each:   \t2.35%\n",
            "outside:   \t2.2%\n",
            "pork:   \t2.17%\n",
            "--------\n",
            "\n",
            "\n",
            "PROMPT: recipe for lemon fried rice | wrap oxtails\n",
            "in:   \t36.28%\n",
            "with:   \t21.79%\n",
            "tightly:   \t8.42%\n",
            "individually:   \t4.85%\n",
            "and:   \t2.99%\n",
            "--------\n",
            "\n",
            "\n",
            "PROMPT: recipe for lemon fried rice | wrap oxtails on\n",
            "a:   \t20.38%\n",
            "foil:   \t5.51%\n",
            "paper:   \t5.29%\n",
            "plastic:   \t3.37%\n",
            "2:   \t2.25%\n",
            "--------\n",
            "\n",
            "\n",
            "PROMPT: recipe for lemon fried rice | wrap oxtails on paper\n",
            "towels:   \t48.99%\n",
            "towel:   \t10.24%\n",
            ".:   \t2.66%\n",
            "-:   \t2.35%\n",
            "bag:   \t2.22%\n",
            "--------\n",
            "\n",
            "\n",
            "PROMPT: recipe for lemon fried rice | wrap oxtails on paper towels\n",
            ".:   \t22.32%\n",
            "to:   \t19.39%\n",
            "and:   \t14.55%\n",
            ";:   \t8.06%\n",
            ",:   \t6.91%\n",
            "--------\n",
            "\n",
            "\n",
            "PROMPT: recipe for lemon fried rice | wrap oxtails on paper towels to\n",
            "drain:   \t36.01%\n",
            "allow:   \t2.63%\n",
            "let:   \t2.44%\n",
            "cover:   \t1.89%\n",
            "keep:   \t1.58%\n",
            "--------\n",
            "\n",
            "\n",
            "PROMPT: recipe for lemon fried rice | wrap oxtails on paper towels to basic\n",
            "a:   \t4.14%\n",
            "small:   \t2.29%\n",
            ".:   \t1.97%\n",
            "an:   \t1.57%\n",
            "butter:   \t1.5%\n",
            "--------\n",
            "\n",
            "\n",
            "PROMPT: recipe for lemon fried rice | wrap oxtails on paper towels to basic everything\n",
            "is:   \t3.3%\n",
            "rises:   \t3.18%\n",
            "has:   \t2.73%\n",
            "a:   \t2.73%\n",
            ",:   \t1.59%\n",
            "--------\n",
            "\n",
            "\n",
            "PROMPT: recipe for lemon fried rice | wrap oxtails on paper towels to basic everything up\n",
            "to:   \t13.66%\n",
            ".:   \t13.46%\n",
            "in:   \t8.54%\n",
            "with:   \t4.75%\n",
            ",:   \t4.63%\n",
            "--------\n",
            "\n",
            "\n",
            "PROMPT: recipe for lemon fried rice | wrap oxtails on paper towels to basic everything up and\n",
            "soak:   \t2.83%\n",
            "then:   \t1.86%\n",
            "let:   \t1.78%\n",
            "marinate:   \t1.7%\n",
            "brown:   \t1.24%\n",
            "--------\n",
            "\n",
            "\n",
            "PROMPT: recipe for lemon fried rice | wrap oxtails on paper towels to basic everything up and lamb\n",
            ".:   \t4.99%\n",
            "is:   \t4.47%\n",
            "to:   \t3.64%\n",
            "chops:   \t3.16%\n",
            ",:   \t2.65%\n",
            "--------\n",
            "\n",
            "\n",
            "PROMPT: recipe for lemon fried rice | wrap oxtails on paper towels to basic everything up and lamb shanks\n",
            ".:   \t28.87%\n",
            ",:   \t5.79%\n",
            "and:   \t5.2%\n",
            "in:   \t3.69%\n",
            ";:   \t2.94%\n",
            "--------\n",
            "\n",
            "\n",
            "PROMPT: recipe for lemon fried rice | wrap oxtails on paper towels to basic everything up and lamb shanks 1\n",
            ".:   \t9.23%\n",
            "to:   \t5.48%\n",
            "/:   \t3.72%\n",
            "in:   \t3.71%\n",
            "1:   \t2.62%\n",
            "--------\n",
            "\n",
            "\n",
            "PROMPT: recipe for lemon fried rice | wrap oxtails on paper towels to basic everything up and lamb shanks 1 shrimp\n",
            ".:   \t13.28%\n",
            ",:   \t8.35%\n",
            "in:   \t7.86%\n",
            "and:   \t4.99%\n",
            "through:   \t2.88%\n",
            "--------\n",
            "\n",
            "\n",
            "PROMPT: recipe for lemon fried rice | wrap oxtails on paper towels to basic everything up and lamb shanks 1 shrimp through\n",
            ".:   \t23.27%\n",
            ",:   \t16.56%\n",
            "a:   \t3.33%\n",
            "all:   \t2.8%\n",
            "and:   \t2.63%\n",
            "--------\n",
            "\n",
            "\n",
            "PROMPT: recipe for lemon fried rice | wrap oxtails on paper towels to basic everything up and lamb shanks 1 shrimp through .\n",
            "transfer:   \t3.18%\n",
            "let:   \t2.39%\n",
            "in:   \t2.27%\n",
            "place:   \t2.2%\n",
            "cut:   \t2.11%\n",
            "--------\n",
            "\n",
            "\n",
            "PROMPT: recipe for lemon fried rice | wrap oxtails on paper towels to basic everything up and lamb shanks 1 shrimp through . divide\n",
            "the:   \t3.51%\n",
            "between:   \t2.75%\n",
            "among:   \t2.47%\n",
            "into:   \t1.55%\n",
            "meat:   \t1.51%\n",
            "--------\n",
            "\n",
            "\n",
            "PROMPT: recipe for lemon fried rice | wrap oxtails on paper towels to basic everything up and lamb shanks 1 shrimp through . divide the\n",
            "chicken:   \t1.55%\n",
            "meat:   \t1.32%\n",
            "pork:   \t1.23%\n",
            "cabbage:   \t1.07%\n",
            "beef:   \t0.98%\n",
            "--------\n",
            "\n",
            "\n",
            "PROMPT: recipe for lemon fried rice | wrap oxtails on paper towels to basic everything up and lamb shanks 1 shrimp through . divide the kale\n",
            "among:   \t12.65%\n",
            "leaves:   \t5.57%\n",
            "between:   \t5.11%\n",
            "into:   \t4.18%\n",
            "and:   \t3.65%\n",
            "--------\n",
            "\n",
            "\n",
            "PROMPT: recipe for lemon fried rice | wrap oxtails on paper towels to basic everything up and lamb shanks 1 shrimp through . divide the kale scallops\n",
            "among:   \t17.28%\n",
            "and:   \t12.79%\n",
            "into:   \t9.19%\n",
            "between:   \t7.28%\n",
            "in:   \t4.82%\n",
            "--------\n",
            "\n",
            "\n",
            "PROMPT: recipe for lemon fried rice | wrap oxtails on paper towels to basic everything up and lamb shanks 1 shrimp through . divide the kale scallops among\n",
            "them:   \t5.39%\n",
            "4:   \t3.87%\n",
            "the:   \t3.86%\n",
            "individual:   \t3.02%\n",
            "6:   \t2.23%\n",
            "--------\n",
            "\n",
            "\n",
            "PROMPT: recipe for lemon fried rice | wrap oxtails on paper towels to basic everything up and lamb shanks 1 shrimp through . divide the kale scallops among unbuttered\n",
            "the:   \t6.98%\n",
            "side:   \t3.26%\n",
            "and:   \t3.03%\n",
            "sides:   \t1.71%\n",
            "shells:   \t1.35%\n",
            "--------\n",
            "\n",
            "\n",
            "PROMPT: recipe for lemon fried rice | wrap oxtails on paper towels to basic everything up and lamb shanks 1 shrimp through . divide the kale scallops among unbuttered pipe\n",
            "and:   \t10.2%\n",
            ",:   \t8.83%\n",
            "of:   \t6.34%\n",
            "the:   \t5.79%\n",
            ".:   \t5.76%\n",
            "--------\n",
            "\n",
            "\n",
            "PROMPT: recipe for lemon fried rice | wrap oxtails on paper towels to basic everything up and lamb shanks 1 shrimp through . divide the kale scallops among unbuttered pipe ,\n",
            "and:   \t2.92%\n",
            "then:   \t2.89%\n",
            "reserving:   \t2.15%\n",
            "discarding:   \t1.98%\n",
            "with:   \t1.74%\n",
            "--------\n",
            "\n",
            "\n",
            "PROMPT: recipe for lemon fried rice | wrap oxtails on paper towels to basic everything up and lamb shanks 1 shrimp through . divide the kale scallops among unbuttered pipe , drizzling\n",
            "the:   \t25.89%\n",
            "with:   \t8.82%\n",
            "in:   \t7.2%\n",
            "it:   \t4.01%\n",
            "them:   \t2.3%\n",
            "--------\n",
            "\n",
            "\n",
            "PROMPT: recipe for lemon fried rice | wrap oxtails on paper towels to basic everything up and lamb shanks 1 shrimp through . divide the kale scallops among unbuttered pipe , drizzling on\n",
            "the:   \t10.93%\n",
            "top:   \t7.27%\n",
            "a:   \t6.14%\n",
            "each:   \t3.26%\n",
            "both:   \t3.2%\n",
            "--------\n",
            "\n",
            "\n",
            "PROMPT: recipe for lemon fried rice | wrap oxtails on paper towels to basic everything up and lamb shanks 1 shrimp through . divide the kale scallops among unbuttered pipe , drizzling on a\n",
            "large:   \t7.0%\n",
            "plate:   \t4.05%\n",
            "medium:   \t2.83%\n",
            "small:   \t2.63%\n",
            "platter:   \t2.19%\n",
            "--------\n",
            "\n",
            "\n",
            "PROMPT: recipe for lemon fried rice | wrap oxtails on paper towels to basic everything up and lamb shanks 1 shrimp through . divide the kale scallops among unbuttered pipe , drizzling on a scoop\n",
            "of:   \t36.12%\n",
            "out:   \t1.93%\n",
            "into:   \t1.91%\n",
            "with:   \t1.82%\n",
            "flesh:   \t1.66%\n",
            "--------\n",
            "\n",
            "\n",
            "PROMPT: recipe for lemon fried rice | wrap oxtails on paper towels to basic everything up and lamb shanks 1 shrimp through . divide the kale scallops among unbuttered pipe , drizzling on a scoop claw\n",
            ".:   \t21.27%\n",
            "and:   \t7.36%\n",
            "or:   \t3.07%\n",
            ",:   \t2.96%\n",
            "the:   \t2.68%\n",
            "--------\n",
            "\n",
            "\n",
            "PROMPT: recipe for lemon fried rice | wrap oxtails on paper towels to basic everything up and lamb shanks 1 shrimp through . divide the kale scallops among unbuttered pipe , drizzling on a scoop claw row\n",
            "down:   \t21.74%\n",
            ",:   \t5.97%\n",
            "by:   \t4.23%\n",
            ".:   \t3.32%\n",
            "from:   \t3.17%\n",
            "--------\n",
            "\n",
            "\n",
            "PROMPT: recipe for lemon fried rice | wrap oxtails on paper towels to basic everything up and lamb shanks 1 shrimp through . divide the kale scallops among unbuttered pipe , drizzling on a scoop claw row down\n",
            ".:   \t12.93%\n",
            "the:   \t7.55%\n",
            ",:   \t6.63%\n",
            "a:   \t2.49%\n",
            "and:   \t2.26%\n",
            "--------\n",
            "\n",
            "\n",
            "PROMPT: recipe for lemon fried rice | wrap oxtails on paper towels to basic everything up and lamb shanks 1 shrimp through . divide the kale scallops among unbuttered pipe , drizzling on a scoop claw row down on\n",
            "a:   \t15.22%\n",
            "the:   \t12.34%\n",
            "each:   \t7.9%\n",
            "their:   \t4.96%\n",
            "top:   \t4.26%\n",
            "--------\n",
            "\n",
            "\n",
            "PROMPT: recipe for lemon fried rice | wrap oxtails on paper towels to basic everything up and lamb shanks 1 shrimp through . divide the kale scallops among unbuttered pipe , drizzling on a scoop claw row down on the\n",
            "bottom:   \t2.96%\n",
            "side:   \t2.58%\n",
            "platter:   \t1.73%\n",
            "top:   \t1.68%\n",
            "diagonal:   \t1.25%\n",
            "--------\n",
            "\n",
            "\n",
            "PROMPT: recipe for lemon fried rice | wrap oxtails on paper towels to basic everything up and lamb shanks 1 shrimp through . divide the kale scallops among unbuttered pipe , drizzling on a scoop claw row down on the dressing\n",
            ".:   \t16.51%\n",
            ",:   \t7.12%\n",
            "and:   \t4.53%\n",
            "on:   \t2.49%\n",
            "to:   \t2.37%\n",
            "--------\n",
            "\n",
            "\n",
            "PROMPT: recipe for lemon fried rice | wrap oxtails on paper towels to basic everything up and lamb shanks 1 shrimp through . divide the kale scallops among unbuttered pipe , drizzling on a scoop claw row down on the dressing rolls\n",
            ".:   \t26.88%\n",
            "and:   \t11.64%\n",
            ",:   \t11.16%\n",
            ";:   \t4.29%\n",
            "on:   \t2.09%\n",
            "--------\n",
            "\n",
            "\n",
            "PROMPT: recipe for lemon fried rice | wrap oxtails on paper towels to basic everything up and lamb shanks 1 shrimp through . divide the kale scallops among unbuttered pipe , drizzling on a scoop claw row down on the dressing rolls .\n",
            ":   \t5.18%\n",
            "garnish:   \t3.04%\n",
            "serve:   \t2.41%\n",
            "place:   \t2.25%\n",
            "season:   \t2.05%\n",
            "--------\n",
            "\n",
            "\n",
            "PROMPT: recipe for lemon fried rice | wrap oxtails on paper towels to basic everything up and lamb shanks 1 shrimp through . divide the kale scallops among unbuttered pipe , drizzling on a scoop claw row down on the dressing rolls . repeat\n",
            "with:   \t25.94%\n",
            "layering:   \t5.04%\n",
            "this:   \t4.55%\n",
            "the:   \t4.41%\n",
            ",:   \t2.56%\n",
            "--------\n",
            "\n",
            "\n",
            "PROMPT: recipe for lemon fried rice | wrap oxtails on paper towels to basic everything up and lamb shanks 1 shrimp through . divide the kale scallops among unbuttered pipe , drizzling on a scoop claw row down on the dressing rolls . repeat with\n",
            "the:   \t5.95%\n",
            "remaining:   \t3.82%\n",
            "more:   \t3.08%\n",
            "a:   \t2.57%\n",
            "1:   \t1.86%\n",
            "--------\n",
            "\n",
            "\n",
            "PROMPT: recipe for lemon fried rice | wrap oxtails on paper towels to basic everything up and lamb shanks 1 shrimp through . divide the kale scallops among unbuttered pipe , drizzling on a scoop claw row down on the dressing rolls . repeat with additional\n",
            "water:   \t2.24%\n",
            "more:   \t1.16%\n",
            "lime:   \t1.11%\n",
            "chopped:   \t1.02%\n",
            "extra:   \t0.94%\n",
            "--------\n",
            "\n",
            "\n",
            "PROMPT: recipe for lemon fried rice | wrap oxtails on paper towels to basic everything up and lamb shanks 1 shrimp through . divide the kale scallops among unbuttered pipe , drizzling on a scoop claw row down on the dressing rolls . repeat with additional chimichurri\n",
            "if:   \t17.26%\n",
            "as:   \t6.52%\n",
            "for:   \t4.36%\n",
            "or:   \t4.09%\n",
            "to:   \t3.65%\n",
            "--------\n",
            "\n",
            "\n",
            "PROMPT: recipe for lemon fried rice | wrap oxtails on paper towels to basic everything up and lamb shanks 1 shrimp through . divide the kale scallops among unbuttered pipe , drizzling on a scoop claw row down on the dressing rolls . repeat with additional chimichurri garlic\n",
            "and:   \t9.57%\n",
            ",:   \t5.48%\n",
            ".:   \t4.98%\n",
            "paste:   \t4.46%\n",
            "if:   \t4.45%\n",
            "--------\n",
            "\n",
            "\n",
            "PROMPT: recipe for lemon fried rice | wrap oxtails on paper towels to basic everything up and lamb shanks 1 shrimp through . divide the kale scallops among unbuttered pipe , drizzling on a scoop claw row down on the dressing rolls . repeat with additional chimichurri garlic on\n",
            "the:   \t15.89%\n",
            "each:   \t7.05%\n",
            "top:   \t2.58%\n",
            "both:   \t2.33%\n",
            "a:   \t2.21%\n",
            "--------\n",
            "\n",
            "\n",
            "PROMPT: recipe for lemon fried rice | wrap oxtails on paper towels to basic everything up and lamb shanks 1 shrimp through . divide the kale scallops among unbuttered pipe , drizzling on a scoop claw row down on the dressing rolls . repeat with additional chimichurri garlic on pop\n",
            ",:   \t16.45%\n",
            ".:   \t14.36%\n",
            "or:   \t9.17%\n",
            "and:   \t5.25%\n",
            "-:   \t3.34%\n",
            "--------\n",
            "\n",
            "\n",
            "PROMPT: recipe for lemon fried rice | wrap oxtails on paper towels to basic everything up and lamb shanks 1 shrimp through . divide the kale scallops among unbuttered pipe , drizzling on a scoop claw row down on the dressing rolls . repeat with additional chimichurri garlic on pop .\n",
            ":   \t7.1%\n",
            "grill:   \t2.96%\n",
            "taste:   \t2.49%\n",
            "2:   \t2.27%\n",
            "serve:   \t1.95%\n",
            "--------\n",
            "\n",
            "\n",
            "PROMPT: recipe for lemon fried rice | wrap oxtails on paper towels to basic everything up and lamb shanks 1 shrimp through . divide the kale scallops among unbuttered pipe , drizzling on a scoop claw row down on the dressing rolls . repeat with additional chimichurri garlic on pop . in\n",
            "a:   \t55.94%\n",
            "the:   \t6.9%\n",
            "another:   \t4.13%\n",
            "an:   \t2.95%\n",
            "medium:   \t2.14%\n",
            "--------\n",
            "\n",
            "\n",
            "PROMPT: recipe for lemon fried rice | wrap oxtails on paper towels to basic everything up and lamb shanks 1 shrimp through . divide the kale scallops among unbuttered pipe , drizzling on a scoop claw row down on the dressing rolls . repeat with additional chimichurri garlic on pop . in plastic\n",
            "wrap:   \t38.77%\n",
            "bag:   \t9.0%\n",
            "place:   \t2.39%\n",
            "grill:   \t2.28%\n",
            "bowl:   \t1.76%\n",
            "--------\n",
            "\n",
            "\n",
            "PROMPT: recipe for lemon fried rice | wrap oxtails on paper towels to basic everything up and lamb shanks 1 shrimp through . divide the kale scallops among unbuttered pipe , drizzling on a scoop claw row down on the dressing rolls . repeat with additional chimichurri garlic on pop . in plastic plate\n",
            ",:   \t25.14%\n",
            "or:   \t9.37%\n",
            "and:   \t5.42%\n",
            "to:   \t3.72%\n",
            "for:   \t3.49%\n",
            "--------\n",
            "\n",
            "\n",
            "PROMPT: recipe for lemon fried rice | wrap oxtails on paper towels to basic everything up and lamb shanks 1 shrimp through . divide the kale scallops among unbuttered pipe , drizzling on a scoop claw row down on the dressing rolls . repeat with additional chimichurri garlic on pop . in plastic plate 1–2\n",
            "sandwich:   \t1.98%\n",
            "days:   \t1.81%\n",
            "or:   \t1.57%\n",
            "pound:   \t1.31%\n",
            "separate:   \t1.14%\n",
            "--------\n",
            "\n",
            "\n",
            "PROMPT: recipe for lemon fried rice | wrap oxtails on paper towels to basic everything up and lamb shanks 1 shrimp through . divide the kale scallops among unbuttered pipe , drizzling on a scoop claw row down on the dressing rolls . repeat with additional chimichurri garlic on pop . in plastic plate 1–2 -\n",
            "to:   \t4.13%\n",
            "quart:   \t2.83%\n",
            "[UNK]:   \t1.95%\n",
            "4:   \t1.5%\n",
            "roll:   \t1.36%\n",
            "--------\n",
            "\n",
            "\n",
            "PROMPT: recipe for lemon fried rice | wrap oxtails on paper towels to basic everything up and lamb shanks 1 shrimp through . divide the kale scallops among unbuttered pipe , drizzling on a scoop claw row down on the dressing rolls . repeat with additional chimichurri garlic on pop . in plastic plate 1–2 - truss\n",
            "the:   \t8.7%\n",
            "grill:   \t4.31%\n",
            "well:   \t4.24%\n",
            "warm:   \t3.29%\n",
            "surface:   \t2.55%\n",
            "--------\n",
            "\n",
            "\n",
            "PROMPT: recipe for lemon fried rice | wrap oxtails on paper towels to basic everything up and lamb shanks 1 shrimp through . divide the kale scallops among unbuttered pipe , drizzling on a scoop claw row down on the dressing rolls . repeat with additional chimichurri garlic on pop . in plastic plate 1–2 - truss together\n",
            ",:   \t24.59%\n",
            ".:   \t22.08%\n",
            "(:   \t3.74%\n",
            "the:   \t3.51%\n",
            "and:   \t2.46%\n",
            "--------\n",
            "\n",
            "\n",
            "PROMPT: recipe for lemon fried rice | wrap oxtails on paper towels to basic everything up and lamb shanks 1 shrimp through . divide the kale scallops among unbuttered pipe , drizzling on a scoop claw row down on the dressing rolls . repeat with additional chimichurri garlic on pop . in plastic plate 1–2 - truss together dip\n",
            "the:   \t17.25%\n",
            ",:   \t6.07%\n",
            "in:   \t4.48%\n",
            "and:   \t2.39%\n",
            "a:   \t1.7%\n",
            "--------\n",
            "\n",
            "\n",
            "PROMPT: recipe for lemon fried rice | wrap oxtails on paper towels to basic everything up and lamb shanks 1 shrimp through . divide the kale scallops among unbuttered pipe , drizzling on a scoop claw row down on the dressing rolls . repeat with additional chimichurri garlic on pop . in plastic plate 1–2 - truss together dip watermelon\n",
            "is:   \t7.34%\n",
            "slices:   \t4.82%\n",
            "in:   \t4.81%\n",
            "pieces:   \t4.75%\n",
            ",:   \t4.56%\n",
            "--------\n",
            "\n",
            "\n",
            "PROMPT: recipe for lemon fried rice | wrap oxtails on paper towels to basic everything up and lamb shanks 1 shrimp through . divide the kale scallops among unbuttered pipe , drizzling on a scoop claw row down on the dressing rolls . repeat with additional chimichurri garlic on pop . in plastic plate 1–2 - truss together dip watermelon slices\n",
            "in:   \t10.07%\n",
            ",:   \t9.67%\n",
            "into:   \t6.43%\n",
            "and:   \t6.39%\n",
            "with:   \t3.56%\n",
            "--------\n",
            "\n",
            "\n",
            "PROMPT: recipe for lemon fried rice | wrap oxtails on paper towels to basic everything up and lamb shanks 1 shrimp through . divide the kale scallops among unbuttered pipe , drizzling on a scoop claw row down on the dressing rolls . repeat with additional chimichurri garlic on pop . in plastic plate 1–2 - truss together dip watermelon slices flat\n",
            "and:   \t19.6%\n",
            ",:   \t10.4%\n",
            ".:   \t6.38%\n",
            "or:   \t4.75%\n",
            "in:   \t3.65%\n",
            "--------\n",
            "\n",
            "\n",
            "PROMPT: recipe for lemon fried rice | wrap oxtails on paper towels to basic everything up and lamb shanks 1 shrimp through . divide the kale scallops among unbuttered pipe , drizzling on a scoop claw row down on the dressing rolls . repeat with additional chimichurri garlic on pop . in plastic plate 1–2 - truss together dip watermelon slices flat and\n",
            "add:   \t2.48%\n",
            "grill:   \t2.41%\n",
            "season:   \t1.9%\n",
            "place:   \t1.54%\n",
            "brush:   \t1.12%\n",
            "--------\n",
            "\n",
            "\n",
            "PROMPT: recipe for lemon fried rice | wrap oxtails on paper towels to basic everything up and lamb shanks 1 shrimp through . divide the kale scallops among unbuttered pipe , drizzling on a scoop claw row down on the dressing rolls . repeat with additional chimichurri garlic on pop . in plastic plate 1–2 - truss together dip watermelon slices flat and 425˚f\n",
            ".:   \t25.76%\n",
            "or:   \t11.94%\n",
            "with:   \t10.87%\n",
            ",:   \t4.92%\n",
            "(:   \t4.11%\n",
            "--------\n",
            "\n",
            "\n",
            "PROMPT: recipe for lemon fried rice | wrap oxtails on paper towels to basic everything up and lamb shanks 1 shrimp through . divide the kale scallops among unbuttered pipe , drizzling on a scoop claw row down on the dressing rolls . repeat with additional chimichurri garlic on pop . in plastic plate 1–2 - truss together dip watermelon slices flat and 425˚f (\n",
            "be:   \t3.85%\n",
            "add:   \t2.6%\n",
            "1:   \t1.35%\n",
            "reserve:   \t1.29%\n",
            "some:   \t1.23%\n",
            "--------\n",
            "\n",
            "\n",
            "PROMPT: recipe for lemon fried rice | wrap oxtails on paper towels to basic everything up and lamb shanks 1 shrimp through . divide the kale scallops among unbuttered pipe , drizzling on a scoop claw row down on the dressing rolls . repeat with additional chimichurri garlic on pop . in plastic plate 1–2 - truss together dip watermelon slices flat and 425˚f ( torn\n",
            "off:   \t5.18%\n",
            "):   \t3.97%\n",
            "some:   \t1.39%\n",
            "each:   \t1.33%\n",
            "or:   \t1.29%\n",
            "--------\n",
            "\n",
            "\n",
            "PROMPT: recipe for lemon fried rice | wrap oxtails on paper towels to basic everything up and lamb shanks 1 shrimp through . divide the kale scallops among unbuttered pipe , drizzling on a scoop claw row down on the dressing rolls . repeat with additional chimichurri garlic on pop . in plastic plate 1–2 - truss together dip watermelon slices flat and 425˚f ( torn measure\n",
            "):   \t3.26%\n",
            "1:   \t2.33%\n",
            "the:   \t2.05%\n",
            "some:   \t1.3%\n",
            "2:   \t1.26%\n",
            "--------\n",
            "\n",
            "\n",
            "PROMPT: recipe for lemon fried rice | wrap oxtails on paper towels to basic everything up and lamb shanks 1 shrimp through . divide the kale scallops among unbuttered pipe , drizzling on a scoop claw row down on the dressing rolls . repeat with additional chimichurri garlic on pop . in plastic plate 1–2 - truss together dip watermelon slices flat and 425˚f ( torn measure 3\n",
            "tablespoons:   \t5.4%\n",
            "more:   \t3.92%\n",
            "/:   \t2.45%\n",
            "cups:   \t1.84%\n",
            "or:   \t1.72%\n",
            "--------\n",
            "\n",
            "\n",
            "PROMPT: recipe for lemon fried rice | wrap oxtails on paper towels to basic everything up and lamb shanks 1 shrimp through . divide the kale scallops among unbuttered pipe , drizzling on a scoop claw row down on the dressing rolls . repeat with additional chimichurri garlic on pop . in plastic plate 1–2 - truss together dip watermelon slices flat and 425˚f ( torn measure 3 or\n",
            "4:   \t6.11%\n",
            "3:   \t3.16%\n",
            "bottles:   \t1.5%\n",
            "two:   \t1.34%\n",
            "less:   \t1.21%\n",
            "--------\n",
            "\n",
            "\n",
            "PROMPT: recipe for lemon fried rice | wrap oxtails on paper towels to basic everything up and lamb shanks 1 shrimp through . divide the kale scallops among unbuttered pipe , drizzling on a scoop claw row down on the dressing rolls . repeat with additional chimichurri garlic on pop . in plastic plate 1–2 - truss together dip watermelon slices flat and 425˚f ( torn measure 3 or softer\n",
            "):   \t8.59%\n",
            "spice:   \t2.28%\n",
            "of:   \t1.6%\n",
            "each:   \t1.18%\n",
            "per:   \t1.14%\n",
            "--------\n",
            "\n",
            "\n",
            "PROMPT: recipe for lemon fried rice | wrap oxtails on paper towels to basic everything up and lamb shanks 1 shrimp through . divide the kale scallops among unbuttered pipe , drizzling on a scoop claw row down on the dressing rolls . repeat with additional chimichurri garlic on pop . in plastic plate 1–2 - truss together dip watermelon slices flat and 425˚f ( torn measure 3 or softer mango\n",
            "):   \t51.59%\n",
            "with:   \t1.69%\n",
            "off:   \t1.29%\n",
            "will:   \t0.98%\n",
            "':   \t0.89%\n",
            "--------\n",
            "\n",
            "\n",
            "PROMPT: recipe for lemon fried rice | wrap oxtails on paper towels to basic everything up and lamb shanks 1 shrimp through . divide the kale scallops among unbuttered pipe , drizzling on a scoop claw row down on the dressing rolls . repeat with additional chimichurri garlic on pop . in plastic plate 1–2 - truss together dip watermelon slices flat and 425˚f ( torn measure 3 or softer mango )\n",
            ".:   \t15.44%\n",
            "with:   \t8.9%\n",
            ",:   \t8.17%\n",
            "and:   \t5.26%\n",
            "over:   \t3.99%\n",
            "--------\n",
            "\n",
            "\n",
            "PROMPT: recipe for lemon fried rice | wrap oxtails on paper towels to basic everything up and lamb shanks 1 shrimp through . divide the kale scallops among unbuttered pipe , drizzling on a scoop claw row down on the dressing rolls . repeat with additional chimichurri garlic on pop . in plastic plate 1–2 - truss together dip watermelon slices flat and 425˚f ( torn measure 3 or softer mango ) with\n",
            "a:   \t6.83%\n",
            "the:   \t2.57%\n",
            "your:   \t2.27%\n",
            "1:   \t1.57%\n",
            "some:   \t1.21%\n",
            "--------\n",
            "\n",
            "\n",
            "PROMPT: recipe for lemon fried rice | wrap oxtails on paper towels to basic everything up and lamb shanks 1 shrimp through . divide the kale scallops among unbuttered pipe , drizzling on a scoop claw row down on the dressing rolls . repeat with additional chimichurri garlic on pop . in plastic plate 1–2 - truss together dip watermelon slices flat and 425˚f ( torn measure 3 or softer mango ) with gremolata\n",
            "and:   \t7.01%\n",
            ".:   \t6.4%\n",
            ",:   \t3.71%\n",
            "by:   \t2.42%\n",
            "ingredients:   \t2.41%\n",
            "--------\n",
            "\n",
            "\n",
            "PROMPT: recipe for lemon fried rice | wrap oxtails on paper towels to basic everything up and lamb shanks 1 shrimp through . divide the kale scallops among unbuttered pipe , drizzling on a scoop claw row down on the dressing rolls . repeat with additional chimichurri garlic on pop . in plastic plate 1–2 - truss together dip watermelon slices flat and 425˚f ( torn measure 3 or softer mango ) with gremolata .\n",
            "place:   \t3.24%\n",
            ":   \t2.62%\n",
            "cover:   \t2.44%\n",
            "add:   \t2.23%\n",
            "garnish:   \t1.98%\n",
            "--------\n",
            "\n",
            "\n",
            "PROMPT: recipe for lemon fried rice | wrap oxtails on paper towels to basic everything up and lamb shanks 1 shrimp through . divide the kale scallops among unbuttered pipe , drizzling on a scoop claw row down on the dressing rolls . repeat with additional chimichurri garlic on pop . in plastic plate 1–2 - truss together dip watermelon slices flat and 425˚f ( torn measure 3 or softer mango ) with gremolata . slice\n",
            "each:   \t3.15%\n",
            "remaining:   \t2.73%\n",
            "and:   \t1.65%\n",
            "1:   \t1.57%\n",
            "enough:   \t1.21%\n",
            "--------\n",
            "\n",
            "\n",
            "PROMPT: recipe for lemon fried rice | wrap oxtails on paper towels to basic everything up and lamb shanks 1 shrimp through . divide the kale scallops among unbuttered pipe , drizzling on a scoop claw row down on the dressing rolls . repeat with additional chimichurri garlic on pop . in plastic plate 1–2 - truss together dip watermelon slices flat and 425˚f ( torn measure 3 or softer mango ) with gremolata . slice overlapping\n",
            "slightly:   \t4.27%\n",
            "leaves:   \t3.73%\n",
            "leaf:   \t2.82%\n",
            ",:   \t2.17%\n",
            "to:   \t2.1%\n",
            "--------\n",
            "\n",
            "\n",
            "PROMPT: recipe for lemon fried rice | wrap oxtails on paper towels to basic everything up and lamb shanks 1 shrimp through . divide the kale scallops among unbuttered pipe , drizzling on a scoop claw row down on the dressing rolls . repeat with additional chimichurri garlic on pop . in plastic plate 1–2 - truss together dip watermelon slices flat and 425˚f ( torn measure 3 or softer mango ) with gremolata . slice overlapping mixture\n",
            "to:   \t15.81%\n",
            ",:   \t4.94%\n",
            "and:   \t4.7%\n",
            "from:   \t3.98%\n",
            "by:   \t3.26%\n",
            "--------\n",
            "\n",
            "\n",
            "PROMPT: recipe for lemon fried rice | wrap oxtails on paper towels to basic everything up and lamb shanks 1 shrimp through . divide the kale scallops among unbuttered pipe , drizzling on a scoop claw row down on the dressing rolls . repeat with additional chimichurri garlic on pop . in plastic plate 1–2 - truss together dip watermelon slices flat and 425˚f ( torn measure 3 or softer mango ) with gremolata . slice overlapping mixture near\n",
            "the:   \t2.46%\n",
            "top:   \t2.45%\n",
            "a:   \t2.43%\n",
            "half:   \t2.16%\n",
            "center:   \t2.14%\n",
            "--------\n",
            "\n",
            "\n",
            "PROMPT: recipe for lemon fried rice | wrap oxtails on paper towels to basic everything up and lamb shanks 1 shrimp through . divide the kale scallops among unbuttered pipe , drizzling on a scoop claw row down on the dressing rolls . repeat with additional chimichurri garlic on pop . in plastic plate 1–2 - truss together dip watermelon slices flat and 425˚f ( torn measure 3 or softer mango ) with gremolata . slice overlapping mixture near thin\n",
            "slices:   \t7.57%\n",
            "strips:   \t6.36%\n",
            ",:   \t3.49%\n",
            "ends:   \t3.39%\n",
            ".:   \t2.95%\n",
            "--------\n",
            "\n",
            "\n",
            "PROMPT: recipe for lemon fried rice | wrap oxtails on paper towels to basic everything up and lamb shanks 1 shrimp through . divide the kale scallops among unbuttered pipe , drizzling on a scoop claw row down on the dressing rolls . repeat with additional chimichurri garlic on pop . in plastic plate 1–2 - truss together dip watermelon slices flat and 425˚f ( torn measure 3 or softer mango ) with gremolata . slice overlapping mixture near thin as\n",
            "possible:   \t7.47%\n",
            "many:   \t4.25%\n",
            "you:   \t3.22%\n",
            "desired:   \t2.14%\n",
            "each:   \t1.82%\n",
            "--------\n",
            "\n",
            "\n",
            "PROMPT: recipe for lemon fried rice | wrap oxtails on paper towels to basic everything up and lamb shanks 1 shrimp through . divide the kale scallops among unbuttered pipe , drizzling on a scoop claw row down on the dressing rolls . repeat with additional chimichurri garlic on pop . in plastic plate 1–2 - truss together dip watermelon slices flat and 425˚f ( torn measure 3 or softer mango ) with gremolata . slice overlapping mixture near thin as room\n",
            "temperature:   \t14.98%\n",
            "or:   \t4.56%\n",
            "-:   \t3.94%\n",
            "bag:   \t2.21%\n",
            "towels:   \t1.94%\n",
            "--------\n",
            "\n",
            "\n",
            "PROMPT: recipe for lemon fried rice | wrap oxtails on paper towels to basic everything up and lamb shanks 1 shrimp through . divide the kale scallops among unbuttered pipe , drizzling on a scoop claw row down on the dressing rolls . repeat with additional chimichurri garlic on pop . in plastic plate 1–2 - truss together dip watermelon slices flat and 425˚f ( torn measure 3 or softer mango ) with gremolata . slice overlapping mixture near thin as room limes\n",
            ".:   \t57.4%\n",
            ",:   \t7.33%\n",
            "or:   \t3.87%\n",
            "(:   \t2.8%\n",
            "and:   \t2.59%\n",
            "--------\n",
            "\n",
            "\n",
            "PROMPT: recipe for lemon fried rice | wrap oxtails on paper towels to basic everything up and lamb shanks 1 shrimp through . divide the kale scallops among unbuttered pipe , drizzling on a scoop claw row down on the dressing rolls . repeat with additional chimichurri garlic on pop . in plastic plate 1–2 - truss together dip watermelon slices flat and 425˚f ( torn measure 3 or softer mango ) with gremolata . slice overlapping mixture near thin as room limes .\n",
            ":   \t7.4%\n",
            "place:   \t2.07%\n",
            "):   \t1.73%\n",
            "arrange:   \t1.49%\n",
            "in:   \t1.42%\n",
            "--------\n",
            "\n"
          ]
        }
      ],
      "source": [
        "info = text_generator.generate(\n",
        "\"recipe for lemon fried rice |\", max_tokens=100, temperature=1.5\n",
        ")\n",
        "\n",
        "print_probs(info, vocab)"
      ]
    }
  ],
  "metadata": {
    "accelerator": "GPU",
    "colab": {
      "gpuType": "T4",
      "provenance": [],
      "include_colab_link": true
    },
    "kernelspec": {
      "display_name": "Python 3",
      "name": "python3"
    },
    "language_info": {
      "codemirror_mode": {
        "name": "ipython",
        "version": 3
      },
      "file_extension": ".py",
      "mimetype": "text/x-python",
      "name": "python",
      "nbconvert_exporter": "python",
      "pygments_lexer": "ipython3",
      "version": "3.8.10"
    }
  },
  "nbformat": 4,
  "nbformat_minor": 5
}