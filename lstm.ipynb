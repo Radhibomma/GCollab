{
  "cells": [
    {
      "cell_type": "markdown",
      "metadata": {
        "id": "view-in-github",
        "colab_type": "text"
      },
      "source": [
        "<a href=\"https://colab.research.google.com/github/Radhibomma/GCollab/blob/main/lstm.ipynb\" target=\"_parent\"><img src=\"https://colab.research.google.com/assets/colab-badge.svg\" alt=\"Open In Colab\"/></a>"
      ]
    },
    {
      "cell_type": "markdown",
      "id": "b076bd1a-b236-4fbc-953d-8295b25122ae",
      "metadata": {
        "id": "b076bd1a-b236-4fbc-953d-8295b25122ae"
      },
      "source": [
        "# 🥙 LSTM on Recipe Data"
      ]
    },
    {
      "cell_type": "markdown",
      "id": "658a95da-9645-4bcf-bd9d-4b95a4b6f582",
      "metadata": {
        "id": "658a95da-9645-4bcf-bd9d-4b95a4b6f582"
      },
      "source": [
        "In this notebook, we'll walk through the steps required to train your own LSTM on the recipes dataset"
      ]
    },
    {
      "cell_type": "code",
      "execution_count": 1,
      "id": "4e0d56cc-4773-4029-97d8-26f882ba79c9",
      "metadata": {
        "id": "4e0d56cc-4773-4029-97d8-26f882ba79c9"
      },
      "outputs": [],
      "source": [
        "\n",
        "import numpy as np\n",
        "import json\n",
        "import re\n",
        "import string\n",
        "\n",
        "import kagglehub\n",
        "\n",
        "import tensorflow as tf\n",
        "from tensorflow.keras import layers, models, callbacks, losses"
      ]
    },
    {
      "cell_type": "markdown",
      "id": "339e6268-ebd7-4feb-86db-1fe7abccdbe5",
      "metadata": {
        "id": "339e6268-ebd7-4feb-86db-1fe7abccdbe5"
      },
      "source": [
        "## 0. Parameters <a name=\"parameters\"></a>"
      ]
    },
    {
      "cell_type": "code",
      "execution_count": 2,
      "id": "2d8352af-343e-4c2e-8c91-95f8bac1c8a1",
      "metadata": {
        "id": "2d8352af-343e-4c2e-8c91-95f8bac1c8a1"
      },
      "outputs": [],
      "source": [
        "VOCAB_SIZE = 10000\n",
        "MAX_LEN = 200\n",
        "EMBEDDING_DIM = 100\n",
        "N_UNITS = 128\n",
        "VALIDATION_SPLIT = 0.2\n",
        "SEED = 42\n",
        "LOAD_MODEL = False\n",
        "BATCH_SIZE = 32\n",
        "EPOCHS = 25"
      ]
    },
    {
      "cell_type": "markdown",
      "id": "b7716fac-0010-49b0-b98e-53be2259edde",
      "metadata": {
        "id": "b7716fac-0010-49b0-b98e-53be2259edde"
      },
      "source": [
        "## 1. Load the data <a name=\"load\"></a>"
      ]
    },
    {
      "cell_type": "code",
      "execution_count": 3,
      "id": "93cf6b0f-9667-4146-8911-763a8a2925d3",
      "metadata": {
        "id": "93cf6b0f-9667-4146-8911-763a8a2925d3"
      },
      "outputs": [],
      "source": [
        "# Load the full dataset\n",
        "\n",
        "# Download latest version\n",
        "path = kagglehub.dataset_download(\"hugodarwood/epirecipes\")\n",
        "\n",
        "with open(path + \"/full_format_recipes.json\") as json_data:\n",
        "    recipe_data = json.load(json_data)"
      ]
    },
    {
      "cell_type": "code",
      "execution_count": 4,
      "id": "23a74eca-f1b7-4a46-9a1f-b5806a4ed361",
      "metadata": {
        "id": "23a74eca-f1b7-4a46-9a1f-b5806a4ed361"
      },
      "outputs": [],
      "source": [
        "# Filter the dataset\n",
        "filtered_data = [\n",
        "    \"Recipe for \" + x[\"title\"] + \" | \" + \" \".join(x[\"directions\"])\n",
        "    for x in recipe_data\n",
        "    if \"title\" in x\n",
        "    and x[\"title\"] is not None\n",
        "    and \"directions\" in x\n",
        "    and x[\"directions\"] is not None\n",
        "]"
      ]
    },
    {
      "cell_type": "code",
      "execution_count": 5,
      "id": "389c20de-0422-4c48-a7b4-6ee12a7bf0e2",
      "metadata": {
        "colab": {
          "base_uri": "https://localhost:8080/"
        },
        "id": "389c20de-0422-4c48-a7b4-6ee12a7bf0e2",
        "outputId": "701bed87-c012-4934-d1dd-c553e94e9647"
      },
      "outputs": [
        {
          "output_type": "stream",
          "name": "stdout",
          "text": [
            "20111 recipes loaded\n"
          ]
        }
      ],
      "source": [
        "# Count the recipes\n",
        "n_recipes = len(filtered_data)\n",
        "print(f\"{n_recipes} recipes loaded\")"
      ]
    },
    {
      "cell_type": "code",
      "execution_count": 6,
      "id": "1b2e3cf7-e416-460e-874a-0dd9637bca36",
      "metadata": {
        "colab": {
          "base_uri": "https://localhost:8080/"
        },
        "id": "1b2e3cf7-e416-460e-874a-0dd9637bca36",
        "outputId": "2124c8ba-ba12-41cb-a071-823a8bcbb07a"
      },
      "outputs": [
        {
          "output_type": "stream",
          "name": "stdout",
          "text": [
            "Recipe for Ham Persillade with Mustard Potato Salad and Mashed Peas  | Chop enough parsley leaves to measure 1 tablespoon; reserve. Chop remaining leaves and stems and simmer with broth and garlic in a small saucepan, covered, 5 minutes. Meanwhile, sprinkle gelatin over water in a medium bowl and let soften 1 minute. Strain broth through a fine-mesh sieve into bowl with gelatin and stir to dissolve. Season with salt and pepper. Set bowl in an ice bath and cool to room temperature, stirring. Toss ham with reserved parsley and divide among jars. Pour gelatin on top and chill until set, at least 1 hour. Whisk together mayonnaise, mustard, vinegar, 1/4 teaspoon salt, and 1/4 teaspoon pepper in a large bowl. Stir in celery, cornichons, and potatoes. Pulse peas with marjoram, oil, 1/2 teaspoon pepper, and 1/4 teaspoon salt in a food processor to a coarse mash. Layer peas, then potato salad, over ham.\n"
          ]
        }
      ],
      "source": [
        "example = filtered_data[9]\n",
        "print(example)"
      ]
    },
    {
      "cell_type": "markdown",
      "id": "3f871aaf-d873-41c7-8946-e4eef7ac17c1",
      "metadata": {
        "id": "3f871aaf-d873-41c7-8946-e4eef7ac17c1"
      },
      "source": [
        "## 2. Tokenise the data"
      ]
    },
    {
      "cell_type": "code",
      "execution_count": 7,
      "id": "5b2064fb-5dcc-4657-b470-0928d10e2ddc",
      "metadata": {
        "id": "5b2064fb-5dcc-4657-b470-0928d10e2ddc"
      },
      "outputs": [],
      "source": [
        "# Pad the punctuation, to treat them as separate 'words'\n",
        "def pad_punctuation(s):\n",
        "    s = re.sub(f\"([{string.punctuation}])\", r\" \\1 \", s)\n",
        "    s = re.sub(\" +\", \" \", s)\n",
        "    return s\n",
        "\n",
        "\n",
        "text_data = [pad_punctuation(x) for x in filtered_data]"
      ]
    },
    {
      "cell_type": "code",
      "execution_count": 8,
      "id": "b87d7c65-9a46-492a-a5c0-a043b0d252f3",
      "metadata": {
        "colab": {
          "base_uri": "https://localhost:8080/",
          "height": 87
        },
        "id": "b87d7c65-9a46-492a-a5c0-a043b0d252f3",
        "outputId": "233fcac7-659d-4dbd-a55c-0973282b441f"
      },
      "outputs": [
        {
          "output_type": "execute_result",
          "data": {
            "text/plain": [
              "'Recipe for Ham Persillade with Mustard Potato Salad and Mashed Peas | Chop enough parsley leaves to measure 1 tablespoon ; reserve . Chop remaining leaves and stems and simmer with broth and garlic in a small saucepan , covered , 5 minutes . Meanwhile , sprinkle gelatin over water in a medium bowl and let soften 1 minute . Strain broth through a fine - mesh sieve into bowl with gelatin and stir to dissolve . Season with salt and pepper . Set bowl in an ice bath and cool to room temperature , stirring . Toss ham with reserved parsley and divide among jars . Pour gelatin on top and chill until set , at least 1 hour . Whisk together mayonnaise , mustard , vinegar , 1 / 4 teaspoon salt , and 1 / 4 teaspoon pepper in a large bowl . Stir in celery , cornichons , and potatoes . Pulse peas with marjoram , oil , 1 / 2 teaspoon pepper , and 1 / 4 teaspoon salt in a food processor to a coarse mash . Layer peas , then potato salad , over ham . '"
            ],
            "application/vnd.google.colaboratory.intrinsic+json": {
              "type": "string"
            }
          },
          "metadata": {},
          "execution_count": 8
        }
      ],
      "source": [
        "# Display an example of a recipe\n",
        "example_data = text_data[9]\n",
        "example_data"
      ]
    },
    {
      "cell_type": "code",
      "execution_count": 9,
      "id": "9834f916-b21a-4104-acc9-f28d3bd7a8c1",
      "metadata": {
        "id": "9834f916-b21a-4104-acc9-f28d3bd7a8c1"
      },
      "outputs": [],
      "source": [
        "# Convert to a Tensorflow Dataset\n",
        "text_ds = (\n",
        "    tf.data.Dataset.from_tensor_slices(text_data)\n",
        "    .batch(BATCH_SIZE)\n",
        "    .shuffle(1000)\n",
        ")"
      ]
    },
    {
      "cell_type": "code",
      "execution_count": 10,
      "id": "884c0bcb-0807-45a1-8f7e-a32f2c6fa4de",
      "metadata": {
        "id": "884c0bcb-0807-45a1-8f7e-a32f2c6fa4de"
      },
      "outputs": [],
      "source": [
        "# Create a vectorisation layer\n",
        "vectorize_layer = layers.TextVectorization(\n",
        "    standardize=\"lower\",\n",
        "    max_tokens=VOCAB_SIZE,\n",
        "    output_mode=\"int\",\n",
        "    output_sequence_length=MAX_LEN + 1,\n",
        ")"
      ]
    },
    {
      "cell_type": "code",
      "execution_count": 11,
      "id": "4d6dd34a-d905-497b-926a-405380ebcf98",
      "metadata": {
        "id": "4d6dd34a-d905-497b-926a-405380ebcf98"
      },
      "outputs": [],
      "source": [
        "# Adapt the layer to the training set\n",
        "vectorize_layer.adapt(text_ds)\n",
        "vocab = vectorize_layer.get_vocabulary()"
      ]
    },
    {
      "cell_type": "code",
      "execution_count": 12,
      "id": "f6c1c7ce-3cf0-40d4-a3dc-ab7090f69f2f",
      "metadata": {
        "colab": {
          "base_uri": "https://localhost:8080/"
        },
        "id": "f6c1c7ce-3cf0-40d4-a3dc-ab7090f69f2f",
        "outputId": "f1ad25e0-fad8-40d1-f79a-b372dc093138"
      },
      "outputs": [
        {
          "output_type": "stream",
          "name": "stdout",
          "text": [
            "0: \n",
            "1: [UNK]\n",
            "2: .\n",
            "3: ,\n",
            "4: and\n",
            "5: to\n",
            "6: in\n",
            "7: the\n",
            "8: with\n",
            "9: a\n"
          ]
        }
      ],
      "source": [
        "# Display some token:word mappings\n",
        "for i, word in enumerate(vocab[:10]):\n",
        "    print(f\"{i}: {word}\")"
      ]
    },
    {
      "cell_type": "code",
      "execution_count": 13,
      "id": "1cc30186-7ec6-4eb6-b29a-65df6714d321",
      "metadata": {
        "colab": {
          "base_uri": "https://localhost:8080/"
        },
        "id": "1cc30186-7ec6-4eb6-b29a-65df6714d321",
        "outputId": "18b38076-91e9-4570-b12f-7b773096ef7e"
      },
      "outputs": [
        {
          "output_type": "stream",
          "name": "stdout",
          "text": [
            "[  26   16  557    1    8  298  335  189    4 1054  494   27  332  228\n",
            "  235  262    5  594   11  133   22  311    2  332   45  262    4  671\n",
            "    4   70    8  171    4   81    6    9   65   80    3  121    3   59\n",
            "   12    2  299    3   88  650   20   39    6    9   29   21    4   67\n",
            "  529   11  164    2  320  171  102    9  374   13  643  306   25   21\n",
            "    8  650    4   42    5  931    2   63    8   24    4   33    2  114\n",
            "   21    6  178  181 1245    4   60    5  140  112    3   48    2  117\n",
            "  557    8  285  235    4  200  292  980    2  107  650   28   72    4\n",
            "  108   10  114    3   57  204   11  172    2   73  110  482    3  298\n",
            "    3  190    3   11   23   32  142   24    3    4   11   23   32  142\n",
            "   33    6    9   30   21    2   42    6  353    3 3224    3    4  150\n",
            "    2  437  494    8 1281    3   37    3   11   23   15  142   33    3\n",
            "    4   11   23   32  142   24    6    9  291  188    5    9  412  572\n",
            "    2  230  494    3   46  335  189    3   20  557    2    0    0    0\n",
            "    0    0    0    0    0]\n"
          ]
        }
      ],
      "source": [
        "# Display the same example converted to ints\n",
        "example_tokenised = vectorize_layer(example_data)\n",
        "print(example_tokenised.numpy())"
      ]
    },
    {
      "cell_type": "markdown",
      "id": "8c195efb-84c6-4be0-a989-a7542188ad35",
      "metadata": {
        "id": "8c195efb-84c6-4be0-a989-a7542188ad35"
      },
      "source": [
        "## 3. Create the Training Set"
      ]
    },
    {
      "cell_type": "code",
      "execution_count": 14,
      "id": "740294a1-1a6b-4c89-92f2-036d7d1b788b",
      "metadata": {
        "id": "740294a1-1a6b-4c89-92f2-036d7d1b788b"
      },
      "outputs": [],
      "source": [
        "# Create the training set of recipes and the same text shifted by one word\n",
        "def prepare_inputs(text):\n",
        "    text = tf.expand_dims(text, -1)\n",
        "    tokenized_sentences = vectorize_layer(text)\n",
        "    x = tokenized_sentences[:, :-1]\n",
        "    y = tokenized_sentences[:, 1:]\n",
        "    return x, y\n",
        "\n",
        "\n",
        "train_ds = text_ds.map(prepare_inputs)"
      ]
    },
    {
      "cell_type": "markdown",
      "id": "aff50401-3abe-4c10-bba8-b35bc13ad7d5",
      "metadata": {
        "id": "aff50401-3abe-4c10-bba8-b35bc13ad7d5"
      },
      "source": [
        "## 4. Build the LSTM <a name=\"build\"></a>"
      ]
    },
    {
      "cell_type": "code",
      "execution_count": 15,
      "id": "9230b5bf-b4a8-48d5-b73b-6899a598f296",
      "metadata": {
        "colab": {
          "base_uri": "https://localhost:8080/",
          "height": 269
        },
        "id": "9230b5bf-b4a8-48d5-b73b-6899a598f296",
        "outputId": "dc856656-0b63-4bac-e41f-c7f0c02fa626"
      },
      "outputs": [
        {
          "output_type": "display_data",
          "data": {
            "text/plain": [
              "\u001b[1mModel: \"functional\"\u001b[0m\n"
            ],
            "text/html": [
              "<pre style=\"white-space:pre;overflow-x:auto;line-height:normal;font-family:Menlo,'DejaVu Sans Mono',consolas,'Courier New',monospace\"><span style=\"font-weight: bold\">Model: \"functional\"</span>\n",
              "</pre>\n"
            ]
          },
          "metadata": {}
        },
        {
          "output_type": "display_data",
          "data": {
            "text/plain": [
              "┏━━━━━━━━━━━━━━━━━━━━━━━━━━━━━━━━━━━━━━┳━━━━━━━━━━━━━━━━━━━━━━━━━━━━━┳━━━━━━━━━━━━━━━━━┓\n",
              "┃\u001b[1m \u001b[0m\u001b[1mLayer (type)                        \u001b[0m\u001b[1m \u001b[0m┃\u001b[1m \u001b[0m\u001b[1mOutput Shape               \u001b[0m\u001b[1m \u001b[0m┃\u001b[1m \u001b[0m\u001b[1m        Param #\u001b[0m\u001b[1m \u001b[0m┃\n",
              "┡━━━━━━━━━━━━━━━━━━━━━━━━━━━━━━━━━━━━━━╇━━━━━━━━━━━━━━━━━━━━━━━━━━━━━╇━━━━━━━━━━━━━━━━━┩\n",
              "│ input_layer (\u001b[38;5;33mInputLayer\u001b[0m)             │ (\u001b[38;5;45mNone\u001b[0m, \u001b[38;5;45mNone\u001b[0m)                │               \u001b[38;5;34m0\u001b[0m │\n",
              "├──────────────────────────────────────┼─────────────────────────────┼─────────────────┤\n",
              "│ embedding (\u001b[38;5;33mEmbedding\u001b[0m)                │ (\u001b[38;5;45mNone\u001b[0m, \u001b[38;5;45mNone\u001b[0m, \u001b[38;5;34m100\u001b[0m)           │       \u001b[38;5;34m1,000,000\u001b[0m │\n",
              "├──────────────────────────────────────┼─────────────────────────────┼─────────────────┤\n",
              "│ lstm (\u001b[38;5;33mLSTM\u001b[0m)                          │ (\u001b[38;5;45mNone\u001b[0m, \u001b[38;5;45mNone\u001b[0m, \u001b[38;5;34m128\u001b[0m)           │         \u001b[38;5;34m117,248\u001b[0m │\n",
              "├──────────────────────────────────────┼─────────────────────────────┼─────────────────┤\n",
              "│ dense (\u001b[38;5;33mDense\u001b[0m)                        │ (\u001b[38;5;45mNone\u001b[0m, \u001b[38;5;45mNone\u001b[0m, \u001b[38;5;34m10000\u001b[0m)         │       \u001b[38;5;34m1,290,000\u001b[0m │\n",
              "└──────────────────────────────────────┴─────────────────────────────┴─────────────────┘\n"
            ],
            "text/html": [
              "<pre style=\"white-space:pre;overflow-x:auto;line-height:normal;font-family:Menlo,'DejaVu Sans Mono',consolas,'Courier New',monospace\">┏━━━━━━━━━━━━━━━━━━━━━━━━━━━━━━━━━━━━━━┳━━━━━━━━━━━━━━━━━━━━━━━━━━━━━┳━━━━━━━━━━━━━━━━━┓\n",
              "┃<span style=\"font-weight: bold\"> Layer (type)                         </span>┃<span style=\"font-weight: bold\"> Output Shape                </span>┃<span style=\"font-weight: bold\">         Param # </span>┃\n",
              "┡━━━━━━━━━━━━━━━━━━━━━━━━━━━━━━━━━━━━━━╇━━━━━━━━━━━━━━━━━━━━━━━━━━━━━╇━━━━━━━━━━━━━━━━━┩\n",
              "│ input_layer (<span style=\"color: #0087ff; text-decoration-color: #0087ff\">InputLayer</span>)             │ (<span style=\"color: #00d7ff; text-decoration-color: #00d7ff\">None</span>, <span style=\"color: #00d7ff; text-decoration-color: #00d7ff\">None</span>)                │               <span style=\"color: #00af00; text-decoration-color: #00af00\">0</span> │\n",
              "├──────────────────────────────────────┼─────────────────────────────┼─────────────────┤\n",
              "│ embedding (<span style=\"color: #0087ff; text-decoration-color: #0087ff\">Embedding</span>)                │ (<span style=\"color: #00d7ff; text-decoration-color: #00d7ff\">None</span>, <span style=\"color: #00d7ff; text-decoration-color: #00d7ff\">None</span>, <span style=\"color: #00af00; text-decoration-color: #00af00\">100</span>)           │       <span style=\"color: #00af00; text-decoration-color: #00af00\">1,000,000</span> │\n",
              "├──────────────────────────────────────┼─────────────────────────────┼─────────────────┤\n",
              "│ lstm (<span style=\"color: #0087ff; text-decoration-color: #0087ff\">LSTM</span>)                          │ (<span style=\"color: #00d7ff; text-decoration-color: #00d7ff\">None</span>, <span style=\"color: #00d7ff; text-decoration-color: #00d7ff\">None</span>, <span style=\"color: #00af00; text-decoration-color: #00af00\">128</span>)           │         <span style=\"color: #00af00; text-decoration-color: #00af00\">117,248</span> │\n",
              "├──────────────────────────────────────┼─────────────────────────────┼─────────────────┤\n",
              "│ dense (<span style=\"color: #0087ff; text-decoration-color: #0087ff\">Dense</span>)                        │ (<span style=\"color: #00d7ff; text-decoration-color: #00d7ff\">None</span>, <span style=\"color: #00d7ff; text-decoration-color: #00d7ff\">None</span>, <span style=\"color: #00af00; text-decoration-color: #00af00\">10000</span>)         │       <span style=\"color: #00af00; text-decoration-color: #00af00\">1,290,000</span> │\n",
              "└──────────────────────────────────────┴─────────────────────────────┴─────────────────┘\n",
              "</pre>\n"
            ]
          },
          "metadata": {}
        },
        {
          "output_type": "display_data",
          "data": {
            "text/plain": [
              "\u001b[1m Total params: \u001b[0m\u001b[38;5;34m2,407,248\u001b[0m (9.18 MB)\n"
            ],
            "text/html": [
              "<pre style=\"white-space:pre;overflow-x:auto;line-height:normal;font-family:Menlo,'DejaVu Sans Mono',consolas,'Courier New',monospace\"><span style=\"font-weight: bold\"> Total params: </span><span style=\"color: #00af00; text-decoration-color: #00af00\">2,407,248</span> (9.18 MB)\n",
              "</pre>\n"
            ]
          },
          "metadata": {}
        },
        {
          "output_type": "display_data",
          "data": {
            "text/plain": [
              "\u001b[1m Trainable params: \u001b[0m\u001b[38;5;34m2,407,248\u001b[0m (9.18 MB)\n"
            ],
            "text/html": [
              "<pre style=\"white-space:pre;overflow-x:auto;line-height:normal;font-family:Menlo,'DejaVu Sans Mono',consolas,'Courier New',monospace\"><span style=\"font-weight: bold\"> Trainable params: </span><span style=\"color: #00af00; text-decoration-color: #00af00\">2,407,248</span> (9.18 MB)\n",
              "</pre>\n"
            ]
          },
          "metadata": {}
        },
        {
          "output_type": "display_data",
          "data": {
            "text/plain": [
              "\u001b[1m Non-trainable params: \u001b[0m\u001b[38;5;34m0\u001b[0m (0.00 B)\n"
            ],
            "text/html": [
              "<pre style=\"white-space:pre;overflow-x:auto;line-height:normal;font-family:Menlo,'DejaVu Sans Mono',consolas,'Courier New',monospace\"><span style=\"font-weight: bold\"> Non-trainable params: </span><span style=\"color: #00af00; text-decoration-color: #00af00\">0</span> (0.00 B)\n",
              "</pre>\n"
            ]
          },
          "metadata": {}
        }
      ],
      "source": [
        "inputs = layers.Input(shape=(None,), dtype=\"int32\")\n",
        "x = layers.Embedding(VOCAB_SIZE, EMBEDDING_DIM)(inputs)\n",
        "x = layers.LSTM(N_UNITS, return_sequences=True)(x)\n",
        "outputs = layers.Dense(VOCAB_SIZE, activation=\"softmax\")(x)\n",
        "lstm = models.Model(inputs, outputs)\n",
        "lstm.summary()"
      ]
    },
    {
      "cell_type": "code",
      "execution_count": 16,
      "id": "800a3c6e-fb11-4792-b6bc-9a43a7c977ad",
      "metadata": {
        "id": "800a3c6e-fb11-4792-b6bc-9a43a7c977ad"
      },
      "outputs": [],
      "source": [
        "if LOAD_MODEL:\n",
        "    # model.load_weights('./models/model')\n",
        "    lstm = models.load_model(\"./models/lstm\", compile=False)"
      ]
    },
    {
      "cell_type": "markdown",
      "id": "35b14665-4359-447b-be58-3fd58ba69084",
      "metadata": {
        "id": "35b14665-4359-447b-be58-3fd58ba69084"
      },
      "source": [
        "## 5. Train the LSTM <a name=\"train\"></a>"
      ]
    },
    {
      "cell_type": "code",
      "execution_count": 17,
      "id": "ffb1bd3b-6fd9-4536-973e-6375bbcbf16d",
      "metadata": {
        "id": "ffb1bd3b-6fd9-4536-973e-6375bbcbf16d"
      },
      "outputs": [],
      "source": [
        "loss_fn = losses.SparseCategoricalCrossentropy()\n",
        "lstm.compile(\"adam\", loss_fn)"
      ]
    },
    {
      "cell_type": "code",
      "execution_count": 18,
      "id": "3ddcff5f-829d-4449-99d2-9a3cb68f7d72",
      "metadata": {
        "id": "3ddcff5f-829d-4449-99d2-9a3cb68f7d72"
      },
      "outputs": [],
      "source": [
        "# Create a TextGenerator checkpoint\n",
        "class TextGenerator(callbacks.Callback):\n",
        "    def __init__(self, index_to_word, top_k=10):\n",
        "        self.index_to_word = index_to_word\n",
        "        self.word_to_index = {\n",
        "            word: index for index, word in enumerate(index_to_word)\n",
        "        }  # <1>\n",
        "\n",
        "    def sample_from(self, probs, temperature):  # <2>\n",
        "        probs = probs ** (1 / temperature)\n",
        "        probs = probs / np.sum(probs)\n",
        "        return np.random.choice(len(probs), p=probs), probs\n",
        "\n",
        "    def generate(self, start_prompt, max_tokens, temperature):\n",
        "        start_tokens = [\n",
        "            self.word_to_index.get(x, 1) for x in start_prompt.split()\n",
        "        ]  # <3>\n",
        "        sample_token = None\n",
        "        info = []\n",
        "        while len(start_tokens) < max_tokens and sample_token != 0:  # <4>\n",
        "            x = np.array([start_tokens])\n",
        "            y = self.model.predict(x, verbose=0)  # <5>\n",
        "            sample_token, probs = self.sample_from(y[0][-1], temperature)  # <6>\n",
        "            info.append({\"prompt\": start_prompt, \"word_probs\": probs})\n",
        "            start_tokens.append(sample_token)  # <7>\n",
        "            start_prompt = start_prompt + \" \" + self.index_to_word[sample_token]\n",
        "        print(f\"\\ngenerated text:{start_prompt}\\n\")\n",
        "        return info\n",
        "\n",
        "    def on_epoch_end(self, epoch, logs=None):\n",
        "        self.generate(\"recipe for\", max_tokens=100, temperature=1.0)"
      ]
    },
    {
      "cell_type": "code",
      "execution_count": 19,
      "id": "349865fe-ffbe-450e-97be-043ae1740e78",
      "metadata": {
        "id": "349865fe-ffbe-450e-97be-043ae1740e78"
      },
      "outputs": [],
      "source": [
        "# Create a model save checkpoint\n",
        "model_checkpoint_callback = callbacks.ModelCheckpoint(\n",
        "    filepath=\"./checkpoint.ckpt.weights.h5\",\n",
        "    save_weights_only=True,\n",
        "    save_freq=\"epoch\",\n",
        "    verbose=0,\n",
        ")\n",
        "\n",
        "tensorboard_callback = callbacks.TensorBoard(log_dir=\"./logs\")\n",
        "\n",
        "# Tokenize starting prompt\n",
        "text_generator = TextGenerator(vocab)"
      ]
    },
    {
      "cell_type": "code",
      "execution_count": 20,
      "id": "461c2b3e-b5ae-4def-8bd9-e7bab8c63d8e",
      "metadata": {
        "colab": {
          "base_uri": "https://localhost:8080/"
        },
        "id": "461c2b3e-b5ae-4def-8bd9-e7bab8c63d8e",
        "outputId": "c5c8726f-f750-4b94-a3e5-ba3ccde88954"
      },
      "outputs": [
        {
          "output_type": "stream",
          "name": "stdout",
          "text": [
            "Epoch 1/25\n",
            "\u001b[1m629/629\u001b[0m \u001b[32m━━━━━━━━━━━━━━━━━━━━\u001b[0m\u001b[37m\u001b[0m \u001b[1m0s\u001b[0m 41ms/step - loss: 5.0046\n",
            "generated text:recipe for apples \n",
            "\n",
            "\u001b[1m629/629\u001b[0m \u001b[32m━━━━━━━━━━━━━━━━━━━━\u001b[0m\u001b[37m\u001b[0m \u001b[1m30s\u001b[0m 42ms/step - loss: 5.0033\n",
            "Epoch 2/25\n",
            "\u001b[1m629/629\u001b[0m \u001b[32m━━━━━━━━━━━━━━━━━━━━\u001b[0m\u001b[37m\u001b[0m \u001b[1m0s\u001b[0m 41ms/step - loss: 3.0644\n",
            "generated text:recipe for heatproof salad with chile , and triple berries | anchovies in a large heavy pot over moderate heat 2 ingredients . add the red radicchio , refresh tomatoes , stir , uncovered , and 1 minute . brown in the other pan , and bring seeds to a boil to one dish . place in each dutch heat over medium heat until stock . about 3 minutes . cook yolks , shred tamarind water , about 30 minutes . add filling , then process until tender slightly wrap , stirring , and turning occasionally , covered , then\n",
            "\n",
            "\u001b[1m629/629\u001b[0m \u001b[32m━━━━━━━━━━━━━━━━━━━━\u001b[0m\u001b[37m\u001b[0m \u001b[1m33s\u001b[0m 52ms/step - loss: 3.0641\n",
            "Epoch 3/25\n",
            "\u001b[1m628/629\u001b[0m \u001b[32m━━━━━━━━━━━━━━━━━━━\u001b[0m\u001b[37m━\u001b[0m \u001b[1m0s\u001b[0m 41ms/step - loss: 2.5369\n",
            "generated text:recipe for roasted bluefish | place a rack on large rimmed baking sheet . in a heavy saucepan melt the olive oil in grill pan with 2 cup packed . add crème ingredients and the orange cream at base , paprika , 1 minute , stirring , until very combined golden , and stir cream in a medium saucepan over 1 4 / 4 cup water . sprinkle with salt and pepper . \n",
            "\n",
            "\u001b[1m629/629\u001b[0m \u001b[32m━━━━━━━━━━━━━━━━━━━━\u001b[0m\u001b[37m\u001b[0m \u001b[1m30s\u001b[0m 48ms/step - loss: 2.5367\n",
            "Epoch 4/25\n",
            "\u001b[1m628/629\u001b[0m \u001b[32m━━━━━━━━━━━━━━━━━━━\u001b[0m\u001b[37m━\u001b[0m \u001b[1m0s\u001b[0m 42ms/step - loss: 2.2838\n",
            "generated text:recipe for swordfish with lemon parsley , garlic , olives , and jalapeño | preheat oven to 425°f . brush butter stalks over halfway through , uncovered , and gently pulse to coat of brush with confectioners no . immediately divide potatoes among loosely loaves . bake curd until lightly charred , 40–50 minutes . transfer cupcakes to cardboard broiler up , and foil after each of fresh to coat with 3 / 2 ounces each of peanuts and each dressing . arrange crust over stack side up , to mixing sides , each powder and 2 cookie . do\n",
            "\n",
            "\u001b[1m629/629\u001b[0m \u001b[32m━━━━━━━━━━━━━━━━━━━━\u001b[0m\u001b[37m\u001b[0m \u001b[1m33s\u001b[0m 52ms/step - loss: 2.2837\n",
            "Epoch 5/25\n",
            "\u001b[1m629/629\u001b[0m \u001b[32m━━━━━━━━━━━━━━━━━━━━\u001b[0m\u001b[37m\u001b[0m \u001b[1m0s\u001b[0m 42ms/step - loss: 2.1290\n",
            "generated text:recipe for date and pecans pineapple together | grate the and peppers in a large heavy bowl and toss to turn . roast , spreading out in bottom of burners , until hot , about 20 minutes . transfer cheese to a ripe pan , then transfer to a large resealable plastic bag and sprinkle with peas , then \n",
            "\n",
            "\u001b[1m629/629\u001b[0m \u001b[32m━━━━━━━━━━━━━━━━━━━━\u001b[0m\u001b[37m\u001b[0m \u001b[1m30s\u001b[0m 47ms/step - loss: 2.1290\n",
            "Epoch 6/25\n",
            "\u001b[1m629/629\u001b[0m \u001b[32m━━━━━━━━━━━━━━━━━━━━\u001b[0m\u001b[37m\u001b[0m \u001b[1m0s\u001b[0m 42ms/step - loss: 2.0228\n",
            "generated text:recipe for wild baby vermont pork in peaches chicken | in a large saucepan combine the raspberries the soft the celery powder , with miso , the worcestershire sauce and the nutmeg , and cook until the next are the pasta comes the time , about 25 seconds , then let squeeze it into a wooden spoon . remove the the fat from the broils . for the soup has very soft , gradually add the browned to a stovetop and strain the mixture through a fine - mesh spinner , pan from water if using on stockpot . put\n",
            "\n",
            "\u001b[1m629/629\u001b[0m \u001b[32m━━━━━━━━━━━━━━━━━━━━\u001b[0m\u001b[37m\u001b[0m \u001b[1m33s\u001b[0m 52ms/step - loss: 2.0228\n",
            "Epoch 7/25\n",
            "\u001b[1m628/629\u001b[0m \u001b[32m━━━━━━━━━━━━━━━━━━━\u001b[0m\u001b[37m━\u001b[0m \u001b[1m0s\u001b[0m 42ms/step - loss: 1.9658\n",
            "generated text:recipe for chocolate cream and roll dough | combine all the ingredients to dissolve sugar , cream , into a small bowl . cook in the brandy until tender but not the touch , about 10 by 30 minutes . add the next 4 cups maximum pots to 1 cup crushed oregano , and stir until it is soft and the notes and beat it just before proceeding with a rubber mixer , until blended and light if you ' re punch , know the dough will fit over with the heat . the blender , covered , covered and\n",
            "\n",
            "\u001b[1m629/629\u001b[0m \u001b[32m━━━━━━━━━━━━━━━━━━━━\u001b[0m\u001b[37m\u001b[0m \u001b[1m33s\u001b[0m 52ms/step - loss: 1.9658\n",
            "Epoch 8/25\n",
            "\u001b[1m629/629\u001b[0m \u001b[32m━━━━━━━━━━━━━━━━━━━━\u001b[0m\u001b[37m\u001b[0m \u001b[1m0s\u001b[0m 43ms/step - loss: 1.9032\n",
            "generated text:recipe for orange - mustard and dashi spread | 1 . crème anglaise can be prepared up to 1 day in advance . increase oven temperature to room temperature and refrigerate overnight , about 2 - shaped wedges on the cakes , and top with the whole peppers . measure squash and 1 separately in 13x9x2 x bowl . broil sausage in large pot of boiling salted cooking water in same pot . simmer uncovered until next , 15 very heated minutes . season with salt and pepper . preheat oven to 350°f . sprinkle with salt ; whisk 1\n",
            "\n",
            "\u001b[1m629/629\u001b[0m \u001b[32m━━━━━━━━━━━━━━━━━━━━\u001b[0m\u001b[37m\u001b[0m \u001b[1m42s\u001b[0m 53ms/step - loss: 1.9032\n",
            "Epoch 9/25\n",
            "\u001b[1m629/629\u001b[0m \u001b[32m━━━━━━━━━━━━━━━━━━━━\u001b[0m\u001b[37m\u001b[0m \u001b[1m0s\u001b[0m 43ms/step - loss: 1.8586\n",
            "generated text:recipe for ultimate are mace stir | combine sugar , butter , brown sugar and mushrooms in medium bowl to whisk buttermilk , swirling pan . add flour , honey , and 1 / 4 cup almond from vanilla ; whisk to combine to extract and beat until cream cheese melts . stir in crystallized lemon peel . pour raspberry syrup into large bowl ; stir 2 to 25 minutes . pour in 2 cup glasses and fold back into beet mixture into yolk mixture . chill until cold mixture , about 3 to 30 minutes . ( can be\n",
            "\n",
            "\u001b[1m629/629\u001b[0m \u001b[32m━━━━━━━━━━━━━━━━━━━━\u001b[0m\u001b[37m\u001b[0m \u001b[1m33s\u001b[0m 53ms/step - loss: 1.8585\n",
            "Epoch 10/25\n",
            "\u001b[1m629/629\u001b[0m \u001b[32m━━━━━━━━━━━━━━━━━━━━\u001b[0m\u001b[37m\u001b[0m \u001b[1m0s\u001b[0m 43ms/step - loss: 1.8056\n",
            "generated text:recipe for curried beet salad with kid barbecue sauce | then other ovenproof same mugs , combine the cabbage and lettuce wedges slightly with a sharp paring knife . cut the tomato mixture into equal wedges , including hard and pith , and walnut triangles with the diagonal into a 1 / 4 - inch - thick slices . if you like the croquettes pulled out pimentón , which is nontempered , flavored the cream through 8 to 1 / 2 - cup ) and 1 - plenty of garlic . \n",
            "\n",
            "\u001b[1m629/629\u001b[0m \u001b[32m━━━━━━━━━━━━━━━━━━━━\u001b[0m\u001b[37m\u001b[0m \u001b[1m41s\u001b[0m 52ms/step - loss: 1.8055\n",
            "Epoch 11/25\n",
            "\u001b[1m628/629\u001b[0m \u001b[32m━━━━━━━━━━━━━━━━━━━\u001b[0m\u001b[37m━\u001b[0m \u001b[1m0s\u001b[0m 43ms/step - loss: 1.7689\n",
            "generated text:recipe for mexican baked cranberry mixture | preheat oven to 400°f . spray rimmed baking sheet with plastic wrap . toss grapes , cilantro , pepper 1 / 4 cup basil , and 1 / 2 cup sugar in another bowl . whisk buttermilk , walnuts , oats , egg and butter until melted and fluffy . melt 1 tablespoon butter in heavy medium saucepan over low heat until any solids in color , about 7 minutes . carefully whisk cream and egg whites in sugar mixture without salt and stir into curd until firm peaks . fill bowl of\n",
            "\n",
            "\u001b[1m629/629\u001b[0m \u001b[32m━━━━━━━━━━━━━━━━━━━━\u001b[0m\u001b[37m\u001b[0m \u001b[1m34s\u001b[0m 54ms/step - loss: 1.7689\n",
            "Epoch 12/25\n",
            "\u001b[1m628/629\u001b[0m \u001b[32m━━━━━━━━━━━━━━━━━━━\u001b[0m\u001b[37m━\u001b[0m \u001b[1m0s\u001b[0m 44ms/step - loss: 1.7294\n",
            "generated text:recipe for sparkling chile sauce | place chilies in processor and then add oil ingredients to coat . pat dry . repeat chile 15x10x2 - inch - fashioned glass . \n",
            "\n",
            "\u001b[1m629/629\u001b[0m \u001b[32m━━━━━━━━━━━━━━━━━━━━\u001b[0m\u001b[37m\u001b[0m \u001b[1m29s\u001b[0m 47ms/step - loss: 1.7294\n",
            "Epoch 13/25\n",
            "\u001b[1m629/629\u001b[0m \u001b[32m━━━━━━━━━━━━━━━━━━━━\u001b[0m\u001b[37m\u001b[0m \u001b[1m0s\u001b[0m 44ms/step - loss: 1.7112\n",
            "generated text:recipe for garlicky rice | bring 2 cups broth and water to boil in heavy medium saucepan ( if using ) . heat over medium - low heat until mixture thickens , about 3 minutes . add butter , and 1 / 2 cup gochujang to skillet and bring to simmer . reduce heat to medium - low ; simmer until chili is slightly reduced , about 10 minutes . sprinkle mushroom mixture over cauliflower and herbs , drizzle with remaining tablespoon oil . sprinkle with 1 / 3 cup sugar . grill until just cooked through , about 4\n",
            "\n",
            "\u001b[1m629/629\u001b[0m \u001b[32m━━━━━━━━━━━━━━━━━━━━\u001b[0m\u001b[37m\u001b[0m \u001b[1m46s\u001b[0m 55ms/step - loss: 1.7112\n",
            "Epoch 14/25\n",
            "\u001b[1m628/629\u001b[0m \u001b[32m━━━━━━━━━━━━━━━━━━━\u001b[0m\u001b[37m━\u001b[0m \u001b[1m0s\u001b[0m 44ms/step - loss: 1.6800\n",
            "generated text:recipe for vidalia olive oil aioli | stir 1 spinach into large bowl . heat oil in large skillet over medium - high heat . add white salted water and sauté until translucent , about 4 minutes . gradually add 1 1 / 2 cups water ; simmer until lentils are tender and beginning to soften , about 12 minutes . salt and add potato syrup , onion , and bacon and heat and stir 1 minute . stir in reserved cooking liquid , salt , broccoli and cook , stirring occasionally . bring to simmer . remove from heat\n",
            "\n",
            "\u001b[1m629/629\u001b[0m \u001b[32m━━━━━━━━━━━━━━━━━━━━\u001b[0m\u001b[37m\u001b[0m \u001b[1m34s\u001b[0m 54ms/step - loss: 1.6801\n",
            "Epoch 15/25\n",
            "\u001b[1m629/629\u001b[0m \u001b[32m━━━━━━━━━━━━━━━━━━━━\u001b[0m\u001b[37m\u001b[0m \u001b[1m0s\u001b[0m 43ms/step - loss: 1.6621\n",
            "generated text:recipe for crispy chicken stuffed swordfish | cook tarragon in oil in a 12 - inch heavy skillet over moderate heat , stirring occasionally , until browned and soft , 5 to 8 minutes . plunge through dashi into a large bowl , cover with a rubber spoon or colander . transfer and ricotta . in another bowl and gently mix the salt and pepper to combine . transfer a large to processor and mash with buttermilk and cheese and stir well into vegetables . let sit at room temperature 15 minutes before eating ( do not overcook . )\n",
            "\n",
            "\u001b[1m629/629\u001b[0m \u001b[32m━━━━━━━━━━━━━━━━━━━━\u001b[0m\u001b[37m\u001b[0m \u001b[1m40s\u001b[0m 54ms/step - loss: 1.6621\n",
            "Epoch 16/25\n",
            "\u001b[1m629/629\u001b[0m \u001b[32m━━━━━━━━━━━━━━━━━━━━\u001b[0m\u001b[37m\u001b[0m \u001b[1m0s\u001b[0m 43ms/step - loss: 1.6526\n",
            "generated text:recipe for penne with garlic icing , goat cheese and tom mayo or ancho pepper chili | in a large nonstick skillet heat 2 tablespoons of oil over moderate heat until hot but foam subsides , onions , and cumin seeds and thyme . transfer to skillet with slow , then oil . meanwhile , cook spaghetti in large pot of boiling salted water until crisp - tender , about 6 minutes . drain vegetables in foil and pour through a colander and transfer to a bowl set to a bowl . cook tofu in boiling water until a soft\n",
            "\n",
            "\u001b[1m629/629\u001b[0m \u001b[32m━━━━━━━━━━━━━━━━━━━━\u001b[0m\u001b[37m\u001b[0m \u001b[1m34s\u001b[0m 54ms/step - loss: 1.6526\n",
            "Epoch 17/25\n",
            "\u001b[1m628/629\u001b[0m \u001b[32m━━━━━━━━━━━━━━━━━━━\u001b[0m\u001b[37m━\u001b[0m \u001b[1m0s\u001b[0m 43ms/step - loss: 1.6398\n",
            "generated text:recipe for leek and dried coconut | ( if you will leave out bowl after handle and previously collapse , see using sharp knife , [UNK] segment of any dark white membrane of tan . remove ginger skins from the berries and remove the seeds from orange rind , and cool to soften . before you plan to remove down the bottom of the bowl ; set aside . fried the grate 1 / 4 cup of vegetable oil into a bowl ; in a bowl combine the vinegar , the sugar , the flours , 1 / 2 teaspoon\n",
            "\n",
            "\u001b[1m629/629\u001b[0m \u001b[32m━━━━━━━━━━━━━━━━━━━━\u001b[0m\u001b[37m\u001b[0m \u001b[1m33s\u001b[0m 53ms/step - loss: 1.6398\n",
            "Epoch 18/25\n",
            "\u001b[1m628/629\u001b[0m \u001b[32m━━━━━━━━━━━━━━━━━━━\u001b[0m\u001b[37m━\u001b[0m \u001b[1m0s\u001b[0m 44ms/step - loss: 1.6219\n",
            "generated text:recipe for vegetable and chocolate cakes with cheddar cheese freezer | melt butter in heavy medium saucepan over medium - high heat . add ginger and rub ( do not potatoes should be brown through ) . add flour and whisk to blend . return saucepan ; boil 2 minutes . add pears , then dried cherries . return beans to pot . bring to boil , cover and reduce heat to 350°f . remove pan from heat , then transfer to a bowl of cold water . scrape down sides of pan . whisk cornmeal , cocoa , coconut\n",
            "\n",
            "\u001b[1m629/629\u001b[0m \u001b[32m━━━━━━━━━━━━━━━━━━━━\u001b[0m\u001b[37m\u001b[0m \u001b[1m42s\u001b[0m 54ms/step - loss: 1.6219\n",
            "Epoch 19/25\n",
            "\u001b[1m628/629\u001b[0m \u001b[32m━━━━━━━━━━━━━━━━━━━\u001b[0m\u001b[37m━\u001b[0m \u001b[1m0s\u001b[0m 44ms/step - loss: 1.6066\n",
            "generated text:recipe for molasses - crème brûlée | preheat the oven to 375°f . butter two of a 2 - cup soufflé or other small , 2 . trim the base into a 9 - inch - thick round ; fit it into a 13 - quart cavity and gently tap out all into it . enclose butter in cold cold water in a 13 - inch pieces and scrape them as squeezed , separate pulp from out excess flour and discarding pod . in large bowl , mix cottage cheese , and vanilla . coarsely chop soft enough to hold\n",
            "\n",
            "\u001b[1m629/629\u001b[0m \u001b[32m━━━━━━━━━━━━━━━━━━━━\u001b[0m\u001b[37m\u001b[0m \u001b[1m34s\u001b[0m 54ms/step - loss: 1.6066\n",
            "Epoch 20/25\n",
            "\u001b[1m629/629\u001b[0m \u001b[32m━━━━━━━━━━━━━━━━━━━━\u001b[0m\u001b[37m\u001b[0m \u001b[1m0s\u001b[0m 44ms/step - loss: 1.5980\n",
            "generated text:recipe for red bell pepper and rosemary salad | dissolve salt in heavy medium pot . add oxtails ; set , uncovered , over high heat until just tender , stirring 30 to 35 minutes . remove from heat . add wine and boil 1 minute . set aside . pour goat cheese over bread to potatoes ; drizzle with oil . roast until vegetables begin to brown and rice are tender , about 20 minutes . discard cinnamon stick . cut radishes into 1 - inch squares . do ahead : can be made 1 day ahead . chill\n",
            "\n",
            "\u001b[1m629/629\u001b[0m \u001b[32m━━━━━━━━━━━━━━━━━━━━\u001b[0m\u001b[37m\u001b[0m \u001b[1m33s\u001b[0m 53ms/step - loss: 1.5980\n",
            "Epoch 21/25\n",
            "\u001b[1m629/629\u001b[0m \u001b[32m━━━━━━━━━━━━━━━━━━━━\u001b[0m\u001b[37m\u001b[0m \u001b[1m0s\u001b[0m 44ms/step - loss: 1.5840\n",
            "generated text:recipe for apple salad with spiced pineapple | place the strainer directly on the hot grate to remove any loose shells . set aside . pour 1 quart rice water into heavy cocktail small saucepan ; reserve . place lids in medium saucepan . bring to boil over high heat . reduce to cover . simmer for about 3 minutes . reduce heat and whisk until very smooth , stirring frequently , about 8 minutes . return to boil , stirring until sugar dissolves , about 2 minutes . cool . toss salad with gremolata ; spray blend and serve\n",
            "\n",
            "\u001b[1m629/629\u001b[0m \u001b[32m━━━━━━━━━━━━━━━━━━━━\u001b[0m\u001b[37m\u001b[0m \u001b[1m42s\u001b[0m 54ms/step - loss: 1.5840\n",
            "Epoch 22/25\n",
            "\u001b[1m628/629\u001b[0m \u001b[32m━━━━━━━━━━━━━━━━━━━\u001b[0m\u001b[37m━\u001b[0m \u001b[1m0s\u001b[0m 44ms/step - loss: 1.5631\n",
            "generated text:recipe for thai fish stock | wash cabbage leaves and in a small saucepan of boiling water ( about 1 / 2 quarts water ) and simmer , stirring occasionally , until liquid - tender , 20 - 6 minutes . ( purée dumplings begin to grind to give to a full boil . pour this stock into a bundle and boiling water in a 4 - quart pot of water , soak lid occasionally , until figs are fennel is a tender , about 20 minutes . drain pasta , rinse with cold water , discarding liquid . halve\n",
            "\n",
            "\u001b[1m629/629\u001b[0m \u001b[32m━━━━━━━━━━━━━━━━━━━━\u001b[0m\u001b[37m\u001b[0m \u001b[1m34s\u001b[0m 54ms/step - loss: 1.5631\n",
            "Epoch 23/25\n",
            "\u001b[1m628/629\u001b[0m \u001b[32m━━━━━━━━━━━━━━━━━━━\u001b[0m\u001b[37m━\u001b[0m \u001b[1m0s\u001b[0m 43ms/step - loss: 1.5585\n",
            "generated text:recipe for spiced sweet - \" cake sauté | using small brioches , cut off eggs . cut a egg into 1 / 2 - inch - thick slices ( be careful not to hold ricotta ) . brush potatoes with 1 tablespoon oil . top with egg mixture . transfer right side up to middle of a buttered 3 - up 7 - inch - degree about 2 - quart gratin pudding mold , then let it stand up to 5 x in a very large deep , buttered 1 - 2 - quart baking dish ; lined with\n",
            "\n",
            "\u001b[1m629/629\u001b[0m \u001b[32m━━━━━━━━━━━━━━━━━━━━\u001b[0m\u001b[37m\u001b[0m \u001b[1m33s\u001b[0m 52ms/step - loss: 1.5585\n",
            "Epoch 24/25\n",
            "\u001b[1m628/629\u001b[0m \u001b[32m━━━━━━━━━━━━━━━━━━━\u001b[0m\u001b[37m━\u001b[0m \u001b[1m0s\u001b[0m 43ms/step - loss: 1.5481\n",
            "generated text:recipe for pan - wrapped fish with candied ginger , bay leaves | preheat oven to 400°f . place salmon on baking sheet . bake until juices form , about 40 minutes . discard remaining basil sprigs . wash spinach in hot ; reserve cooking liquid . slice tomatoes diagonally ; cut crosswise into 3 x 6 - inch lengths . using on / off turns , use 2 tablespoons ( depending on brand of rice ) , add melted butter , 1 / 4 cup chopped green nuts , 2 tablespoons green chipotles ; toss . let stand at\n",
            "\n",
            "\u001b[1m629/629\u001b[0m \u001b[32m━━━━━━━━━━━━━━━━━━━━\u001b[0m\u001b[37m\u001b[0m \u001b[1m42s\u001b[0m 53ms/step - loss: 1.5482\n",
            "Epoch 25/25\n",
            "\u001b[1m629/629\u001b[0m \u001b[32m━━━━━━━━━━━━━━━━━━━━\u001b[0m\u001b[37m\u001b[0m \u001b[1m0s\u001b[0m 43ms/step - loss: 1.5340\n",
            "generated text:recipe for yogurt , garlic , and scallions | bring kumquats , sugar , coriander , water , and a pinch of salt in a bowl to a boil and reduce heat to medium and cover ; chill . ( stock makes a heatproof soup before using a fondue measure ( medium ) 2 cups tomato and 2 wild sauce except trout ; heat until melted . reduce the heat to a sauce , then add noodle relish to the glass . \n",
            "\n",
            "\u001b[1m629/629\u001b[0m \u001b[32m━━━━━━━━━━━━━━━━━━━━\u001b[0m\u001b[37m\u001b[0m \u001b[1m32s\u001b[0m 51ms/step - loss: 1.5340\n"
          ]
        },
        {
          "output_type": "execute_result",
          "data": {
            "text/plain": [
              "<keras.src.callbacks.history.History at 0x790a25f64040>"
            ]
          },
          "metadata": {},
          "execution_count": 20
        }
      ],
      "source": [
        "lstm.fit(\n",
        "    train_ds,\n",
        "    epochs=EPOCHS,\n",
        "    callbacks=[model_checkpoint_callback, tensorboard_callback, text_generator],\n",
        ")"
      ]
    },
    {
      "cell_type": "code",
      "execution_count": 21,
      "id": "369bde44-2e39-4bc6-8549-a3a27ecce55c",
      "metadata": {
        "id": "369bde44-2e39-4bc6-8549-a3a27ecce55c"
      },
      "outputs": [],
      "source": [
        "# Save the final model\n",
        "lstm.save(\"./lstm.keras\")"
      ]
    },
    {
      "cell_type": "markdown",
      "id": "d64e02d2-84dc-40c8-8446-40c09adf1e20",
      "metadata": {
        "id": "d64e02d2-84dc-40c8-8446-40c09adf1e20"
      },
      "source": [
        "## 6. Generate text using the LSTM"
      ]
    },
    {
      "cell_type": "code",
      "execution_count": 22,
      "id": "4ad23adb-3ec9-4e9a-9a59-b9f9bafca649",
      "metadata": {
        "id": "4ad23adb-3ec9-4e9a-9a59-b9f9bafca649"
      },
      "outputs": [],
      "source": [
        "def print_probs(info, vocab, top_k=5):\n",
        "    for i in info:\n",
        "        print(f\"\\nPROMPT: {i['prompt']}\")\n",
        "        word_probs = i[\"word_probs\"]\n",
        "        p_sorted = np.sort(word_probs)[::-1][:top_k]\n",
        "        i_sorted = np.argsort(word_probs)[::-1][:top_k]\n",
        "        for p, i in zip(p_sorted, i_sorted):\n",
        "            print(f\"{vocab[i]}:   \\t{np.round(100*p,2)}%\")\n",
        "        print(\"--------\\n\")"
      ]
    },
    {
      "cell_type": "code",
      "execution_count": 23,
      "id": "3cf25578-d47c-4b26-8252-fcdf2316a4ac",
      "metadata": {
        "id": "3cf25578-d47c-4b26-8252-fcdf2316a4ac",
        "colab": {
          "base_uri": "https://localhost:8080/"
        },
        "outputId": "c4290e61-6e1e-4d58-f318-f5061c5f4f5f"
      },
      "outputs": [
        {
          "output_type": "stream",
          "name": "stdout",
          "text": [
            "\n",
            "generated text:recipe for roasted vegetables | chop 1 / 4 pound\n",
            "\n"
          ]
        }
      ],
      "source": [
        "info = text_generator.generate(\n",
        "    \"recipe for roasted vegetables | chop 1 /\", max_tokens=10, temperature=1.0\n",
        ")"
      ]
    },
    {
      "cell_type": "code",
      "execution_count": 24,
      "id": "9df72866-b483-4489-8e26-d5e1466410fa",
      "metadata": {
        "id": "9df72866-b483-4489-8e26-d5e1466410fa",
        "colab": {
          "base_uri": "https://localhost:8080/"
        },
        "outputId": "88eb7557-db81-4c71-d3dc-44e213951799"
      },
      "outputs": [
        {
          "output_type": "stream",
          "name": "stdout",
          "text": [
            "\n",
            "PROMPT: recipe for roasted vegetables | chop 1 /\n",
            "4:   \t41.08%\n",
            "2:   \t38.03%\n",
            "3:   \t16.85%\n",
            "8:   \t1.45%\n",
            "1:   \t0.76%\n",
            "--------\n",
            "\n",
            "\n",
            "PROMPT: recipe for roasted vegetables | chop 1 / 4\n",
            "cup:   \t47.84%\n",
            "of:   \t10.88%\n",
            "inch:   \t9.48%\n",
            "teaspoon:   \t6.86%\n",
            "pound:   \t4.47%\n",
            "--------\n",
            "\n"
          ]
        }
      ],
      "source": [
        "print_probs(info, vocab)"
      ]
    },
    {
      "cell_type": "code",
      "execution_count": 25,
      "id": "562e1fe8-cbcb-438f-9637-2f2a6279c924",
      "metadata": {
        "id": "562e1fe8-cbcb-438f-9637-2f2a6279c924",
        "colab": {
          "base_uri": "https://localhost:8080/"
        },
        "outputId": "13a5c511-27c0-420a-e099-a0a3eb3c9fde"
      },
      "outputs": [
        {
          "output_type": "stream",
          "name": "stdout",
          "text": [
            "\n",
            "generated text:recipe for roasted vegetables | chop 1 / 4 cup\n",
            "\n"
          ]
        }
      ],
      "source": [
        "info = text_generator.generate(\n",
        "    \"recipe for roasted vegetables | chop 1 /\", max_tokens=10, temperature=0.5\n",
        ")"
      ]
    },
    {
      "cell_type": "code",
      "execution_count": 26,
      "id": "56356f21-04ac-40e5-94ff-291eca6a7054",
      "metadata": {
        "id": "56356f21-04ac-40e5-94ff-291eca6a7054",
        "colab": {
          "base_uri": "https://localhost:8080/"
        },
        "outputId": "b87bd2b3-f2ef-4cc8-f946-7ad0d6827f21"
      },
      "outputs": [
        {
          "output_type": "stream",
          "name": "stdout",
          "text": [
            "\n",
            "PROMPT: recipe for roasted vegetables | chop 1 /\n",
            "4:   \t49.33%\n",
            "2:   \t42.28%\n",
            "3:   \t8.3%\n",
            "8:   \t0.06%\n",
            "1:   \t0.02%\n",
            "--------\n",
            "\n",
            "\n",
            "PROMPT: recipe for roasted vegetables | chop 1 / 4\n",
            "cup:   \t88.55%\n",
            "of:   \t4.58%\n",
            "inch:   \t3.48%\n",
            "teaspoon:   \t1.82%\n",
            "pound:   \t0.77%\n",
            "--------\n",
            "\n"
          ]
        }
      ],
      "source": [
        "print_probs(info, vocab)"
      ]
    },
    {
      "cell_type": "code",
      "execution_count": 27,
      "id": "2e434497-07f3-4989-a68d-3e31cf8fa4fe",
      "metadata": {
        "id": "2e434497-07f3-4989-a68d-3e31cf8fa4fe",
        "colab": {
          "base_uri": "https://localhost:8080/"
        },
        "outputId": "1cb2578f-a13c-4d9b-dc4f-c089c3c14c24"
      },
      "outputs": [
        {
          "output_type": "stream",
          "name": "stdout",
          "text": [
            "\n",
            "generated text:recipe for chocolate ice cream | »\n",
            "\n",
            "\n",
            "PROMPT: recipe for chocolate ice cream |\n",
            "whisk:   \t5.73%\n",
            "stir:   \t5.67%\n",
            "combine:   \t4.57%\n",
            "bring:   \t4.23%\n",
            "in:   \t4.1%\n",
            "--------\n",
            "\n"
          ]
        }
      ],
      "source": [
        "info = text_generator.generate(\n",
        "    \"recipe for chocolate ice cream |\", max_tokens=7, temperature=1.5\n",
        ")\n",
        "print_probs(info, vocab)"
      ]
    },
    {
      "cell_type": "code",
      "execution_count": 28,
      "id": "011cd0e0-956c-4a63-8ec3-f7dfed31764e",
      "metadata": {
        "id": "011cd0e0-956c-4a63-8ec3-f7dfed31764e",
        "colab": {
          "base_uri": "https://localhost:8080/"
        },
        "outputId": "48b7f31a-d8e6-466d-a50f-5b3878e0c2da"
      },
      "outputs": [
        {
          "output_type": "stream",
          "name": "stdout",
          "text": [
            "\n",
            "generated text:recipe for chocolate ice cream | whisk\n",
            "\n",
            "\n",
            "PROMPT: recipe for chocolate ice cream |\n",
            "whisk:   \t42.26%\n",
            "stir:   \t39.23%\n",
            "combine:   \t7.78%\n",
            "bring:   \t4.38%\n",
            "in:   \t3.47%\n",
            "--------\n",
            "\n"
          ]
        }
      ],
      "source": [
        "info = text_generator.generate(\n",
        "    \"recipe for chocolate ice cream |\", max_tokens=7, temperature=0.2\n",
        ")\n",
        "print_probs(info, vocab)"
      ]
    },
    {
      "cell_type": "code",
      "execution_count": 29,
      "id": "9m9iwotiJS8M",
      "metadata": {
        "id": "9m9iwotiJS8M",
        "colab": {
          "base_uri": "https://localhost:8080/"
        },
        "outputId": "65beb6a6-ceb5-47ef-cff5-6fb1aeae674c"
      },
      "outputs": [
        {
          "output_type": "stream",
          "name": "stdout",
          "text": [
            "\n",
            "generated text:recipe for lemon fried rice | in a large saucepan bring water to a boil and simmer , partially covered , until liquid is reduced to about 2 cups , about 3 minutes . remove from heat and let stand , covered , 10 minutes . add garlic and juice and bring to a boil . reduce heat and simmer , covered , until very tender , about 5 minutes . discard bay leaf . stir in remaining 1 tablespoon oil and cook , stirring , until shrimp are just cooked through , about 3 minutes . add remaining 1\n",
            "\n",
            "\n",
            "PROMPT: recipe for lemon fried rice |\n",
            "in:   \t54.96%\n",
            "heat:   \t15.92%\n",
            "bring:   \t10.3%\n",
            "combine:   \t5.82%\n",
            "whisk:   \t3.81%\n",
            "--------\n",
            "\n",
            "\n",
            "PROMPT: recipe for lemon fried rice | in\n",
            "a:   \t99.99%\n",
            "large:   \t0.01%\n",
            "an:   \t0.0%\n",
            "the:   \t0.0%\n",
            "medium:   \t0.0%\n",
            "--------\n",
            "\n",
            "\n",
            "PROMPT: recipe for lemon fried rice | in a\n",
            "large:   \t60.82%\n",
            "small:   \t12.42%\n",
            "bowl:   \t11.19%\n",
            "saucepan:   \t7.69%\n",
            "heavy:   \t3.69%\n",
            "--------\n",
            "\n",
            "\n",
            "PROMPT: recipe for lemon fried rice | in a large\n",
            "saucepan:   \t58.73%\n",
            "bowl:   \t23.96%\n",
            "heavy:   \t12.67%\n",
            "pot:   \t3.39%\n",
            "skillet:   \t0.53%\n",
            "--------\n",
            "\n",
            "\n",
            "PROMPT: recipe for lemon fried rice | in a large saucepan\n",
            "of:   \t44.09%\n",
            ",:   \t18.9%\n",
            "bring:   \t18.24%\n",
            "combine:   \t10.26%\n",
            "simmer:   \t2.31%\n",
            "--------\n",
            "\n",
            "\n",
            "PROMPT: recipe for lemon fried rice | in a large saucepan bring\n",
            "water:   \t48.96%\n",
            "1:   \t37.91%\n",
            "enough:   \t3.59%\n",
            "2:   \t1.68%\n",
            "the:   \t1.38%\n",
            "--------\n",
            "\n",
            "\n",
            "PROMPT: recipe for lemon fried rice | in a large saucepan bring water\n",
            "to:   \t92.17%\n",
            "and:   \t5.13%\n",
            ",:   \t2.49%\n",
            "just:   \t0.06%\n",
            "as:   \t0.06%\n",
            "--------\n",
            "\n",
            "\n",
            "PROMPT: recipe for lemon fried rice | in a large saucepan bring water to\n",
            "a:   \t99.92%\n",
            "boil:   \t0.08%\n",
            "simmer:   \t0.0%\n",
            "room:   \t0.0%\n",
            "cover:   \t0.0%\n",
            "--------\n",
            "\n",
            "\n",
            "PROMPT: recipe for lemon fried rice | in a large saucepan bring water to a\n",
            "boil:   \t99.38%\n",
            "simmer:   \t0.58%\n",
            "bare:   \t0.02%\n",
            "gentle:   \t0.0%\n",
            "tremble:   \t0.0%\n",
            "--------\n",
            "\n",
            "\n",
            "PROMPT: recipe for lemon fried rice | in a large saucepan bring water to a boil\n",
            "with:   \t45.98%\n",
            ",:   \t21.05%\n",
            ".:   \t18.94%\n",
            "and:   \t7.35%\n",
            "in:   \t3.71%\n",
            "--------\n",
            "\n",
            "\n",
            "PROMPT: recipe for lemon fried rice | in a large saucepan bring water to a boil and\n",
            "cook:   \t29.37%\n",
            "simmer:   \t24.08%\n",
            "add:   \t19.43%\n",
            "boil:   \t13.69%\n",
            "stir:   \t2.74%\n",
            "--------\n",
            "\n",
            "\n",
            "PROMPT: recipe for lemon fried rice | in a large saucepan bring water to a boil and simmer\n",
            ",:   \t95.31%\n",
            "until:   \t3.29%\n",
            "over:   \t0.45%\n",
            "gently:   \t0.29%\n",
            "it:   \t0.12%\n",
            "--------\n",
            "\n",
            "\n",
            "PROMPT: recipe for lemon fried rice | in a large saucepan bring water to a boil and simmer ,\n",
            "uncovered:   \t36.35%\n",
            "covered:   \t33.85%\n",
            "partially:   \t24.16%\n",
            "stirring:   \t5.23%\n",
            "skimming:   \t0.3%\n",
            "--------\n",
            "\n",
            "\n",
            "PROMPT: recipe for lemon fried rice | in a large saucepan bring water to a boil and simmer , partially\n",
            "covered:   \t100.0%\n",
            "cover:   \t0.0%\n",
            ",:   \t0.0%\n",
            "stirring:   \t0.0%\n",
            "partially:   \t0.0%\n",
            "--------\n",
            "\n",
            "\n",
            "PROMPT: recipe for lemon fried rice | in a large saucepan bring water to a boil and simmer , partially covered\n",
            ",:   \t99.9%\n",
            ".:   \t0.07%\n",
            "with:   \t0.01%\n",
            "and:   \t0.01%\n",
            "partially:   \t0.0%\n",
            "--------\n",
            "\n",
            "\n",
            "PROMPT: recipe for lemon fried rice | in a large saucepan bring water to a boil and simmer , partially covered ,\n",
            "until:   \t86.41%\n",
            "stirring:   \t8.96%\n",
            "skimming:   \t2.22%\n",
            "over:   \t0.71%\n",
            "5:   \t0.26%\n",
            "--------\n",
            "\n",
            "\n",
            "PROMPT: recipe for lemon fried rice | in a large saucepan bring water to a boil and simmer , partially covered , until\n",
            "tender:   \t27.05%\n",
            "reduced:   \t19.64%\n",
            "liquid:   \t9.33%\n",
            "beans:   \t6.32%\n",
            "just:   \t5.2%\n",
            "--------\n",
            "\n",
            "\n",
            "PROMPT: recipe for lemon fried rice | in a large saucepan bring water to a boil and simmer , partially covered , until liquid\n",
            "is:   \t98.88%\n",
            "has:   \t0.83%\n",
            "reduces:   \t0.21%\n",
            "evaporates:   \t0.02%\n",
            "measures:   \t0.01%\n",
            "--------\n",
            "\n",
            "\n",
            "PROMPT: recipe for lemon fried rice | in a large saucepan bring water to a boil and simmer , partially covered , until liquid is\n",
            "reduced:   \t96.24%\n",
            "absorbed:   \t3.14%\n",
            "evaporated:   \t0.35%\n",
            "almost:   \t0.08%\n",
            "very:   \t0.06%\n",
            "--------\n",
            "\n",
            "\n",
            "PROMPT: recipe for lemon fried rice | in a large saucepan bring water to a boil and simmer , partially covered , until liquid is reduced\n",
            "to:   \t60.79%\n",
            "by:   \t38.82%\n",
            "and:   \t0.26%\n",
            ",:   \t0.13%\n",
            "down:   \t0.0%\n",
            "--------\n",
            "\n",
            "\n",
            "PROMPT: recipe for lemon fried rice | in a large saucepan bring water to a boil and simmer , partially covered , until liquid is reduced to\n",
            "about:   \t81.45%\n",
            "1:   \t14.87%\n",
            "3:   \t1.72%\n",
            "2:   \t0.96%\n",
            "a:   \t0.69%\n",
            "--------\n",
            "\n",
            "\n",
            "PROMPT: recipe for lemon fried rice | in a large saucepan bring water to a boil and simmer , partially covered , until liquid is reduced to about\n",
            "1:   \t59.41%\n",
            "2:   \t30.77%\n",
            "3:   \t6.97%\n",
            "4:   \t1.09%\n",
            "5:   \t0.9%\n",
            "--------\n",
            "\n",
            "\n",
            "PROMPT: recipe for lemon fried rice | in a large saucepan bring water to a boil and simmer , partially covered , until liquid is reduced to about 2\n",
            "cups:   \t84.11%\n",
            "1:   \t12.91%\n",
            "tablespoons:   \t1.15%\n",
            "minutes:   \t0.97%\n",
            "/:   \t0.65%\n",
            "--------\n",
            "\n",
            "\n",
            "PROMPT: recipe for lemon fried rice | in a large saucepan bring water to a boil and simmer , partially covered , until liquid is reduced to about 2 cups\n",
            ",:   \t91.24%\n",
            ".:   \t8.27%\n",
            "(:   \t0.38%\n",
            "and:   \t0.1%\n",
            ";:   \t0.01%\n",
            "--------\n",
            "\n",
            "\n",
            "PROMPT: recipe for lemon fried rice | in a large saucepan bring water to a boil and simmer , partially covered , until liquid is reduced to about 2 cups ,\n",
            "about:   \t95.11%\n",
            "10:   \t1.44%\n",
            "15:   \t0.75%\n",
            "and:   \t0.51%\n",
            "20:   \t0.49%\n",
            "--------\n",
            "\n",
            "\n",
            "PROMPT: recipe for lemon fried rice | in a large saucepan bring water to a boil and simmer , partially covered , until liquid is reduced to about 2 cups , about\n",
            "20:   \t29.89%\n",
            "15:   \t21.04%\n",
            "10:   \t14.39%\n",
            "5:   \t11.0%\n",
            "30:   \t9.1%\n",
            "--------\n",
            "\n",
            "\n",
            "PROMPT: recipe for lemon fried rice | in a large saucepan bring water to a boil and simmer , partially covered , until liquid is reduced to about 2 cups , about 3\n",
            "minutes:   \t97.54%\n",
            "hours:   \t2.39%\n",
            "to:   \t0.07%\n",
            "1:   \t0.0%\n",
            "cups:   \t0.0%\n",
            "--------\n",
            "\n",
            "\n",
            "PROMPT: recipe for lemon fried rice | in a large saucepan bring water to a boil and simmer , partially covered , until liquid is reduced to about 2 cups , about 3 minutes\n",
            ".:   \t99.89%\n",
            ",:   \t0.1%\n",
            "(:   \t0.01%\n",
            ";:   \t0.0%\n",
            "more:   \t0.0%\n",
            "--------\n",
            "\n",
            "\n",
            "PROMPT: recipe for lemon fried rice | in a large saucepan bring water to a boil and simmer , partially covered , until liquid is reduced to about 2 cups , about 3 minutes .\n",
            "remove:   \t70.65%\n",
            "add:   \t11.84%\n",
            "drain:   \t8.49%\n",
            "transfer:   \t3.76%\n",
            "stir:   \t1.29%\n",
            "--------\n",
            "\n",
            "\n",
            "PROMPT: recipe for lemon fried rice | in a large saucepan bring water to a boil and simmer , partially covered , until liquid is reduced to about 2 cups , about 3 minutes . remove\n",
            "from:   \t97.04%\n",
            "pan:   \t2.05%\n",
            "skillet:   \t0.24%\n",
            "and:   \t0.22%\n",
            "pot:   \t0.1%\n",
            "--------\n",
            "\n",
            "\n",
            "PROMPT: recipe for lemon fried rice | in a large saucepan bring water to a boil and simmer , partially covered , until liquid is reduced to about 2 cups , about 3 minutes . remove from\n",
            "heat:   \t99.99%\n",
            "oven:   \t0.01%\n",
            "water:   \t0.0%\n",
            "pot:   \t0.0%\n",
            "pan:   \t0.0%\n",
            "--------\n",
            "\n",
            "\n",
            "PROMPT: recipe for lemon fried rice | in a large saucepan bring water to a boil and simmer , partially covered , until liquid is reduced to about 2 cups , about 3 minutes . remove from heat\n",
            "and:   \t96.92%\n",
            ".:   \t2.27%\n",
            ";:   \t0.47%\n",
            ",:   \t0.34%\n",
            "(:   \t0.0%\n",
            "--------\n",
            "\n",
            "\n",
            "PROMPT: recipe for lemon fried rice | in a large saucepan bring water to a boil and simmer , partially covered , until liquid is reduced to about 2 cups , about 3 minutes . remove from heat and\n",
            "let:   \t83.0%\n",
            "cool:   \t7.13%\n",
            "stir:   \t5.58%\n",
            "add:   \t1.82%\n",
            "set:   \t0.65%\n",
            "--------\n",
            "\n",
            "\n",
            "PROMPT: recipe for lemon fried rice | in a large saucepan bring water to a boil and simmer , partially covered , until liquid is reduced to about 2 cups , about 3 minutes . remove from heat and let\n",
            "stand:   \t70.62%\n",
            "cool:   \t28.43%\n",
            "sit:   \t0.47%\n",
            "soak:   \t0.17%\n",
            "steep:   \t0.15%\n",
            "--------\n",
            "\n",
            "\n",
            "PROMPT: recipe for lemon fried rice | in a large saucepan bring water to a boil and simmer , partially covered , until liquid is reduced to about 2 cups , about 3 minutes . remove from heat and let stand\n",
            ",:   \t80.98%\n",
            "5:   \t6.27%\n",
            "10:   \t2.76%\n",
            "15:   \t2.24%\n",
            "until:   \t2.1%\n",
            "--------\n",
            "\n",
            "\n",
            "PROMPT: recipe for lemon fried rice | in a large saucepan bring water to a boil and simmer , partially covered , until liquid is reduced to about 2 cups , about 3 minutes . remove from heat and let stand ,\n",
            "covered:   \t94.92%\n",
            "uncovered:   \t4.94%\n",
            "stirring:   \t0.08%\n",
            "tossing:   \t0.02%\n",
            "loosely:   \t0.01%\n",
            "--------\n",
            "\n",
            "\n",
            "PROMPT: recipe for lemon fried rice | in a large saucepan bring water to a boil and simmer , partially covered , until liquid is reduced to about 2 cups , about 3 minutes . remove from heat and let stand , covered\n",
            ",:   \t99.62%\n",
            "and:   \t0.15%\n",
            ".:   \t0.11%\n",
            "with:   \t0.1%\n",
            "in:   \t0.01%\n",
            "--------\n",
            "\n",
            "\n",
            "PROMPT: recipe for lemon fried rice | in a large saucepan bring water to a boil and simmer , partially covered , until liquid is reduced to about 2 cups , about 3 minutes . remove from heat and let stand , covered ,\n",
            "10:   \t58.77%\n",
            "15:   \t9.84%\n",
            "5:   \t7.79%\n",
            "until:   \t5.11%\n",
            "30:   \t4.98%\n",
            "--------\n",
            "\n",
            "\n",
            "PROMPT: recipe for lemon fried rice | in a large saucepan bring water to a boil and simmer , partially covered , until liquid is reduced to about 2 cups , about 3 minutes . remove from heat and let stand , covered , 10\n",
            "minutes:   \t100.0%\n",
            "to:   \t0.0%\n",
            "hours:   \t0.0%\n",
            "seconds:   \t0.0%\n",
            "times:   \t0.0%\n",
            "--------\n",
            "\n",
            "\n",
            "PROMPT: recipe for lemon fried rice | in a large saucepan bring water to a boil and simmer , partially covered , until liquid is reduced to about 2 cups , about 3 minutes . remove from heat and let stand , covered , 10 minutes\n",
            ".:   \t98.97%\n",
            ",:   \t1.02%\n",
            "to:   \t0.0%\n",
            ";:   \t0.0%\n",
            "(:   \t0.0%\n",
            "--------\n",
            "\n",
            "\n",
            "PROMPT: recipe for lemon fried rice | in a large saucepan bring water to a boil and simmer , partially covered , until liquid is reduced to about 2 cups , about 3 minutes . remove from heat and let stand , covered , 10 minutes .\n",
            "stir:   \t15.78%\n",
            "in:   \t13.61%\n",
            "meanwhile:   \t13.46%\n",
            "fluff:   \t10.92%\n",
            "add:   \t9.64%\n",
            "--------\n",
            "\n",
            "\n",
            "PROMPT: recipe for lemon fried rice | in a large saucepan bring water to a boil and simmer , partially covered , until liquid is reduced to about 2 cups , about 3 minutes . remove from heat and let stand , covered , 10 minutes . add\n",
            "butter:   \t25.92%\n",
            "water:   \t14.66%\n",
            "cream:   \t13.72%\n",
            "lemon:   \t5.47%\n",
            "1:   \t4.9%\n",
            "--------\n",
            "\n",
            "\n",
            "PROMPT: recipe for lemon fried rice | in a large saucepan bring water to a boil and simmer , partially covered , until liquid is reduced to about 2 cups , about 3 minutes . remove from heat and let stand , covered , 10 minutes . add garlic\n",
            ",:   \t51.35%\n",
            "and:   \t48.12%\n",
            ";:   \t0.28%\n",
            "to:   \t0.18%\n",
            "paste:   \t0.03%\n",
            "--------\n",
            "\n",
            "\n",
            "PROMPT: recipe for lemon fried rice | in a large saucepan bring water to a boil and simmer , partially covered , until liquid is reduced to about 2 cups , about 3 minutes . remove from heat and let stand , covered , 10 minutes . add garlic and\n",
            "salt:   \t35.68%\n",
            "1:   \t20.81%\n",
            "garlic:   \t17.59%\n",
            "toss:   \t5.88%\n",
            "lemon:   \t4.29%\n",
            "--------\n",
            "\n",
            "\n",
            "PROMPT: recipe for lemon fried rice | in a large saucepan bring water to a boil and simmer , partially covered , until liquid is reduced to about 2 cups , about 3 minutes . remove from heat and let stand , covered , 10 minutes . add garlic and juice\n",
            "and:   \t69.02%\n",
            "to:   \t12.69%\n",
            ";:   \t11.37%\n",
            ",:   \t4.21%\n",
            ".:   \t2.24%\n",
            "--------\n",
            "\n",
            "\n",
            "PROMPT: recipe for lemon fried rice | in a large saucepan bring water to a boil and simmer , partially covered , until liquid is reduced to about 2 cups , about 3 minutes . remove from heat and let stand , covered , 10 minutes . add garlic and juice and\n",
            "stir:   \t43.25%\n",
            "cook:   \t18.61%\n",
            "bring:   \t17.34%\n",
            "toss:   \t12.07%\n",
            "simmer:   \t3.61%\n",
            "--------\n",
            "\n",
            "\n",
            "PROMPT: recipe for lemon fried rice | in a large saucepan bring water to a boil and simmer , partially covered , until liquid is reduced to about 2 cups , about 3 minutes . remove from heat and let stand , covered , 10 minutes . add garlic and juice and bring\n",
            "to:   \t99.84%\n",
            "just:   \t0.13%\n",
            "mixture:   \t0.02%\n",
            "water:   \t0.0%\n",
            "sauce:   \t0.0%\n",
            "--------\n",
            "\n",
            "\n",
            "PROMPT: recipe for lemon fried rice | in a large saucepan bring water to a boil and simmer , partially covered , until liquid is reduced to about 2 cups , about 3 minutes . remove from heat and let stand , covered , 10 minutes . add garlic and juice and bring to\n",
            "a:   \t99.94%\n",
            "boil:   \t0.05%\n",
            "simmer:   \t0.0%\n",
            "room:   \t0.0%\n",
            "warm:   \t0.0%\n",
            "--------\n",
            "\n",
            "\n",
            "PROMPT: recipe for lemon fried rice | in a large saucepan bring water to a boil and simmer , partially covered , until liquid is reduced to about 2 cups , about 3 minutes . remove from heat and let stand , covered , 10 minutes . add garlic and juice and bring to a\n",
            "boil:   \t97.01%\n",
            "simmer:   \t2.98%\n",
            "gentle:   \t0.0%\n",
            "bare:   \t0.0%\n",
            "slow:   \t0.0%\n",
            "--------\n",
            "\n",
            "\n",
            "PROMPT: recipe for lemon fried rice | in a large saucepan bring water to a boil and simmer , partially covered , until liquid is reduced to about 2 cups , about 3 minutes . remove from heat and let stand , covered , 10 minutes . add garlic and juice and bring to a boil\n",
            ".:   \t69.78%\n",
            ",:   \t29.43%\n",
            "over:   \t0.45%\n",
            "and:   \t0.3%\n",
            ";:   \t0.02%\n",
            "--------\n",
            "\n",
            "\n",
            "PROMPT: recipe for lemon fried rice | in a large saucepan bring water to a boil and simmer , partially covered , until liquid is reduced to about 2 cups , about 3 minutes . remove from heat and let stand , covered , 10 minutes . add garlic and juice and bring to a boil .\n",
            "reduce:   \t70.72%\n",
            "add:   \t13.21%\n",
            "cook:   \t7.72%\n",
            "remove:   \t2.38%\n",
            "cover:   \t1.77%\n",
            "--------\n",
            "\n",
            "\n",
            "PROMPT: recipe for lemon fried rice | in a large saucepan bring water to a boil and simmer , partially covered , until liquid is reduced to about 2 cups , about 3 minutes . remove from heat and let stand , covered , 10 minutes . add garlic and juice and bring to a boil . reduce\n",
            "heat:   \t100.0%\n",
            "to:   \t0.0%\n",
            "temperature:   \t0.0%\n",
            "oven:   \t0.0%\n",
            "the:   \t0.0%\n",
            "--------\n",
            "\n",
            "\n",
            "PROMPT: recipe for lemon fried rice | in a large saucepan bring water to a boil and simmer , partially covered , until liquid is reduced to about 2 cups , about 3 minutes . remove from heat and let stand , covered , 10 minutes . add garlic and juice and bring to a boil . reduce heat\n",
            "and:   \t62.64%\n",
            "to:   \t36.81%\n",
            ";:   \t0.44%\n",
            ",:   \t0.11%\n",
            ".:   \t0.01%\n",
            "--------\n",
            "\n",
            "\n",
            "PROMPT: recipe for lemon fried rice | in a large saucepan bring water to a boil and simmer , partially covered , until liquid is reduced to about 2 cups , about 3 minutes . remove from heat and let stand , covered , 10 minutes . add garlic and juice and bring to a boil . reduce heat and\n",
            "simmer:   \t99.71%\n",
            "cook:   \t0.14%\n",
            "boil:   \t0.07%\n",
            "cover:   \t0.04%\n",
            "let:   \t0.01%\n",
            "--------\n",
            "\n",
            "\n",
            "PROMPT: recipe for lemon fried rice | in a large saucepan bring water to a boil and simmer , partially covered , until liquid is reduced to about 2 cups , about 3 minutes . remove from heat and let stand , covered , 10 minutes . add garlic and juice and bring to a boil . reduce heat and simmer\n",
            ",:   \t98.39%\n",
            "until:   \t1.34%\n",
            "for:   \t0.06%\n",
            "5:   \t0.03%\n",
            "gently:   \t0.03%\n",
            "--------\n",
            "\n",
            "\n",
            "PROMPT: recipe for lemon fried rice | in a large saucepan bring water to a boil and simmer , partially covered , until liquid is reduced to about 2 cups , about 3 minutes . remove from heat and let stand , covered , 10 minutes . add garlic and juice and bring to a boil . reduce heat and simmer ,\n",
            "covered:   \t38.14%\n",
            "uncovered:   \t29.13%\n",
            "stirring:   \t19.98%\n",
            "partially:   \t12.42%\n",
            "tossing:   \t0.08%\n",
            "--------\n",
            "\n",
            "\n",
            "PROMPT: recipe for lemon fried rice | in a large saucepan bring water to a boil and simmer , partially covered , until liquid is reduced to about 2 cups , about 3 minutes . remove from heat and let stand , covered , 10 minutes . add garlic and juice and bring to a boil . reduce heat and simmer , covered\n",
            ",:   \t99.98%\n",
            ".:   \t0.01%\n",
            "and:   \t0.01%\n",
            "partially:   \t0.0%\n",
            "with:   \t0.0%\n",
            "--------\n",
            "\n",
            "\n",
            "PROMPT: recipe for lemon fried rice | in a large saucepan bring water to a boil and simmer , partially covered , until liquid is reduced to about 2 cups , about 3 minutes . remove from heat and let stand , covered , 10 minutes . add garlic and juice and bring to a boil . reduce heat and simmer , covered ,\n",
            "until:   \t77.69%\n",
            "stirring:   \t12.15%\n",
            "10:   \t2.35%\n",
            "15:   \t1.92%\n",
            "over:   \t1.69%\n",
            "--------\n",
            "\n",
            "\n",
            "PROMPT: recipe for lemon fried rice | in a large saucepan bring water to a boil and simmer , partially covered , until liquid is reduced to about 2 cups , about 3 minutes . remove from heat and let stand , covered , 10 minutes . add garlic and juice and bring to a boil . reduce heat and simmer , covered , until\n",
            "tender:   \t29.6%\n",
            "rice:   \t15.14%\n",
            "just:   \t9.94%\n",
            "vegetables:   \t8.29%\n",
            "chicken:   \t4.04%\n",
            "--------\n",
            "\n",
            "\n",
            "PROMPT: recipe for lemon fried rice | in a large saucepan bring water to a boil and simmer , partially covered , until liquid is reduced to about 2 cups , about 3 minutes . remove from heat and let stand , covered , 10 minutes . add garlic and juice and bring to a boil . reduce heat and simmer , covered , until very\n",
            "tender:   \t99.01%\n",
            "cold:   \t0.45%\n",
            "soft:   \t0.37%\n",
            "very:   \t0.07%\n",
            "thick:   \t0.03%\n",
            "--------\n",
            "\n",
            "\n",
            "PROMPT: recipe for lemon fried rice | in a large saucepan bring water to a boil and simmer , partially covered , until liquid is reduced to about 2 cups , about 3 minutes . remove from heat and let stand , covered , 10 minutes . add garlic and juice and bring to a boil . reduce heat and simmer , covered , until very tender\n",
            ",:   \t99.64%\n",
            "and:   \t0.31%\n",
            "but:   \t0.02%\n",
            "when:   \t0.01%\n",
            "(:   \t0.01%\n",
            "--------\n",
            "\n",
            "\n",
            "PROMPT: recipe for lemon fried rice | in a large saucepan bring water to a boil and simmer , partially covered , until liquid is reduced to about 2 cups , about 3 minutes . remove from heat and let stand , covered , 10 minutes . add garlic and juice and bring to a boil . reduce heat and simmer , covered , until very tender ,\n",
            "about:   \t95.71%\n",
            "15:   \t0.73%\n",
            "20:   \t0.68%\n",
            "10:   \t0.43%\n",
            "1:   \t0.35%\n",
            "--------\n",
            "\n",
            "\n",
            "PROMPT: recipe for lemon fried rice | in a large saucepan bring water to a boil and simmer , partially covered , until liquid is reduced to about 2 cups , about 3 minutes . remove from heat and let stand , covered , 10 minutes . add garlic and juice and bring to a boil . reduce heat and simmer , covered , until very tender , about\n",
            "20:   \t21.24%\n",
            "15:   \t15.63%\n",
            "10:   \t14.91%\n",
            "5:   \t14.34%\n",
            "3:   \t5.36%\n",
            "--------\n",
            "\n",
            "\n",
            "PROMPT: recipe for lemon fried rice | in a large saucepan bring water to a boil and simmer , partially covered , until liquid is reduced to about 2 cups , about 3 minutes . remove from heat and let stand , covered , 10 minutes . add garlic and juice and bring to a boil . reduce heat and simmer , covered , until very tender , about 5\n",
            "minutes:   \t99.65%\n",
            "hours:   \t0.35%\n",
            "to:   \t0.0%\n",
            "1:   \t0.0%\n",
            "-:   \t0.0%\n",
            "--------\n",
            "\n",
            "\n",
            "PROMPT: recipe for lemon fried rice | in a large saucepan bring water to a boil and simmer , partially covered , until liquid is reduced to about 2 cups , about 3 minutes . remove from heat and let stand , covered , 10 minutes . add garlic and juice and bring to a boil . reduce heat and simmer , covered , until very tender , about 5 minutes\n",
            ".:   \t99.73%\n",
            ",:   \t0.23%\n",
            "(:   \t0.02%\n",
            "more:   \t0.02%\n",
            "longer:   \t0.0%\n",
            "--------\n",
            "\n",
            "\n",
            "PROMPT: recipe for lemon fried rice | in a large saucepan bring water to a boil and simmer , partially covered , until liquid is reduced to about 2 cups , about 3 minutes . remove from heat and let stand , covered , 10 minutes . add garlic and juice and bring to a boil . reduce heat and simmer , covered , until very tender , about 5 minutes .\n",
            "remove:   \t48.36%\n",
            "add:   \t14.3%\n",
            "transfer:   \t7.61%\n",
            "stir:   \t7.31%\n",
            "cool:   \t5.86%\n",
            "--------\n",
            "\n",
            "\n",
            "PROMPT: recipe for lemon fried rice | in a large saucepan bring water to a boil and simmer , partially covered , until liquid is reduced to about 2 cups , about 3 minutes . remove from heat and let stand , covered , 10 minutes . add garlic and juice and bring to a boil . reduce heat and simmer , covered , until very tender , about 5 minutes . discard\n",
            "bay:   \t84.17%\n",
            "garlic:   \t3.08%\n",
            "solids:   \t2.81%\n",
            "stems:   \t1.88%\n",
            "any:   \t1.87%\n",
            "--------\n",
            "\n",
            "\n",
            "PROMPT: recipe for lemon fried rice | in a large saucepan bring water to a boil and simmer , partially covered , until liquid is reduced to about 2 cups , about 3 minutes . remove from heat and let stand , covered , 10 minutes . add garlic and juice and bring to a boil . reduce heat and simmer , covered , until very tender , about 5 minutes . discard bay\n",
            "leaf:   \t90.27%\n",
            "leaves:   \t9.72%\n",
            "sprigs:   \t0.0%\n",
            "sprig:   \t0.0%\n",
            ",:   \t0.0%\n",
            "--------\n",
            "\n",
            "\n",
            "PROMPT: recipe for lemon fried rice | in a large saucepan bring water to a boil and simmer , partially covered , until liquid is reduced to about 2 cups , about 3 minutes . remove from heat and let stand , covered , 10 minutes . add garlic and juice and bring to a boil . reduce heat and simmer , covered , until very tender , about 5 minutes . discard bay leaf\n",
            ".:   \t70.27%\n",
            "and:   \t24.18%\n",
            ",:   \t5.4%\n",
            ";:   \t0.15%\n",
            "in:   \t0.0%\n",
            "--------\n",
            "\n",
            "\n",
            "PROMPT: recipe for lemon fried rice | in a large saucepan bring water to a boil and simmer , partially covered , until liquid is reduced to about 2 cups , about 3 minutes . remove from heat and let stand , covered , 10 minutes . add garlic and juice and bring to a boil . reduce heat and simmer , covered , until very tender , about 5 minutes . discard bay leaf .\n",
            "add:   \t17.25%\n",
            "in:   \t15.53%\n",
            "remove:   \t9.5%\n",
            ":   \t8.19%\n",
            "heat:   \t6.29%\n",
            "--------\n",
            "\n",
            "\n",
            "PROMPT: recipe for lemon fried rice | in a large saucepan bring water to a boil and simmer , partially covered , until liquid is reduced to about 2 cups , about 3 minutes . remove from heat and let stand , covered , 10 minutes . add garlic and juice and bring to a boil . reduce heat and simmer , covered , until very tender , about 5 minutes . discard bay leaf . stir\n",
            "in:   \t98.83%\n",
            "together:   \t1.04%\n",
            "-:   \t0.03%\n",
            "into:   \t0.03%\n",
            "purée:   \t0.01%\n",
            "--------\n",
            "\n",
            "\n",
            "PROMPT: recipe for lemon fried rice | in a large saucepan bring water to a boil and simmer , partially covered , until liquid is reduced to about 2 cups , about 3 minutes . remove from heat and let stand , covered , 10 minutes . add garlic and juice and bring to a boil . reduce heat and simmer , covered , until very tender , about 5 minutes . discard bay leaf . stir in\n",
            "remaining:   \t22.05%\n",
            "1:   \t15.49%\n",
            "salt:   \t9.88%\n",
            "vinegar:   \t5.5%\n",
            "lemon:   \t5.16%\n",
            "--------\n",
            "\n",
            "\n",
            "PROMPT: recipe for lemon fried rice | in a large saucepan bring water to a boil and simmer , partially covered , until liquid is reduced to about 2 cups , about 3 minutes . remove from heat and let stand , covered , 10 minutes . add garlic and juice and bring to a boil . reduce heat and simmer , covered , until very tender , about 5 minutes . discard bay leaf . stir in remaining\n",
            "1:   \t52.16%\n",
            "ingredients:   \t35.47%\n",
            "2:   \t9.97%\n",
            "tablespoon:   \t1.11%\n",
            "3:   \t0.98%\n",
            "--------\n",
            "\n",
            "\n",
            "PROMPT: recipe for lemon fried rice | in a large saucepan bring water to a boil and simmer , partially covered , until liquid is reduced to about 2 cups , about 3 minutes . remove from heat and let stand , covered , 10 minutes . add garlic and juice and bring to a boil . reduce heat and simmer , covered , until very tender , about 5 minutes . discard bay leaf . stir in remaining 1\n",
            "/:   \t75.88%\n",
            "tablespoon:   \t20.9%\n",
            "teaspoon:   \t1.58%\n",
            "cup:   \t0.62%\n",
            "1:   \t0.41%\n",
            "--------\n",
            "\n",
            "\n",
            "PROMPT: recipe for lemon fried rice | in a large saucepan bring water to a boil and simmer , partially covered , until liquid is reduced to about 2 cups , about 3 minutes . remove from heat and let stand , covered , 10 minutes . add garlic and juice and bring to a boil . reduce heat and simmer , covered , until very tender , about 5 minutes . discard bay leaf . stir in remaining 1 tablespoon\n",
            "oil:   \t74.39%\n",
            "butter:   \t19.52%\n",
            "lemon:   \t1.03%\n",
            "water:   \t0.86%\n",
            "lime:   \t0.8%\n",
            "--------\n",
            "\n",
            "\n",
            "PROMPT: recipe for lemon fried rice | in a large saucepan bring water to a boil and simmer , partially covered , until liquid is reduced to about 2 cups , about 3 minutes . remove from heat and let stand , covered , 10 minutes . add garlic and juice and bring to a boil . reduce heat and simmer , covered , until very tender , about 5 minutes . discard bay leaf . stir in remaining 1 tablespoon oil\n",
            "and:   \t73.78%\n",
            ",:   \t17.22%\n",
            ".:   \t8.03%\n",
            "to:   \t0.51%\n",
            "in:   \t0.24%\n",
            "--------\n",
            "\n",
            "\n",
            "PROMPT: recipe for lemon fried rice | in a large saucepan bring water to a boil and simmer , partially covered , until liquid is reduced to about 2 cups , about 3 minutes . remove from heat and let stand , covered , 10 minutes . add garlic and juice and bring to a boil . reduce heat and simmer , covered , until very tender , about 5 minutes . discard bay leaf . stir in remaining 1 tablespoon oil and\n",
            "1:   \t27.35%\n",
            "simmer:   \t22.19%\n",
            "cook:   \t19.54%\n",
            "season:   \t12.42%\n",
            "salt:   \t6.52%\n",
            "--------\n",
            "\n",
            "\n",
            "PROMPT: recipe for lemon fried rice | in a large saucepan bring water to a boil and simmer , partially covered , until liquid is reduced to about 2 cups , about 3 minutes . remove from heat and let stand , covered , 10 minutes . add garlic and juice and bring to a boil . reduce heat and simmer , covered , until very tender , about 5 minutes . discard bay leaf . stir in remaining 1 tablespoon oil and cook\n",
            ",:   \t94.05%\n",
            "over:   \t4.67%\n",
            "until:   \t0.82%\n",
            "1:   \t0.21%\n",
            "2:   \t0.13%\n",
            "--------\n",
            "\n",
            "\n",
            "PROMPT: recipe for lemon fried rice | in a large saucepan bring water to a boil and simmer , partially covered , until liquid is reduced to about 2 cups , about 3 minutes . remove from heat and let stand , covered , 10 minutes . add garlic and juice and bring to a boil . reduce heat and simmer , covered , until very tender , about 5 minutes . discard bay leaf . stir in remaining 1 tablespoon oil and cook ,\n",
            "stirring:   \t88.98%\n",
            "covered:   \t8.0%\n",
            "uncovered:   \t2.72%\n",
            "tossing:   \t0.18%\n",
            "partially:   \t0.1%\n",
            "--------\n",
            "\n",
            "\n",
            "PROMPT: recipe for lemon fried rice | in a large saucepan bring water to a boil and simmer , partially covered , until liquid is reduced to about 2 cups , about 3 minutes . remove from heat and let stand , covered , 10 minutes . add garlic and juice and bring to a boil . reduce heat and simmer , covered , until very tender , about 5 minutes . discard bay leaf . stir in remaining 1 tablespoon oil and cook , stirring\n",
            ",:   \t55.37%\n",
            "occasionally:   \t41.31%\n",
            "often:   \t2.77%\n",
            "frequently:   \t0.38%\n",
            "constantly:   \t0.07%\n",
            "--------\n",
            "\n",
            "\n",
            "PROMPT: recipe for lemon fried rice | in a large saucepan bring water to a boil and simmer , partially covered , until liquid is reduced to about 2 cups , about 3 minutes . remove from heat and let stand , covered , 10 minutes . add garlic and juice and bring to a boil . reduce heat and simmer , covered , until very tender , about 5 minutes . discard bay leaf . stir in remaining 1 tablespoon oil and cook , stirring ,\n",
            "until:   \t92.8%\n",
            "1:   \t5.98%\n",
            "3:   \t0.37%\n",
            "5:   \t0.27%\n",
            "and:   \t0.18%\n",
            "--------\n",
            "\n",
            "\n",
            "PROMPT: recipe for lemon fried rice | in a large saucepan bring water to a boil and simmer , partially covered , until liquid is reduced to about 2 cups , about 3 minutes . remove from heat and let stand , covered , 10 minutes . add garlic and juice and bring to a boil . reduce heat and simmer , covered , until very tender , about 5 minutes . discard bay leaf . stir in remaining 1 tablespoon oil and cook , stirring , until\n",
            "rice:   \t12.76%\n",
            "just:   \t11.74%\n",
            "liquid:   \t8.58%\n",
            "softened:   \t8.3%\n",
            "heated:   \t7.67%\n",
            "--------\n",
            "\n",
            "\n",
            "PROMPT: recipe for lemon fried rice | in a large saucepan bring water to a boil and simmer , partially covered , until liquid is reduced to about 2 cups , about 3 minutes . remove from heat and let stand , covered , 10 minutes . add garlic and juice and bring to a boil . reduce heat and simmer , covered , until very tender , about 5 minutes . discard bay leaf . stir in remaining 1 tablespoon oil and cook , stirring , until shrimp\n",
            "are:   \t96.94%\n",
            "is:   \t2.78%\n",
            "and:   \t0.22%\n",
            "curl:   \t0.02%\n",
            "begins:   \t0.01%\n",
            "--------\n",
            "\n",
            "\n",
            "PROMPT: recipe for lemon fried rice | in a large saucepan bring water to a boil and simmer , partially covered , until liquid is reduced to about 2 cups , about 3 minutes . remove from heat and let stand , covered , 10 minutes . add garlic and juice and bring to a boil . reduce heat and simmer , covered , until very tender , about 5 minutes . discard bay leaf . stir in remaining 1 tablespoon oil and cook , stirring , until shrimp are\n",
            "just:   \t84.54%\n",
            "cooked:   \t8.45%\n",
            "opaque:   \t2.85%\n",
            "tender:   \t1.02%\n",
            "almost:   \t0.59%\n",
            "--------\n",
            "\n",
            "\n",
            "PROMPT: recipe for lemon fried rice | in a large saucepan bring water to a boil and simmer , partially covered , until liquid is reduced to about 2 cups , about 3 minutes . remove from heat and let stand , covered , 10 minutes . add garlic and juice and bring to a boil . reduce heat and simmer , covered , until very tender , about 5 minutes . discard bay leaf . stir in remaining 1 tablespoon oil and cook , stirring , until shrimp are just\n",
            "cooked:   \t85.79%\n",
            "opaque:   \t6.07%\n",
            "tender:   \t5.06%\n",
            "wilted:   \t2.67%\n",
            "heated:   \t0.2%\n",
            "--------\n",
            "\n",
            "\n",
            "PROMPT: recipe for lemon fried rice | in a large saucepan bring water to a boil and simmer , partially covered , until liquid is reduced to about 2 cups , about 3 minutes . remove from heat and let stand , covered , 10 minutes . add garlic and juice and bring to a boil . reduce heat and simmer , covered , until very tender , about 5 minutes . discard bay leaf . stir in remaining 1 tablespoon oil and cook , stirring , until shrimp are just cooked\n",
            "through:   \t100.0%\n",
            ",:   \t0.0%\n",
            "and:   \t0.0%\n",
            "-:   \t0.0%\n",
            "to:   \t0.0%\n",
            "--------\n",
            "\n",
            "\n",
            "PROMPT: recipe for lemon fried rice | in a large saucepan bring water to a boil and simmer , partially covered , until liquid is reduced to about 2 cups , about 3 minutes . remove from heat and let stand , covered , 10 minutes . add garlic and juice and bring to a boil . reduce heat and simmer , covered , until very tender , about 5 minutes . discard bay leaf . stir in remaining 1 tablespoon oil and cook , stirring , until shrimp are just cooked through\n",
            ",:   \t97.26%\n",
            "and:   \t2.54%\n",
            "(:   \t0.12%\n",
            ".:   \t0.07%\n",
            "sauce:   \t0.0%\n",
            "--------\n",
            "\n",
            "\n",
            "PROMPT: recipe for lemon fried rice | in a large saucepan bring water to a boil and simmer , partially covered , until liquid is reduced to about 2 cups , about 3 minutes . remove from heat and let stand , covered , 10 minutes . add garlic and juice and bring to a boil . reduce heat and simmer , covered , until very tender , about 5 minutes . discard bay leaf . stir in remaining 1 tablespoon oil and cook , stirring , until shrimp are just cooked through ,\n",
            "about:   \t87.99%\n",
            "and:   \t4.17%\n",
            "3:   \t1.81%\n",
            "8:   \t1.06%\n",
            "1:   \t1.04%\n",
            "--------\n",
            "\n",
            "\n",
            "PROMPT: recipe for lemon fried rice | in a large saucepan bring water to a boil and simmer , partially covered , until liquid is reduced to about 2 cups , about 3 minutes . remove from heat and let stand , covered , 10 minutes . add garlic and juice and bring to a boil . reduce heat and simmer , covered , until very tender , about 5 minutes . discard bay leaf . stir in remaining 1 tablespoon oil and cook , stirring , until shrimp are just cooked through , about\n",
            "5:   \t47.56%\n",
            "3:   \t16.66%\n",
            "2:   \t9.99%\n",
            "1:   \t7.52%\n",
            "4:   \t5.89%\n",
            "--------\n",
            "\n",
            "\n",
            "PROMPT: recipe for lemon fried rice | in a large saucepan bring water to a boil and simmer , partially covered , until liquid is reduced to about 2 cups , about 3 minutes . remove from heat and let stand , covered , 10 minutes . add garlic and juice and bring to a boil . reduce heat and simmer , covered , until very tender , about 5 minutes . discard bay leaf . stir in remaining 1 tablespoon oil and cook , stirring , until shrimp are just cooked through , about 3\n",
            "minutes:   \t99.97%\n",
            "to:   \t0.03%\n",
            "hours:   \t0.0%\n",
            "1:   \t0.0%\n",
            "-:   \t0.0%\n",
            "--------\n",
            "\n",
            "\n",
            "PROMPT: recipe for lemon fried rice | in a large saucepan bring water to a boil and simmer , partially covered , until liquid is reduced to about 2 cups , about 3 minutes . remove from heat and let stand , covered , 10 minutes . add garlic and juice and bring to a boil . reduce heat and simmer , covered , until very tender , about 5 minutes . discard bay leaf . stir in remaining 1 tablespoon oil and cook , stirring , until shrimp are just cooked through , about 3 minutes\n",
            ".:   \t99.87%\n",
            "more:   \t0.06%\n",
            ",:   \t0.06%\n",
            "(:   \t0.01%\n",
            "longer:   \t0.0%\n",
            "--------\n",
            "\n",
            "\n",
            "PROMPT: recipe for lemon fried rice | in a large saucepan bring water to a boil and simmer , partially covered , until liquid is reduced to about 2 cups , about 3 minutes . remove from heat and let stand , covered , 10 minutes . add garlic and juice and bring to a boil . reduce heat and simmer , covered , until very tender , about 5 minutes . discard bay leaf . stir in remaining 1 tablespoon oil and cook , stirring , until shrimp are just cooked through , about 3 minutes .\n",
            "add:   \t32.14%\n",
            "stir:   \t20.83%\n",
            "season:   \t14.97%\n",
            "remove:   \t9.69%\n",
            "transfer:   \t7.94%\n",
            "--------\n",
            "\n",
            "\n",
            "PROMPT: recipe for lemon fried rice | in a large saucepan bring water to a boil and simmer , partially covered , until liquid is reduced to about 2 cups , about 3 minutes . remove from heat and let stand , covered , 10 minutes . add garlic and juice and bring to a boil . reduce heat and simmer , covered , until very tender , about 5 minutes . discard bay leaf . stir in remaining 1 tablespoon oil and cook , stirring , until shrimp are just cooked through , about 3 minutes . add\n",
            "wine:   \t10.56%\n",
            "remaining:   \t8.7%\n",
            "tomatoes:   \t8.65%\n",
            "shrimp:   \t8.46%\n",
            "vinegar:   \t6.81%\n",
            "--------\n",
            "\n",
            "\n",
            "PROMPT: recipe for lemon fried rice | in a large saucepan bring water to a boil and simmer , partially covered , until liquid is reduced to about 2 cups , about 3 minutes . remove from heat and let stand , covered , 10 minutes . add garlic and juice and bring to a boil . reduce heat and simmer , covered , until very tender , about 5 minutes . discard bay leaf . stir in remaining 1 tablespoon oil and cook , stirring , until shrimp are just cooked through , about 3 minutes . add remaining\n",
            "1:   \t70.14%\n",
            "2:   \t12.55%\n",
            "ingredients:   \t6.67%\n",
            "3:   \t5.51%\n",
            "sauce:   \t3.49%\n",
            "--------\n",
            "\n"
          ]
        }
      ],
      "source": [
        "info = text_generator.generate(\n",
        "\"recipe for lemon fried rice |\", max_tokens=100, temperature=0.5\n",
        ")\n",
        "\n",
        "print_probs(info, vocab)"
      ]
    }
  ],
  "metadata": {
    "accelerator": "GPU",
    "colab": {
      "gpuType": "T4",
      "provenance": [],
      "include_colab_link": true
    },
    "kernelspec": {
      "display_name": "Python 3",
      "name": "python3"
    },
    "language_info": {
      "codemirror_mode": {
        "name": "ipython",
        "version": 3
      },
      "file_extension": ".py",
      "mimetype": "text/x-python",
      "name": "python",
      "nbconvert_exporter": "python",
      "pygments_lexer": "ipython3",
      "version": "3.8.10"
    }
  },
  "nbformat": 4,
  "nbformat_minor": 5
}