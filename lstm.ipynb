{
  "cells": [
    {
      "cell_type": "markdown",
      "metadata": {
        "id": "view-in-github",
        "colab_type": "text"
      },
      "source": [
        "<a href=\"https://colab.research.google.com/github/Radhibomma/GCollab/blob/main/lstm.ipynb\" target=\"_parent\"><img src=\"https://colab.research.google.com/assets/colab-badge.svg\" alt=\"Open In Colab\"/></a>"
      ]
    },
    {
      "cell_type": "markdown",
      "id": "b076bd1a-b236-4fbc-953d-8295b25122ae",
      "metadata": {
        "id": "b076bd1a-b236-4fbc-953d-8295b25122ae"
      },
      "source": [
        "# 🥙 LSTM on Recipe Data"
      ]
    },
    {
      "cell_type": "markdown",
      "id": "658a95da-9645-4bcf-bd9d-4b95a4b6f582",
      "metadata": {
        "id": "658a95da-9645-4bcf-bd9d-4b95a4b6f582"
      },
      "source": [
        "In this notebook, we'll walk through the steps required to train your own LSTM on the recipes dataset"
      ]
    },
    {
      "cell_type": "code",
      "execution_count": null,
      "id": "4e0d56cc-4773-4029-97d8-26f882ba79c9",
      "metadata": {
        "id": "4e0d56cc-4773-4029-97d8-26f882ba79c9"
      },
      "outputs": [],
      "source": [
        "\n",
        "import numpy as np\n",
        "import json\n",
        "import re\n",
        "import string\n",
        "\n",
        "import kagglehub\n",
        "\n",
        "import tensorflow as tf\n",
        "from tensorflow.keras import layers, models, callbacks, losses"
      ]
    },
    {
      "cell_type": "markdown",
      "id": "339e6268-ebd7-4feb-86db-1fe7abccdbe5",
      "metadata": {
        "id": "339e6268-ebd7-4feb-86db-1fe7abccdbe5"
      },
      "source": [
        "## 0. Parameters <a name=\"parameters\"></a>"
      ]
    },
    {
      "cell_type": "code",
      "execution_count": null,
      "id": "2d8352af-343e-4c2e-8c91-95f8bac1c8a1",
      "metadata": {
        "id": "2d8352af-343e-4c2e-8c91-95f8bac1c8a1"
      },
      "outputs": [],
      "source": [
        "VOCAB_SIZE = 10000\n",
        "MAX_LEN = 200\n",
        "EMBEDDING_DIM = 100\n",
        "N_UNITS = 128\n",
        "VALIDATION_SPLIT = 0.2\n",
        "SEED = 42\n",
        "LOAD_MODEL = False\n",
        "BATCH_SIZE = 32\n",
        "EPOCHS = 25"
      ]
    },
    {
      "cell_type": "markdown",
      "id": "b7716fac-0010-49b0-b98e-53be2259edde",
      "metadata": {
        "id": "b7716fac-0010-49b0-b98e-53be2259edde"
      },
      "source": [
        "## 1. Load the data <a name=\"load\"></a>"
      ]
    },
    {
      "cell_type": "code",
      "execution_count": null,
      "id": "93cf6b0f-9667-4146-8911-763a8a2925d3",
      "metadata": {
        "id": "93cf6b0f-9667-4146-8911-763a8a2925d3"
      },
      "outputs": [],
      "source": [
        "# Load the full dataset\n",
        "\n",
        "# Download latest version\n",
        "path = kagglehub.dataset_download(\"hugodarwood/epirecipes\")\n",
        "\n",
        "with open(path + \"/full_format_recipes.json\") as json_data:\n",
        "    recipe_data = json.load(json_data)"
      ]
    },
    {
      "cell_type": "code",
      "execution_count": null,
      "id": "23a74eca-f1b7-4a46-9a1f-b5806a4ed361",
      "metadata": {
        "id": "23a74eca-f1b7-4a46-9a1f-b5806a4ed361"
      },
      "outputs": [],
      "source": [
        "# Filter the dataset\n",
        "filtered_data = [\n",
        "    \"Recipe for \" + x[\"title\"] + \" | \" + \" \".join(x[\"directions\"])\n",
        "    for x in recipe_data\n",
        "    if \"title\" in x\n",
        "    and x[\"title\"] is not None\n",
        "    and \"directions\" in x\n",
        "    and x[\"directions\"] is not None\n",
        "]"
      ]
    },
    {
      "cell_type": "code",
      "execution_count": null,
      "id": "389c20de-0422-4c48-a7b4-6ee12a7bf0e2",
      "metadata": {
        "colab": {
          "base_uri": "https://localhost:8080/"
        },
        "id": "389c20de-0422-4c48-a7b4-6ee12a7bf0e2",
        "outputId": "81ce3a56-b8c1-498a-a16f-2b9fbc2308a2"
      },
      "outputs": [
        {
          "output_type": "stream",
          "name": "stdout",
          "text": [
            "20111 recipes loaded\n"
          ]
        }
      ],
      "source": [
        "# Count the recipes\n",
        "n_recipes = len(filtered_data)\n",
        "print(f\"{n_recipes} recipes loaded\")"
      ]
    },
    {
      "cell_type": "code",
      "execution_count": null,
      "id": "1b2e3cf7-e416-460e-874a-0dd9637bca36",
      "metadata": {
        "colab": {
          "base_uri": "https://localhost:8080/"
        },
        "id": "1b2e3cf7-e416-460e-874a-0dd9637bca36",
        "outputId": "60d634e7-2fc4-4851-a494-321a5a935cff"
      },
      "outputs": [
        {
          "output_type": "stream",
          "name": "stdout",
          "text": [
            "Recipe for Ham Persillade with Mustard Potato Salad and Mashed Peas  | Chop enough parsley leaves to measure 1 tablespoon; reserve. Chop remaining leaves and stems and simmer with broth and garlic in a small saucepan, covered, 5 minutes. Meanwhile, sprinkle gelatin over water in a medium bowl and let soften 1 minute. Strain broth through a fine-mesh sieve into bowl with gelatin and stir to dissolve. Season with salt and pepper. Set bowl in an ice bath and cool to room temperature, stirring. Toss ham with reserved parsley and divide among jars. Pour gelatin on top and chill until set, at least 1 hour. Whisk together mayonnaise, mustard, vinegar, 1/4 teaspoon salt, and 1/4 teaspoon pepper in a large bowl. Stir in celery, cornichons, and potatoes. Pulse peas with marjoram, oil, 1/2 teaspoon pepper, and 1/4 teaspoon salt in a food processor to a coarse mash. Layer peas, then potato salad, over ham.\n"
          ]
        }
      ],
      "source": [
        "example = filtered_data[9]\n",
        "print(example)"
      ]
    },
    {
      "cell_type": "markdown",
      "id": "3f871aaf-d873-41c7-8946-e4eef7ac17c1",
      "metadata": {
        "id": "3f871aaf-d873-41c7-8946-e4eef7ac17c1"
      },
      "source": [
        "## 2. Tokenise the data"
      ]
    },
    {
      "cell_type": "code",
      "execution_count": null,
      "id": "5b2064fb-5dcc-4657-b470-0928d10e2ddc",
      "metadata": {
        "id": "5b2064fb-5dcc-4657-b470-0928d10e2ddc"
      },
      "outputs": [],
      "source": [
        "# Pad the punctuation, to treat them as separate 'words'\n",
        "def pad_punctuation(s):\n",
        "    s = re.sub(f\"([{string.punctuation}])\", r\" \\1 \", s)\n",
        "    s = re.sub(\" +\", \" \", s)\n",
        "    return s\n",
        "\n",
        "\n",
        "text_data = [pad_punctuation(x) for x in filtered_data]"
      ]
    },
    {
      "cell_type": "code",
      "execution_count": null,
      "id": "b87d7c65-9a46-492a-a5c0-a043b0d252f3",
      "metadata": {
        "colab": {
          "base_uri": "https://localhost:8080/",
          "height": 87
        },
        "id": "b87d7c65-9a46-492a-a5c0-a043b0d252f3",
        "outputId": "ad69cc77-8176-430d-8908-311991bb3125"
      },
      "outputs": [
        {
          "output_type": "execute_result",
          "data": {
            "text/plain": [
              "'Recipe for Ham Persillade with Mustard Potato Salad and Mashed Peas | Chop enough parsley leaves to measure 1 tablespoon ; reserve . Chop remaining leaves and stems and simmer with broth and garlic in a small saucepan , covered , 5 minutes . Meanwhile , sprinkle gelatin over water in a medium bowl and let soften 1 minute . Strain broth through a fine - mesh sieve into bowl with gelatin and stir to dissolve . Season with salt and pepper . Set bowl in an ice bath and cool to room temperature , stirring . Toss ham with reserved parsley and divide among jars . Pour gelatin on top and chill until set , at least 1 hour . Whisk together mayonnaise , mustard , vinegar , 1 / 4 teaspoon salt , and 1 / 4 teaspoon pepper in a large bowl . Stir in celery , cornichons , and potatoes . Pulse peas with marjoram , oil , 1 / 2 teaspoon pepper , and 1 / 4 teaspoon salt in a food processor to a coarse mash . Layer peas , then potato salad , over ham . '"
            ],
            "application/vnd.google.colaboratory.intrinsic+json": {
              "type": "string"
            }
          },
          "metadata": {},
          "execution_count": 12
        }
      ],
      "source": [
        "# Display an example of a recipe\n",
        "example_data = text_data[9]\n",
        "example_data"
      ]
    },
    {
      "cell_type": "code",
      "execution_count": null,
      "id": "9834f916-b21a-4104-acc9-f28d3bd7a8c1",
      "metadata": {
        "id": "9834f916-b21a-4104-acc9-f28d3bd7a8c1"
      },
      "outputs": [],
      "source": [
        "# Convert to a Tensorflow Dataset\n",
        "text_ds = (\n",
        "    tf.data.Dataset.from_tensor_slices(text_data)\n",
        "    .batch(BATCH_SIZE)\n",
        "    .shuffle(1000)\n",
        ")"
      ]
    },
    {
      "cell_type": "code",
      "execution_count": null,
      "id": "884c0bcb-0807-45a1-8f7e-a32f2c6fa4de",
      "metadata": {
        "id": "884c0bcb-0807-45a1-8f7e-a32f2c6fa4de"
      },
      "outputs": [],
      "source": [
        "# Create a vectorisation layer\n",
        "vectorize_layer = layers.TextVectorization(\n",
        "    standardize=\"lower\",\n",
        "    max_tokens=VOCAB_SIZE,\n",
        "    output_mode=\"int\",\n",
        "    output_sequence_length=MAX_LEN + 1,\n",
        ")"
      ]
    },
    {
      "cell_type": "code",
      "execution_count": null,
      "id": "4d6dd34a-d905-497b-926a-405380ebcf98",
      "metadata": {
        "id": "4d6dd34a-d905-497b-926a-405380ebcf98"
      },
      "outputs": [],
      "source": [
        "# Adapt the layer to the training set\n",
        "vectorize_layer.adapt(text_ds)\n",
        "vocab = vectorize_layer.get_vocabulary()"
      ]
    },
    {
      "cell_type": "code",
      "execution_count": null,
      "id": "f6c1c7ce-3cf0-40d4-a3dc-ab7090f69f2f",
      "metadata": {
        "colab": {
          "base_uri": "https://localhost:8080/"
        },
        "id": "f6c1c7ce-3cf0-40d4-a3dc-ab7090f69f2f",
        "outputId": "196d5be5-4894-49da-8f5c-92cf7e716f27"
      },
      "outputs": [
        {
          "output_type": "stream",
          "name": "stdout",
          "text": [
            "0: \n",
            "1: [UNK]\n",
            "2: .\n",
            "3: ,\n",
            "4: and\n",
            "5: to\n",
            "6: in\n",
            "7: the\n",
            "8: with\n",
            "9: a\n"
          ]
        }
      ],
      "source": [
        "# Display some token:word mappings\n",
        "for i, word in enumerate(vocab[:10]):\n",
        "    print(f\"{i}: {word}\")"
      ]
    },
    {
      "cell_type": "code",
      "execution_count": null,
      "id": "1cc30186-7ec6-4eb6-b29a-65df6714d321",
      "metadata": {
        "colab": {
          "base_uri": "https://localhost:8080/"
        },
        "id": "1cc30186-7ec6-4eb6-b29a-65df6714d321",
        "outputId": "186710c1-f057-4ff5-af22-3e84ec47d959"
      },
      "outputs": [
        {
          "output_type": "stream",
          "name": "stdout",
          "text": [
            "[  26   16  557    1    8  298  335  189    4 1054  494   27  332  228\n",
            "  235  262    5  594   11  133   22  311    2  332   45  262    4  671\n",
            "    4   70    8  171    4   81    6    9   65   80    3  121    3   59\n",
            "   12    2  299    3   88  650   20   39    6    9   29   21    4   67\n",
            "  529   11  164    2  320  171  102    9  374   13  643  306   25   21\n",
            "    8  650    4   42    5  931    2   63    8   24    4   33    2  114\n",
            "   21    6  178  181 1245    4   60    5  140  112    3   48    2  117\n",
            "  557    8  285  235    4  200  292  980    2  107  650   28   72    4\n",
            "  108   10  114    3   57  204   11  172    2   73  110  482    3  298\n",
            "    3  190    3   11   23   32  142   24    3    4   11   23   32  142\n",
            "   33    6    9   30   21    2   42    6  353    3 3224    3    4  150\n",
            "    2  437  494    8 1281    3   37    3   11   23   15  142   33    3\n",
            "    4   11   23   32  142   24    6    9  291  188    5    9  412  572\n",
            "    2  230  494    3   46  335  189    3   20  557    2    0    0    0\n",
            "    0    0    0    0    0]\n"
          ]
        }
      ],
      "source": [
        "# Display the same example converted to ints\n",
        "example_tokenised = vectorize_layer(example_data)\n",
        "print(example_tokenised.numpy())"
      ]
    },
    {
      "cell_type": "markdown",
      "id": "8c195efb-84c6-4be0-a989-a7542188ad35",
      "metadata": {
        "id": "8c195efb-84c6-4be0-a989-a7542188ad35"
      },
      "source": [
        "## 3. Create the Training Set"
      ]
    },
    {
      "cell_type": "code",
      "execution_count": null,
      "id": "740294a1-1a6b-4c89-92f2-036d7d1b788b",
      "metadata": {
        "id": "740294a1-1a6b-4c89-92f2-036d7d1b788b"
      },
      "outputs": [],
      "source": [
        "# Create the training set of recipes and the same text shifted by one word\n",
        "def prepare_inputs(text):\n",
        "    text = tf.expand_dims(text, -1)\n",
        "    tokenized_sentences = vectorize_layer(text)\n",
        "    x = tokenized_sentences[:, :-1]\n",
        "    y = tokenized_sentences[:, 1:]\n",
        "    return x, y\n",
        "\n",
        "\n",
        "train_ds = text_ds.map(prepare_inputs)"
      ]
    },
    {
      "cell_type": "markdown",
      "id": "aff50401-3abe-4c10-bba8-b35bc13ad7d5",
      "metadata": {
        "id": "aff50401-3abe-4c10-bba8-b35bc13ad7d5"
      },
      "source": [
        "## 4. Build the LSTM <a name=\"build\"></a>"
      ]
    },
    {
      "cell_type": "code",
      "execution_count": null,
      "id": "9230b5bf-b4a8-48d5-b73b-6899a598f296",
      "metadata": {
        "colab": {
          "base_uri": "https://localhost:8080/",
          "height": 269
        },
        "id": "9230b5bf-b4a8-48d5-b73b-6899a598f296",
        "outputId": "327f6811-7539-4e16-f055-19d80700d2b2"
      },
      "outputs": [
        {
          "output_type": "display_data",
          "data": {
            "text/plain": [
              "\u001b[1mModel: \"functional_1\"\u001b[0m\n"
            ],
            "text/html": [
              "<pre style=\"white-space:pre;overflow-x:auto;line-height:normal;font-family:Menlo,'DejaVu Sans Mono',consolas,'Courier New',monospace\"><span style=\"font-weight: bold\">Model: \"functional_1\"</span>\n",
              "</pre>\n"
            ]
          },
          "metadata": {}
        },
        {
          "output_type": "display_data",
          "data": {
            "text/plain": [
              "┏━━━━━━━━━━━━━━━━━━━━━━━━━━━━━━━━━━━━━━┳━━━━━━━━━━━━━━━━━━━━━━━━━━━━━┳━━━━━━━━━━━━━━━━━┓\n",
              "┃\u001b[1m \u001b[0m\u001b[1mLayer (type)                        \u001b[0m\u001b[1m \u001b[0m┃\u001b[1m \u001b[0m\u001b[1mOutput Shape               \u001b[0m\u001b[1m \u001b[0m┃\u001b[1m \u001b[0m\u001b[1m        Param #\u001b[0m\u001b[1m \u001b[0m┃\n",
              "┡━━━━━━━━━━━━━━━━━━━━━━━━━━━━━━━━━━━━━━╇━━━━━━━━━━━━━━━━━━━━━━━━━━━━━╇━━━━━━━━━━━━━━━━━┩\n",
              "│ input_layer_1 (\u001b[38;5;33mInputLayer\u001b[0m)           │ (\u001b[38;5;45mNone\u001b[0m, \u001b[38;5;45mNone\u001b[0m)                │               \u001b[38;5;34m0\u001b[0m │\n",
              "├──────────────────────────────────────┼─────────────────────────────┼─────────────────┤\n",
              "│ embedding_1 (\u001b[38;5;33mEmbedding\u001b[0m)              │ (\u001b[38;5;45mNone\u001b[0m, \u001b[38;5;45mNone\u001b[0m, \u001b[38;5;34m100\u001b[0m)           │       \u001b[38;5;34m1,000,000\u001b[0m │\n",
              "├──────────────────────────────────────┼─────────────────────────────┼─────────────────┤\n",
              "│ lstm_1 (\u001b[38;5;33mLSTM\u001b[0m)                        │ (\u001b[38;5;45mNone\u001b[0m, \u001b[38;5;45mNone\u001b[0m, \u001b[38;5;34m128\u001b[0m)           │         \u001b[38;5;34m117,248\u001b[0m │\n",
              "├──────────────────────────────────────┼─────────────────────────────┼─────────────────┤\n",
              "│ dense_1 (\u001b[38;5;33mDense\u001b[0m)                      │ (\u001b[38;5;45mNone\u001b[0m, \u001b[38;5;45mNone\u001b[0m, \u001b[38;5;34m10000\u001b[0m)         │       \u001b[38;5;34m1,290,000\u001b[0m │\n",
              "└──────────────────────────────────────┴─────────────────────────────┴─────────────────┘\n"
            ],
            "text/html": [
              "<pre style=\"white-space:pre;overflow-x:auto;line-height:normal;font-family:Menlo,'DejaVu Sans Mono',consolas,'Courier New',monospace\">┏━━━━━━━━━━━━━━━━━━━━━━━━━━━━━━━━━━━━━━┳━━━━━━━━━━━━━━━━━━━━━━━━━━━━━┳━━━━━━━━━━━━━━━━━┓\n",
              "┃<span style=\"font-weight: bold\"> Layer (type)                         </span>┃<span style=\"font-weight: bold\"> Output Shape                </span>┃<span style=\"font-weight: bold\">         Param # </span>┃\n",
              "┡━━━━━━━━━━━━━━━━━━━━━━━━━━━━━━━━━━━━━━╇━━━━━━━━━━━━━━━━━━━━━━━━━━━━━╇━━━━━━━━━━━━━━━━━┩\n",
              "│ input_layer_1 (<span style=\"color: #0087ff; text-decoration-color: #0087ff\">InputLayer</span>)           │ (<span style=\"color: #00d7ff; text-decoration-color: #00d7ff\">None</span>, <span style=\"color: #00d7ff; text-decoration-color: #00d7ff\">None</span>)                │               <span style=\"color: #00af00; text-decoration-color: #00af00\">0</span> │\n",
              "├──────────────────────────────────────┼─────────────────────────────┼─────────────────┤\n",
              "│ embedding_1 (<span style=\"color: #0087ff; text-decoration-color: #0087ff\">Embedding</span>)              │ (<span style=\"color: #00d7ff; text-decoration-color: #00d7ff\">None</span>, <span style=\"color: #00d7ff; text-decoration-color: #00d7ff\">None</span>, <span style=\"color: #00af00; text-decoration-color: #00af00\">100</span>)           │       <span style=\"color: #00af00; text-decoration-color: #00af00\">1,000,000</span> │\n",
              "├──────────────────────────────────────┼─────────────────────────────┼─────────────────┤\n",
              "│ lstm_1 (<span style=\"color: #0087ff; text-decoration-color: #0087ff\">LSTM</span>)                        │ (<span style=\"color: #00d7ff; text-decoration-color: #00d7ff\">None</span>, <span style=\"color: #00d7ff; text-decoration-color: #00d7ff\">None</span>, <span style=\"color: #00af00; text-decoration-color: #00af00\">128</span>)           │         <span style=\"color: #00af00; text-decoration-color: #00af00\">117,248</span> │\n",
              "├──────────────────────────────────────┼─────────────────────────────┼─────────────────┤\n",
              "│ dense_1 (<span style=\"color: #0087ff; text-decoration-color: #0087ff\">Dense</span>)                      │ (<span style=\"color: #00d7ff; text-decoration-color: #00d7ff\">None</span>, <span style=\"color: #00d7ff; text-decoration-color: #00d7ff\">None</span>, <span style=\"color: #00af00; text-decoration-color: #00af00\">10000</span>)         │       <span style=\"color: #00af00; text-decoration-color: #00af00\">1,290,000</span> │\n",
              "└──────────────────────────────────────┴─────────────────────────────┴─────────────────┘\n",
              "</pre>\n"
            ]
          },
          "metadata": {}
        },
        {
          "output_type": "display_data",
          "data": {
            "text/plain": [
              "\u001b[1m Total params: \u001b[0m\u001b[38;5;34m2,407,248\u001b[0m (9.18 MB)\n"
            ],
            "text/html": [
              "<pre style=\"white-space:pre;overflow-x:auto;line-height:normal;font-family:Menlo,'DejaVu Sans Mono',consolas,'Courier New',monospace\"><span style=\"font-weight: bold\"> Total params: </span><span style=\"color: #00af00; text-decoration-color: #00af00\">2,407,248</span> (9.18 MB)\n",
              "</pre>\n"
            ]
          },
          "metadata": {}
        },
        {
          "output_type": "display_data",
          "data": {
            "text/plain": [
              "\u001b[1m Trainable params: \u001b[0m\u001b[38;5;34m2,407,248\u001b[0m (9.18 MB)\n"
            ],
            "text/html": [
              "<pre style=\"white-space:pre;overflow-x:auto;line-height:normal;font-family:Menlo,'DejaVu Sans Mono',consolas,'Courier New',monospace\"><span style=\"font-weight: bold\"> Trainable params: </span><span style=\"color: #00af00; text-decoration-color: #00af00\">2,407,248</span> (9.18 MB)\n",
              "</pre>\n"
            ]
          },
          "metadata": {}
        },
        {
          "output_type": "display_data",
          "data": {
            "text/plain": [
              "\u001b[1m Non-trainable params: \u001b[0m\u001b[38;5;34m0\u001b[0m (0.00 B)\n"
            ],
            "text/html": [
              "<pre style=\"white-space:pre;overflow-x:auto;line-height:normal;font-family:Menlo,'DejaVu Sans Mono',consolas,'Courier New',monospace\"><span style=\"font-weight: bold\"> Non-trainable params: </span><span style=\"color: #00af00; text-decoration-color: #00af00\">0</span> (0.00 B)\n",
              "</pre>\n"
            ]
          },
          "metadata": {}
        }
      ],
      "source": [
        "inputs = layers.Input(shape=(None,), dtype=\"int32\")\n",
        "x = layers.Embedding(VOCAB_SIZE, EMBEDDING_DIM)(inputs)\n",
        "x = layers.LSTM(N_UNITS, return_sequences=True)(x)\n",
        "outputs = layers.Dense(VOCAB_SIZE, activation=\"softmax\")(x)\n",
        "lstm = models.Model(inputs, outputs)\n",
        "lstm.summary()"
      ]
    },
    {
      "cell_type": "code",
      "execution_count": null,
      "id": "800a3c6e-fb11-4792-b6bc-9a43a7c977ad",
      "metadata": {
        "id": "800a3c6e-fb11-4792-b6bc-9a43a7c977ad"
      },
      "outputs": [],
      "source": [
        "if LOAD_MODEL:\n",
        "    # model.load_weights('./models/model')\n",
        "    lstm = models.load_model(\"./models/lstm\", compile=False)"
      ]
    },
    {
      "cell_type": "markdown",
      "id": "35b14665-4359-447b-be58-3fd58ba69084",
      "metadata": {
        "id": "35b14665-4359-447b-be58-3fd58ba69084"
      },
      "source": [
        "## 5. Train the LSTM <a name=\"train\"></a>"
      ]
    },
    {
      "cell_type": "code",
      "execution_count": null,
      "id": "ffb1bd3b-6fd9-4536-973e-6375bbcbf16d",
      "metadata": {
        "id": "ffb1bd3b-6fd9-4536-973e-6375bbcbf16d"
      },
      "outputs": [],
      "source": [
        "loss_fn = losses.SparseCategoricalCrossentropy()\n",
        "lstm.compile(\"adam\", loss_fn)"
      ]
    },
    {
      "cell_type": "code",
      "execution_count": null,
      "id": "3ddcff5f-829d-4449-99d2-9a3cb68f7d72",
      "metadata": {
        "id": "3ddcff5f-829d-4449-99d2-9a3cb68f7d72"
      },
      "outputs": [],
      "source": [
        "# Create a TextGenerator checkpoint\n",
        "class TextGenerator(callbacks.Callback):\n",
        "    def __init__(self, index_to_word, top_k=10):\n",
        "        self.index_to_word = index_to_word\n",
        "        self.word_to_index = {\n",
        "            word: index for index, word in enumerate(index_to_word)\n",
        "        }  # <1>\n",
        "\n",
        "    def sample_from(self, probs, temperature):  # <2>\n",
        "        probs = probs ** (1 / temperature)\n",
        "        probs = probs / np.sum(probs)\n",
        "        return np.random.choice(len(probs), p=probs), probs\n",
        "\n",
        "    def generate(self, start_prompt, max_tokens, temperature):\n",
        "        start_tokens = [\n",
        "            self.word_to_index.get(x, 1) for x in start_prompt.split()\n",
        "        ]  # <3>\n",
        "        sample_token = None\n",
        "        info = []\n",
        "        while len(start_tokens) < max_tokens and sample_token != 0:  # <4>\n",
        "            x = np.array([start_tokens])\n",
        "            y = self.model.predict(x, verbose=0)  # <5>\n",
        "            sample_token, probs = self.sample_from(y[0][-1], temperature)  # <6>\n",
        "            info.append({\"prompt\": start_prompt, \"word_probs\": probs})\n",
        "            start_tokens.append(sample_token)  # <7>\n",
        "            start_prompt = start_prompt + \" \" + self.index_to_word[sample_token]\n",
        "        print(f\"\\ngenerated text:{start_prompt}\\n\")\n",
        "        return info\n",
        "\n",
        "    def on_epoch_end(self, epoch, logs=None):\n",
        "        self.generate(\"recipe for\", max_tokens=100, temperature=1.0)"
      ]
    },
    {
      "cell_type": "code",
      "execution_count": null,
      "id": "349865fe-ffbe-450e-97be-043ae1740e78",
      "metadata": {
        "id": "349865fe-ffbe-450e-97be-043ae1740e78"
      },
      "outputs": [],
      "source": [
        "# Create a model save checkpoint\n",
        "model_checkpoint_callback = callbacks.ModelCheckpoint(\n",
        "    filepath=\"./checkpoint.ckpt.weights.h5\",\n",
        "    save_weights_only=True,\n",
        "    save_freq=\"epoch\",\n",
        "    verbose=0,\n",
        ")\n",
        "\n",
        "tensorboard_callback = callbacks.TensorBoard(log_dir=\"./logs\")\n",
        "\n",
        "# Tokenize starting prompt\n",
        "text_generator = TextGenerator(vocab)"
      ]
    },
    {
      "cell_type": "code",
      "execution_count": null,
      "id": "461c2b3e-b5ae-4def-8bd9-e7bab8c63d8e",
      "metadata": {
        "colab": {
          "base_uri": "https://localhost:8080/"
        },
        "id": "461c2b3e-b5ae-4def-8bd9-e7bab8c63d8e",
        "outputId": "0f1c50db-b38d-4b3e-caa4-6eaa2e8a4ab5"
      },
      "outputs": [
        {
          "output_type": "stream",
          "name": "stdout",
          "text": [
            "Epoch 1/25\n",
            "\u001b[1m629/629\u001b[0m \u001b[32m━━━━━━━━━━━━━━━━━━━━\u001b[0m\u001b[37m\u001b[0m \u001b[1m0s\u001b[0m 41ms/step - loss: 5.0062\n",
            "generated text:recipe for bean bean and red heat | kale with a large dish with each shortcakes , moderate sugar in cook to a skillet into flavors over smooth , in cook , chocolate sugar and pepper until you firm . whisk and cinnamon and simmer . place rise . add over onion soften and and salt until slotted tough powder to up silk or remaining sieve . stir until prepared lightly . transfer water in your stages . sprinkle with food the sauce are high fully chop - batches . remaining 3 minutes . add tapenade ; pepper . bring\n",
            "\n",
            "\u001b[1m629/629\u001b[0m \u001b[32m━━━━━━━━━━━━━━━━━━━━\u001b[0m\u001b[37m\u001b[0m \u001b[1m36s\u001b[0m 52ms/step - loss: 5.0049\n",
            "Epoch 2/25\n",
            "\u001b[1m628/629\u001b[0m \u001b[32m━━━━━━━━━━━━━━━━━━━\u001b[0m\u001b[37m━\u001b[0m \u001b[1m0s\u001b[0m 42ms/step - loss: 3.0755\n",
            "generated text:recipe for herb kebabs lady with yellow curry seltzer sliced garlic , and pepper with 10 - leek and simmering | mix beans , and soy pork . meanwhile , celery , the cream in a lid spread each garlic with sugar and apple zucchini , boil , , over moderately low heat in carrots and the the scrape of heart of shrimp pan , gently swirling - it ; remove water over . mix chilled , fennel minutes . rinse lining into 1 / 5 ounces shirazi in any markets . remove from heat the peel , and the\n",
            "\n",
            "\u001b[1m629/629\u001b[0m \u001b[32m━━━━━━━━━━━━━━━━━━━━\u001b[0m\u001b[37m\u001b[0m \u001b[1m32s\u001b[0m 51ms/step - loss: 3.0750\n",
            "Epoch 3/25\n",
            "\u001b[1m629/629\u001b[0m \u001b[32m━━━━━━━━━━━━━━━━━━━━\u001b[0m\u001b[37m\u001b[0m \u001b[1m0s\u001b[0m 44ms/step - loss: 2.5268\n",
            "generated text:recipe for baked wine with fennel pita or almonds | preheat oven to 400°f . preheat oven to 375°f . arrange 1 / 2 / 2 cups fruit and tarragon ; mash to coat . pulse wine , salt in medium saucepan of medium bowl of boiling water . spoon mixture with cook yolk . reduce heavy small bowl . cook , stirring occasionally , about 7 frequently , about 10 minutes . transfer spaghetti to bowl to bowl . mix in oil and raisins in same boiling skillet . simmer chicken mixture until hot but clumps form . increase\n",
            "\n",
            "\u001b[1m629/629\u001b[0m \u001b[32m━━━━━━━━━━━━━━━━━━━━\u001b[0m\u001b[37m\u001b[0m \u001b[1m33s\u001b[0m 53ms/step - loss: 2.5267\n",
            "Epoch 4/25\n",
            "\u001b[1m629/629\u001b[0m \u001b[32m━━━━━━━━━━━━━━━━━━━━\u001b[0m\u001b[37m\u001b[0m \u001b[1m0s\u001b[0m 43ms/step - loss: 2.2595\n",
            "generated text:recipe for coconut - almond ice cream | combine cabbage , and chestnuts in large bowl . gradually whisk whites in processor . mix into oil ; season with salt and pepper . press each squares on top each . run pita ball around both balls . fold mozzarella , baking part , spreading apple halves with buttered overlapping side . ( about 1 tablespoonfuls to beat meringue mixture curdled ) , spacing about 1 / 4 - inch thickness . spoon bread crust over from heat . return water to plates . brush each spoon with tortilla slices over\n",
            "\n",
            "\u001b[1m629/629\u001b[0m \u001b[32m━━━━━━━━━━━━━━━━━━━━\u001b[0m\u001b[37m\u001b[0m \u001b[1m33s\u001b[0m 53ms/step - loss: 2.2594\n",
            "Epoch 5/25\n",
            "\u001b[1m629/629\u001b[0m \u001b[32m━━━━━━━━━━━━━━━━━━━━\u001b[0m\u001b[37m\u001b[0m \u001b[1m0s\u001b[0m 43ms/step - loss: 2.0930\n",
            "generated text:recipe for baked chicken on and giblets in caramel | stir 1 / 3 cup broth , 4 snap tomatoes , stock , water , bell pepper , and salt and pepper in a blender for 10 minutes . season to taste with salt and pepper . heat a picada to a 2 1 / 8 - quart of heavy saucepan . reduce heat and flour mixture , stirring , until meat thermometer registers 160°f . bring an stream , water , and 2 teaspoons salt , and add remaining 1 / 4 cup boiling water to simmer , uncovered\n",
            "\n",
            "\u001b[1m629/629\u001b[0m \u001b[32m━━━━━━━━━━━━━━━━━━━━\u001b[0m\u001b[37m\u001b[0m \u001b[1m33s\u001b[0m 52ms/step - loss: 2.0929\n",
            "Epoch 6/25\n",
            "\u001b[1m628/629\u001b[0m \u001b[32m━━━━━━━━━━━━━━━━━━━\u001b[0m\u001b[37m━\u001b[0m \u001b[1m0s\u001b[0m 43ms/step - loss: 1.9799\n",
            "generated text:recipe for cherry grape | whisk relish in chocolate mixture to blend . combine 10 - inch rounds ( 2 / 3 - inch saucepan ) just large saucepan , stirring until reduced by about 3 / 4 minutes . add onion , tomatoes , garlic , and 1 cup syrup ; pulse oil until smooth . add melted sugar and bring to boil . set off ; stir gently and return to low simmer in heavy medium saucepan over medium heat until custard is dry , about 2 minutes . add tomatoes and scraping up any sides turns ,\n",
            "\n",
            "\u001b[1m629/629\u001b[0m \u001b[32m━━━━━━━━━━━━━━━━━━━━\u001b[0m\u001b[37m\u001b[0m \u001b[1m33s\u001b[0m 52ms/step - loss: 1.9799\n",
            "Epoch 7/25\n",
            "\u001b[1m629/629\u001b[0m \u001b[32m━━━━━━━━━━━━━━━━━━━━\u001b[0m\u001b[37m\u001b[0m \u001b[1m0s\u001b[0m 43ms/step - loss: 1.9181\n",
            "generated text:recipe for dried anchovy - dried stuffing | preheat oven to 350°f . mix flour , salt , 1 1 / 2 teaspoon salt in a small mixture to taste with salt and pepper until finely chopped . place lamb in a medium bowl . top with 4 3 / 4 - inch - wide round and quarter quarters . roast mixture until shallots begins to pop , about 10 minutes . meanwhile , toss arugula vinaigrette in a bowl with ice water . brush remaining 4 wedges with parsley and cilantro . \n",
            "\n",
            "\u001b[1m629/629\u001b[0m \u001b[32m━━━━━━━━━━━━━━━━━━━━\u001b[0m\u001b[37m\u001b[0m \u001b[1m33s\u001b[0m 52ms/step - loss: 1.9181\n",
            "Epoch 8/25\n",
            "\u001b[1m629/629\u001b[0m \u001b[32m━━━━━━━━━━━━━━━━━━━━\u001b[0m\u001b[37m\u001b[0m \u001b[1m0s\u001b[0m 44ms/step - loss: 1.8470\n",
            "generated text:recipe for chile rice pub with tarragon cucumber dressing | in a large canned oil combine the cod , remove the fat from the pan and the onions from the corn sauce and toss with 4 teaspoons sesame oil . place separately in a dry medium - medium bowl , then cover the mixture with the olive oil and and the with salt and let sit 10 minutes . meanwhile , toast the leeks in a dry medium - 300°f . preheat oven to 325°f . cut dough all off within 1 tablespoon of 3 pieces . stir bread into\n",
            "\n",
            "\u001b[1m629/629\u001b[0m \u001b[32m━━━━━━━━━━━━━━━━━━━━\u001b[0m\u001b[37m\u001b[0m \u001b[1m33s\u001b[0m 52ms/step - loss: 1.8470\n",
            "Epoch 9/25\n",
            "\u001b[1m628/629\u001b[0m \u001b[32m━━━━━━━━━━━━━━━━━━━\u001b[0m\u001b[37m━\u001b[0m \u001b[1m0s\u001b[0m 43ms/step - loss: 1.8074\n",
            "generated text:recipe for crispy shrimp rolls | preheat oven to 350°f . cook noodles in a deep roasting pan over moderately high heat until crisp - beginning to smoke . flip skillet with a bowl , stirring occasionally , until onion is light golden with sauce has been your burning , 20 seconds . rinse ribs under raw roll , until skins are lightly colored and pat and peel . transfer to a small bowl and put 1 layer and in a bowl spread on a baking sheet . heat remaining 1 1 / 2 teaspoons oil in same skillet over\n",
            "\n",
            "\u001b[1m629/629\u001b[0m \u001b[32m━━━━━━━━━━━━━━━━━━━━\u001b[0m\u001b[37m\u001b[0m \u001b[1m33s\u001b[0m 52ms/step - loss: 1.8074\n",
            "Epoch 10/25\n",
            "\u001b[1m628/629\u001b[0m \u001b[32m━━━━━━━━━━━━━━━━━━━\u001b[0m\u001b[37m━\u001b[0m \u001b[1m0s\u001b[0m 43ms/step - loss: 1.7804\n",
            "generated text:recipe for sauteed tuna with orzo and shrimp | bring butter and wine to boil in saucepan . pour chocolate over saucepan . simmer until thickened , about 5 minutes . strain glasses onto cheese among 11 \" thick . cool chocolate . gently serve | ladle out onto bottom of 4 rack . cover potatoes with plastic wrap - secured meat into small ( floured surface with curd coats bottom . ) remove surface of large hole ( saturated or open plain opposite d ' ve cooked ) . bring sugar to broth in large bowl to blend .\n",
            "\n",
            "\u001b[1m629/629\u001b[0m \u001b[32m━━━━━━━━━━━━━━━━━━━━\u001b[0m\u001b[37m\u001b[0m \u001b[1m34s\u001b[0m 54ms/step - loss: 1.7804\n",
            "Epoch 11/25\n",
            "\u001b[1m628/629\u001b[0m \u001b[32m━━━━━━━━━━━━━━━━━━━\u001b[0m\u001b[37m━\u001b[0m \u001b[1m0s\u001b[0m 43ms/step - loss: 1.7495\n",
            "generated text:recipe for cajun squash pizza with fried peanuts | preheat broiler . press 8 prosciutto by side of each of each under milder choux \" jelly cakes float on layers rib . lightly brush each edge of phyllo with 13 - inch - long intervals and cut using 2 times to fill in baking dish . roll out pastry end of almonds , enclosing completely , and peel . ( whole phyllo ring in center ahead ( or heaping granita ) . meanwhile , whisk first 4 ingredients in small bowl to blend . season couscous with salt and pepper\n",
            "\n",
            "\u001b[1m629/629\u001b[0m \u001b[32m━━━━━━━━━━━━━━━━━━━━\u001b[0m\u001b[37m\u001b[0m \u001b[1m33s\u001b[0m 53ms/step - loss: 1.7495\n",
            "Epoch 12/25\n",
            "\u001b[1m628/629\u001b[0m \u001b[32m━━━━━━━━━━━━━━━━━━━\u001b[0m\u001b[37m━\u001b[0m \u001b[1m0s\u001b[0m 44ms/step - loss: 1.7256\n",
            "generated text:recipe for olive oil poached lamb | in a large bowl with the oil , bring the oil , using a wooden spoon to combine . stir in the bacon flat side down with a hands to distribute the meat skins . 2 . combine beef and rub and roast the pork over large rimmed on work surface . brush the oil on a broiler pan all the sides with oil . brush roast 1 minute . season with salt and pepper and serve the shrimp slices . add the chili stock stock and salt and black chili and simmer\n",
            "\n",
            "\u001b[1m629/629\u001b[0m \u001b[32m━━━━━━━━━━━━━━━━━━━━\u001b[0m\u001b[37m\u001b[0m \u001b[1m42s\u001b[0m 54ms/step - loss: 1.7255\n",
            "Epoch 13/25\n",
            "\u001b[1m629/629\u001b[0m \u001b[32m━━━━━━━━━━━━━━━━━━━━\u001b[0m\u001b[37m\u001b[0m \u001b[1m0s\u001b[0m 43ms/step - loss: 1.6948\n",
            "generated text:recipe for cheese pimiento steaks in tomato sauce | bring water to a simmer , then boil in a heavy pot over medium heat , stirring occasionally ; stir in couscous . drain steam , uncovered , until tender , 10 , stirring frequently . ( be sure they boil in a [UNK] - towel - iron ) . halve mushrooms , then lift fat in half . discard carrots and transfer to a 2 - quart heavy saucepan ( in pot ) and strain over large pot of heavy pot . remove from heat - proof sieve set over\n",
            "\n",
            "\u001b[1m629/629\u001b[0m \u001b[32m━━━━━━━━━━━━━━━━━━━━\u001b[0m\u001b[37m\u001b[0m \u001b[1m34s\u001b[0m 54ms/step - loss: 1.6948\n",
            "Epoch 14/25\n",
            "\u001b[1m628/629\u001b[0m \u001b[32m━━━━━━━━━━━━━━━━━━━\u001b[0m\u001b[37m━\u001b[0m \u001b[1m0s\u001b[0m 44ms/step - loss: 1.6764\n",
            "generated text:recipe for fudgy - apricot baklava | in a bowl whisk remaining yogurt , sugar , 1 tablespoon of the mustard , and 1 / 4 teaspoon salt until the mixture is reduced and the mixture is dry and a shade that do twice . transfer the pudding gently to a plate . let the mixture stand for 10 minutes , or until they are glossy and light and cool completely . in a large bowl , put the spiced nuts in a bowl with an electric mixer and beat whites ( batter should not refrigerate until well coated .\n",
            "\n",
            "\u001b[1m629/629\u001b[0m \u001b[32m━━━━━━━━━━━━━━━━━━━━\u001b[0m\u001b[37m\u001b[0m \u001b[1m33s\u001b[0m 52ms/step - loss: 1.6764\n",
            "Epoch 15/25\n",
            "\u001b[1m629/629\u001b[0m \u001b[32m━━━━━━━━━━━━━━━━━━━━\u001b[0m\u001b[37m\u001b[0m \u001b[1m0s\u001b[0m 44ms/step - loss: 1.6590\n",
            "generated text:recipe for linguine with pasta , broccoli , basil , bell pepper , and pine nuts | cook sausage , sherry , water , 1 / 2 cup water , 1 / 2 teaspoon salt , 1 / 2 teaspoon brown , 1 1 / 2 teaspoons reduced , amaretto , and carrots , lime peel and ginger , stirring , 1 1 / 4 - to 2 - quart pot , garlic , 1 3 / 4 4 or 4 tsp ( total ) to high . salt in a large non - stick skillet over medium - high\n",
            "\n",
            "\u001b[1m629/629\u001b[0m \u001b[32m━━━━━━━━━━━━━━━━━━━━\u001b[0m\u001b[37m\u001b[0m \u001b[1m42s\u001b[0m 55ms/step - loss: 1.6590\n",
            "Epoch 16/25\n",
            "\u001b[1m629/629\u001b[0m \u001b[32m━━━━━━━━━━━━━━━━━━━━\u001b[0m\u001b[37m\u001b[0m \u001b[1m0s\u001b[0m 44ms/step - loss: 1.6322\n",
            "generated text:recipe for honey chicken | bring all ingredients to a boil in a small saucepan , stirring until sugar is dissolved . remove heat , cover with plastic wrap and let stand 20 minutes . remove salmon and save shell for 40 minutes . cool slightly ( when chickens will be only . ) scoop romaine leaves to measure 8 cups ; discard stem . cut grapefruit flesh base lengthwise over jícama with a paring knife . scoop into slices of water . ( you may precook chilled in ice water and in a cup stir with kosher guinness on\n",
            "\n",
            "\u001b[1m629/629\u001b[0m \u001b[32m━━━━━━━━━━━━━━━━━━━━\u001b[0m\u001b[37m\u001b[0m \u001b[1m34s\u001b[0m 54ms/step - loss: 1.6323\n",
            "Epoch 17/25\n",
            "\u001b[1m628/629\u001b[0m \u001b[32m━━━━━━━━━━━━━━━━━━━\u001b[0m\u001b[37m━\u001b[0m \u001b[1m0s\u001b[0m 43ms/step - loss: 1.6182\n",
            "generated text:recipe for potato salad with green beans and pepper | in small saucepan , bring large pot of salted water to a boil and add chicken broth . stir in yeast , stirring occasionally . heat 2 tablespoons oil , cover pot , and cook over gas flame or in boiling saucepan to remove brown on 1 - fat , then when cool enough to handle , peel packages de stems pieces or twice a bit of broth under potatoes and bones attached to bundle along with white wine , then there are not cooked into pieces of peas (\n",
            "\n",
            "\u001b[1m629/629\u001b[0m \u001b[32m━━━━━━━━━━━━━━━━━━━━\u001b[0m\u001b[37m\u001b[0m \u001b[1m33s\u001b[0m 52ms/step - loss: 1.6182\n",
            "Epoch 18/25\n",
            "\u001b[1m628/629\u001b[0m \u001b[32m━━━━━━━━━━━━━━━━━━━\u001b[0m\u001b[37m━\u001b[0m \u001b[1m0s\u001b[0m 44ms/step - loss: 1.6056\n",
            "generated text:recipe for fried salmon with lemon and green pine nuts | position a grill rack in middle and preheat broiler . grill 2 tablespoons oil or broil for 10 minutes , basting once with tongs or brown fat in center . quickly do ahead : remove from heat and and skins to baking , and spice chips begin to marble or flat , transfer off insides and cool . in a food processor purée chilies and purée with 1 3 / 4 cups plus 2 tablespoons of salt , and puree until well blended . in a large bowl whisk\n",
            "\n",
            "\u001b[1m629/629\u001b[0m \u001b[32m━━━━━━━━━━━━━━━━━━━━\u001b[0m\u001b[37m\u001b[0m \u001b[1m33s\u001b[0m 53ms/step - loss: 1.6057\n",
            "Epoch 19/25\n",
            "\u001b[1m629/629\u001b[0m \u001b[32m━━━━━━━━━━━━━━━━━━━━\u001b[0m\u001b[37m\u001b[0m \u001b[1m0s\u001b[0m 43ms/step - loss: 1.5954\n",
            "generated text:recipe for orecchiette with pork and rice | simmer 1 1 / 4 cups all ingredients in a large bowl in a large heavy pot over high heat , stirring occasionally , until fat is softened , about 2 minutes . add beans , tomatoes , celery , carrots , caraway seeds , cream , parsley , cardamom , cornstarch and bring to a boil , then simmer , covered , for 10 minutes . remove from heat . mix in lemon zest and remaining 5 cups mint . season salad with parsley . transfer aioli to a large platter\n",
            "\n",
            "\u001b[1m629/629\u001b[0m \u001b[32m━━━━━━━━━━━━━━━━━━━━\u001b[0m\u001b[37m\u001b[0m \u001b[1m34s\u001b[0m 53ms/step - loss: 1.5954\n",
            "Epoch 20/25\n",
            "\u001b[1m628/629\u001b[0m \u001b[32m━━━━━━━━━━━━━━━━━━━\u001b[0m\u001b[37m━\u001b[0m \u001b[1m0s\u001b[0m 44ms/step - loss: 1.5790\n",
            "generated text:recipe for caramel ice cream | combine gin , sugar , and ginger in a 9 - inch nonstick saucepan over moderately high heat until wine melts . increase the heat to a simmer on a 2 - to 3 - quart heavy saucepan . 3 . agitate peeled and continue to bean mixture , stirring gently for 1 minute , or until completely soft . ( give the mixture can be thin , though it will chill , let it cool . ) pour rum , lemonade , hemp seeds from lime jelly , and lime soda ; continue\n",
            "\n",
            "\u001b[1m629/629\u001b[0m \u001b[32m━━━━━━━━━━━━━━━━━━━━\u001b[0m\u001b[37m\u001b[0m \u001b[1m34s\u001b[0m 54ms/step - loss: 1.5790\n",
            "Epoch 21/25\n",
            "\u001b[1m628/629\u001b[0m \u001b[32m━━━━━━━━━━━━━━━━━━━\u001b[0m\u001b[37m━\u001b[0m \u001b[1m0s\u001b[0m 44ms/step - loss: 1.5771\n",
            "generated text:recipe for cheddar , radish , and tomato salad | bring first 4 ingredients to boil in large saucepan , stirring until sugar dissolves . remove from heat . cool 1 / 3 cup and peel thoroughly . cut yuca into 1 / 4 - inch chunks ; toss to coat . heat large nonstick skillet over high heat . add pine nuts and 1 / 2 cup hot water ; stir until green onions are light brown and firm , about 7 minutes . season with salt and pepper . combine beans and garlic in medium bowl . add\n",
            "\n",
            "\u001b[1m629/629\u001b[0m \u001b[32m━━━━━━━━━━━━━━━━━━━━\u001b[0m\u001b[37m\u001b[0m \u001b[1m33s\u001b[0m 53ms/step - loss: 1.5771\n",
            "Epoch 22/25\n",
            "\u001b[1m629/629\u001b[0m \u001b[32m━━━━━━━━━━━━━━━━━━━━\u001b[0m\u001b[37m\u001b[0m \u001b[1m0s\u001b[0m 44ms/step - loss: 1.5701\n",
            "generated text:recipe for cowboy burgers | 1 . preheat the oven to 500°f . 2 . season 1 salt with brown vegetable , oil , and cornflake crumbs in a dry spot on an oiled rack set , rotating dish oil with a open , then rub the pineapple - side up the roast for 20 minutes at an hour [UNK] to brown the pans . honey the pan bagnat and form the centers and a splash of the paprika . pour into the pan and heat a heavy shallow skillet to prevent the fat from the fat starts to melt\n",
            "\n",
            "\u001b[1m629/629\u001b[0m \u001b[32m━━━━━━━━━━━━━━━━━━━━\u001b[0m\u001b[37m\u001b[0m \u001b[1m34s\u001b[0m 54ms/step - loss: 1.5701\n",
            "Epoch 23/25\n",
            "\u001b[1m629/629\u001b[0m \u001b[32m━━━━━━━━━━━━━━━━━━━━\u001b[0m\u001b[37m\u001b[0m \u001b[1m0s\u001b[0m 44ms/step - loss: 1.5464\n",
            "generated text:recipe for basket and berry haroseth | mix orange zest , sugar , and 1 / 4 teaspoon cinnamon in a small bowl ; more cream cheese , sugar , and 1 / 4 cup glaze in a blender until smooth . strain mixture into bowl . use a smooth cream in a bowl with a handheld container and sweeten with a wooden spoon . top stir together with chocolate if desired consistency . serve vegetables with cold dressing . \n",
            "\n",
            "\u001b[1m629/629\u001b[0m \u001b[32m━━━━━━━━━━━━━━━━━━━━\u001b[0m\u001b[37m\u001b[0m \u001b[1m33s\u001b[0m 53ms/step - loss: 1.5464\n",
            "Epoch 24/25\n",
            "\u001b[1m628/629\u001b[0m \u001b[32m━━━━━━━━━━━━━━━━━━━\u001b[0m\u001b[37m━\u001b[0m \u001b[1m0s\u001b[0m 44ms/step - loss: 1.5457\n",
            "generated text:recipe for clam and wine chowder | purée shallots , salt , 1 / 2 1 / 2 cup , and cumin seeds in 2 cups water to boil in lukewarm water . reduce heat ; simmer until mixture measures about 3 / 2 minutes . return ribs , and gizzard to pot . bring to boil . reduce heat ; boil poaching liquid uncovered until reduced to 3 cups , about 8 minutes . sprinkle turkey with salt and pepper . pour garlic mixture into 2 - cup bean pot . bring to boil , stirring until reduced to\n",
            "\n",
            "\u001b[1m629/629\u001b[0m \u001b[32m━━━━━━━━━━━━━━━━━━━━\u001b[0m\u001b[37m\u001b[0m \u001b[1m35s\u001b[0m 55ms/step - loss: 1.5457\n",
            "Epoch 25/25\n",
            "\u001b[1m629/629\u001b[0m \u001b[32m━━━━━━━━━━━━━━━━━━━━\u001b[0m\u001b[37m\u001b[0m \u001b[1m0s\u001b[0m 45ms/step - loss: 1.5321\n",
            "generated text:recipe for fruitcake mincemeat | roll out 2 halves on baking sheet . repeat with dough . cover with plastic wrap , and steam butter until foam subsides . drizzle 1 tablespoon butter evenly in pan and heat additional pan over medium - high heat . add half of crepe mixture in butter and cook until golden brown , watching closely to prevent burning , until golden and crisp ; transfer with spatula to paper towels . remove from heat . return water to sherry mixture . while sauce simmers , peel potatoes by hand , working over , pecans\n",
            "\n",
            "\u001b[1m629/629\u001b[0m \u001b[32m━━━━━━━━━━━━━━━━━━━━\u001b[0m\u001b[37m\u001b[0m \u001b[1m41s\u001b[0m 55ms/step - loss: 1.5321\n"
          ]
        },
        {
          "output_type": "execute_result",
          "data": {
            "text/plain": [
              "<keras.src.callbacks.history.History at 0x7b2fa9b5bd30>"
            ]
          },
          "metadata": {},
          "execution_count": 26
        }
      ],
      "source": [
        "lstm.fit(\n",
        "    train_ds,\n",
        "    epochs=EPOCHS,\n",
        "    callbacks=[model_checkpoint_callback, tensorboard_callback, text_generator],\n",
        ")"
      ]
    },
    {
      "cell_type": "code",
      "execution_count": null,
      "id": "369bde44-2e39-4bc6-8549-a3a27ecce55c",
      "metadata": {
        "id": "369bde44-2e39-4bc6-8549-a3a27ecce55c"
      },
      "outputs": [],
      "source": [
        "# Save the final model\n",
        "lstm.save(\"./lstm.keras\")"
      ]
    },
    {
      "cell_type": "markdown",
      "id": "d64e02d2-84dc-40c8-8446-40c09adf1e20",
      "metadata": {
        "id": "d64e02d2-84dc-40c8-8446-40c09adf1e20"
      },
      "source": [
        "## 6. Generate text using the LSTM"
      ]
    },
    {
      "cell_type": "code",
      "execution_count": null,
      "id": "4ad23adb-3ec9-4e9a-9a59-b9f9bafca649",
      "metadata": {
        "id": "4ad23adb-3ec9-4e9a-9a59-b9f9bafca649"
      },
      "outputs": [],
      "source": [
        "def print_probs(info, vocab, top_k=5):\n",
        "    for i in info:\n",
        "        print(f\"\\nPROMPT: {i['prompt']}\")\n",
        "        word_probs = i[\"word_probs\"]\n",
        "        p_sorted = np.sort(word_probs)[::-1][:top_k]\n",
        "        i_sorted = np.argsort(word_probs)[::-1][:top_k]\n",
        "        for p, i in zip(p_sorted, i_sorted):\n",
        "            print(f\"{vocab[i]}:   \\t{np.round(100*p,2)}%\")\n",
        "        print(\"--------\\n\")"
      ]
    },
    {
      "cell_type": "code",
      "execution_count": null,
      "id": "3cf25578-d47c-4b26-8252-fcdf2316a4ac",
      "metadata": {
        "id": "3cf25578-d47c-4b26-8252-fcdf2316a4ac",
        "colab": {
          "base_uri": "https://localhost:8080/"
        },
        "outputId": "2833b0e4-27b1-4e21-8443-a434a73bf52a"
      },
      "outputs": [
        {
          "output_type": "stream",
          "name": "stdout",
          "text": [
            "\n",
            "generated text:recipe for roasted vegetables | chop 1 / 3 of\n",
            "\n"
          ]
        }
      ],
      "source": [
        "info = text_generator.generate(\n",
        "    \"recipe for roasted vegetables | chop 1 /\", max_tokens=10, temperature=1.0\n",
        ")"
      ]
    },
    {
      "cell_type": "code",
      "execution_count": null,
      "id": "9df72866-b483-4489-8e26-d5e1466410fa",
      "metadata": {
        "id": "9df72866-b483-4489-8e26-d5e1466410fa",
        "colab": {
          "base_uri": "https://localhost:8080/"
        },
        "outputId": "fc0bab6c-2b52-41b4-c0b6-6a02b3378071"
      },
      "outputs": [
        {
          "output_type": "stream",
          "name": "stdout",
          "text": [
            "\n",
            "PROMPT: recipe for roasted vegetables | chop 1 /\n",
            "4:   \t43.83%\n",
            "2:   \t40.72%\n",
            "3:   \t10.36%\n",
            "8:   \t2.13%\n",
            "1:   \t1.05%\n",
            "--------\n",
            "\n",
            "\n",
            "PROMPT: recipe for roasted vegetables | chop 1 / 3\n",
            "cup:   \t69.59%\n",
            "of:   \t19.71%\n",
            "inch:   \t1.61%\n",
            ".:   \t1.05%\n",
            "garlic:   \t0.77%\n",
            "--------\n",
            "\n"
          ]
        }
      ],
      "source": [
        "print_probs(info, vocab)"
      ]
    },
    {
      "cell_type": "code",
      "execution_count": null,
      "id": "562e1fe8-cbcb-438f-9637-2f2a6279c924",
      "metadata": {
        "id": "562e1fe8-cbcb-438f-9637-2f2a6279c924",
        "colab": {
          "base_uri": "https://localhost:8080/"
        },
        "outputId": "739f51f2-51af-4af3-8743-eed4b8280b7e"
      },
      "outputs": [
        {
          "output_type": "stream",
          "name": "stdout",
          "text": [
            "\n",
            "generated text:recipe for roasted vegetables | chop 1 / 4 cup\n",
            "\n"
          ]
        }
      ],
      "source": [
        "info = text_generator.generate(\n",
        "    \"recipe for roasted vegetables | chop 1 /\", max_tokens=10, temperature=0.5\n",
        ")"
      ]
    },
    {
      "cell_type": "code",
      "execution_count": null,
      "id": "56356f21-04ac-40e5-94ff-291eca6a7054",
      "metadata": {
        "id": "56356f21-04ac-40e5-94ff-291eca6a7054",
        "colab": {
          "base_uri": "https://localhost:8080/"
        },
        "outputId": "ea983de9-723d-4d7b-9206-d7ab47548ef9"
      },
      "outputs": [
        {
          "output_type": "stream",
          "name": "stdout",
          "text": [
            "\n",
            "PROMPT: recipe for roasted vegetables | chop 1 /\n",
            "4:   \t44.74%\n",
            "2:   \t41.41%\n",
            "3:   \t9.81%\n",
            "8:   \t1.86%\n",
            "1:   \t0.88%\n",
            "--------\n",
            "\n",
            "\n",
            "PROMPT: recipe for roasted vegetables | chop 1 / 4\n",
            "cup:   \t88.32%\n",
            "inch:   \t4.13%\n",
            "of:   \t4.02%\n",
            "teaspoon:   \t0.97%\n",
            ".:   \t0.28%\n",
            "--------\n",
            "\n"
          ]
        }
      ],
      "source": [
        "print_probs(info, vocab)"
      ]
    },
    {
      "cell_type": "code",
      "execution_count": null,
      "id": "2e434497-07f3-4989-a68d-3e31cf8fa4fe",
      "metadata": {
        "id": "2e434497-07f3-4989-a68d-3e31cf8fa4fe",
        "colab": {
          "base_uri": "https://localhost:8080/"
        },
        "outputId": "2de51dbb-5f8d-4a74-c7a9-49e40725ec74"
      },
      "outputs": [
        {
          "output_type": "stream",
          "name": "stdout",
          "text": [
            "\n",
            "generated text:recipe for chocolate ice cream | heat\n",
            "\n",
            "\n",
            "PROMPT: recipe for chocolate ice cream |\n",
            "in:   \t11.14%\n",
            "bring:   \t4.45%\n",
            "stir:   \t4.27%\n",
            "combine:   \t3.97%\n",
            "heat:   \t3.87%\n",
            "--------\n",
            "\n"
          ]
        }
      ],
      "source": [
        "info = text_generator.generate(\n",
        "    \"recipe for chocolate ice cream |\", max_tokens=7, temperature=1.5\n",
        ")\n",
        "print_probs(info, vocab)"
      ]
    },
    {
      "cell_type": "code",
      "execution_count": null,
      "id": "011cd0e0-956c-4a63-8ec3-f7dfed31764e",
      "metadata": {
        "id": "011cd0e0-956c-4a63-8ec3-f7dfed31764e",
        "colab": {
          "base_uri": "https://localhost:8080/"
        },
        "outputId": "80ae1327-2f7a-46b6-dc65-cd8a1f17720e"
      },
      "outputs": [
        {
          "output_type": "stream",
          "name": "stdout",
          "text": [
            "\n",
            "generated text:recipe for chocolate ice cream | in\n",
            "\n",
            "\n",
            "PROMPT: recipe for chocolate ice cream |\n",
            "in:   \t99.69%\n",
            "bring:   \t0.1%\n",
            "stir:   \t0.08%\n",
            "combine:   \t0.04%\n",
            "heat:   \t0.04%\n",
            "--------\n",
            "\n"
          ]
        }
      ],
      "source": [
        "info = text_generator.generate(\n",
        "    \"recipe for chocolate ice cream |\", max_tokens=7, temperature=0.2\n",
        ")\n",
        "print_probs(info, vocab)"
      ]
    },
    {
      "cell_type": "code",
      "execution_count": null,
      "id": "9m9iwotiJS8M",
      "metadata": {
        "id": "9m9iwotiJS8M",
        "colab": {
          "base_uri": "https://localhost:8080/"
        },
        "outputId": "4ed7f3a1-29aa-4ead-f9cf-de4dfd4a0304"
      },
      "outputs": [
        {
          "output_type": "stream",
          "name": "stdout",
          "text": [
            "\n",
            "generated text:recipe for lemon fried rice | whisk egg whites , 1 / 2 teaspoon salt , and 1 / 4 teaspoon pepper in a small bowl until smooth . cover bowl with plastic wrap and let sit at room temperature 1 hour . in a small bowl whisk together water and sugar and stir in 1 / 2 cup water . let stand , covered , at least 2 hours and up to 1 day . in a large bowl whisk together yolks and sugar until smooth . add butter and beat until combined . add eggs 1 at a\n",
            "\n",
            "\n",
            "PROMPT: recipe for lemon fried rice |\n",
            "in:   \t45.04%\n",
            "bring:   \t20.57%\n",
            "put:   \t7.39%\n",
            "preheat:   \t7.2%\n",
            "combine:   \t4.45%\n",
            "--------\n",
            "\n",
            "\n",
            "PROMPT: recipe for lemon fried rice | whisk\n",
            "together:   \t59.67%\n",
            "first:   \t21.45%\n",
            "flour:   \t8.1%\n",
            "sugar:   \t2.4%\n",
            "all:   \t2.12%\n",
            "--------\n",
            "\n",
            "\n",
            "PROMPT: recipe for lemon fried rice | whisk egg\n",
            "yolks:   \t67.9%\n",
            ",:   \t14.25%\n",
            "white:   \t7.28%\n",
            "whites:   \t5.7%\n",
            "yolk:   \t3.81%\n",
            "--------\n",
            "\n",
            "\n",
            "PROMPT: recipe for lemon fried rice | whisk egg whites\n",
            "and:   \t39.78%\n",
            ",:   \t34.5%\n",
            "in:   \t15.48%\n",
            "with:   \t9.05%\n",
            "into:   \t0.98%\n",
            "--------\n",
            "\n",
            "\n",
            "PROMPT: recipe for lemon fried rice | whisk egg whites ,\n",
            "sugar:   \t53.98%\n",
            "1:   \t19.73%\n",
            "salt:   \t8.85%\n",
            "egg:   \t4.9%\n",
            "eggs:   \t2.77%\n",
            "--------\n",
            "\n",
            "\n",
            "PROMPT: recipe for lemon fried rice | whisk egg whites , 1\n",
            "/:   \t93.18%\n",
            "1:   \t4.47%\n",
            "tablespoon:   \t1.71%\n",
            "teaspoon:   \t0.32%\n",
            "cup:   \t0.19%\n",
            "--------\n",
            "\n",
            "\n",
            "PROMPT: recipe for lemon fried rice | whisk egg whites , 1 /\n",
            "2:   \t78.19%\n",
            "4:   \t19.92%\n",
            "3:   \t1.8%\n",
            "8:   \t0.09%\n",
            "1:   \t0.0%\n",
            "--------\n",
            "\n",
            "\n",
            "PROMPT: recipe for lemon fried rice | whisk egg whites , 1 / 2\n",
            "cup:   \t87.62%\n",
            "teaspoon:   \t11.98%\n",
            "tsp:   \t0.25%\n",
            "tablespoon:   \t0.11%\n",
            "1:   \t0.02%\n",
            "--------\n",
            "\n",
            "\n",
            "PROMPT: recipe for lemon fried rice | whisk egg whites , 1 / 2 teaspoon\n",
            "salt:   \t99.34%\n",
            "sugar:   \t0.11%\n",
            "kosher:   \t0.1%\n",
            "lemon:   \t0.09%\n",
            "vanilla:   \t0.06%\n",
            "--------\n",
            "\n",
            "\n",
            "PROMPT: recipe for lemon fried rice | whisk egg whites , 1 / 2 teaspoon salt\n",
            ",:   \t97.36%\n",
            "in:   \t2.33%\n",
            "and:   \t0.3%\n",
            "until:   \t0.01%\n",
            "on:   \t0.0%\n",
            "--------\n",
            "\n",
            "\n",
            "PROMPT: recipe for lemon fried rice | whisk egg whites , 1 / 2 teaspoon salt ,\n",
            "and:   \t68.87%\n",
            "1:   \t29.68%\n",
            "sugar:   \t0.31%\n",
            "2:   \t0.26%\n",
            "remaining:   \t0.2%\n",
            "--------\n",
            "\n",
            "\n",
            "PROMPT: recipe for lemon fried rice | whisk egg whites , 1 / 2 teaspoon salt , and\n",
            "1:   \t94.17%\n",
            "2:   \t3.45%\n",
            "remaining:   \t1.18%\n",
            "pepper:   \t0.42%\n",
            "3:   \t0.33%\n",
            "--------\n",
            "\n",
            "\n",
            "PROMPT: recipe for lemon fried rice | whisk egg whites , 1 / 2 teaspoon salt , and 1\n",
            "/:   \t97.57%\n",
            "1:   \t1.15%\n",
            "tablespoon:   \t0.64%\n",
            "teaspoon:   \t0.38%\n",
            "cup:   \t0.24%\n",
            "--------\n",
            "\n",
            "\n",
            "PROMPT: recipe for lemon fried rice | whisk egg whites , 1 / 2 teaspoon salt , and 1 /\n",
            "4:   \t52.37%\n",
            "2:   \t46.25%\n",
            "3:   \t1.21%\n",
            "8:   \t0.17%\n",
            "1:   \t0.01%\n",
            "--------\n",
            "\n",
            "\n",
            "PROMPT: recipe for lemon fried rice | whisk egg whites , 1 / 2 teaspoon salt , and 1 / 4\n",
            "cup:   \t55.53%\n",
            "teaspoon:   \t44.35%\n",
            "tsp:   \t0.11%\n",
            "of:   \t0.01%\n",
            "cups:   \t0.0%\n",
            "--------\n",
            "\n",
            "\n",
            "PROMPT: recipe for lemon fried rice | whisk egg whites , 1 / 2 teaspoon salt , and 1 / 4 teaspoon\n",
            "pepper:   \t97.45%\n",
            "salt:   \t1.85%\n",
            "black:   \t0.3%\n",
            "each:   \t0.12%\n",
            "cayenne:   \t0.07%\n",
            "--------\n",
            "\n",
            "\n",
            "PROMPT: recipe for lemon fried rice | whisk egg whites , 1 / 2 teaspoon salt , and 1 / 4 teaspoon pepper\n",
            "in:   \t99.96%\n",
            "to:   \t0.02%\n",
            ",:   \t0.01%\n",
            "until:   \t0.0%\n",
            ".:   \t0.0%\n",
            "--------\n",
            "\n",
            "\n",
            "PROMPT: recipe for lemon fried rice | whisk egg whites , 1 / 2 teaspoon salt , and 1 / 4 teaspoon pepper in\n",
            "a:   \t99.49%\n",
            "another:   \t0.22%\n",
            "large:   \t0.12%\n",
            "small:   \t0.11%\n",
            "medium:   \t0.04%\n",
            "--------\n",
            "\n",
            "\n",
            "PROMPT: recipe for lemon fried rice | whisk egg whites , 1 / 2 teaspoon salt , and 1 / 4 teaspoon pepper in a\n",
            "large:   \t52.54%\n",
            "small:   \t33.2%\n",
            "medium:   \t8.21%\n",
            "bowl:   \t4.04%\n",
            "2:   \t0.39%\n",
            "--------\n",
            "\n",
            "\n",
            "PROMPT: recipe for lemon fried rice | whisk egg whites , 1 / 2 teaspoon salt , and 1 / 4 teaspoon pepper in a small\n",
            "bowl:   \t98.06%\n",
            "saucepan:   \t1.76%\n",
            "heavy:   \t0.14%\n",
            "skillet:   \t0.03%\n",
            "metal:   \t0.01%\n",
            "--------\n",
            "\n",
            "\n",
            "PROMPT: recipe for lemon fried rice | whisk egg whites , 1 / 2 teaspoon salt , and 1 / 4 teaspoon pepper in a small bowl\n",
            "until:   \t80.53%\n",
            "to:   \t10.98%\n",
            ".:   \t6.6%\n",
            ";:   \t0.49%\n",
            ",:   \t0.48%\n",
            "--------\n",
            "\n",
            "\n",
            "PROMPT: recipe for lemon fried rice | whisk egg whites , 1 / 2 teaspoon salt , and 1 / 4 teaspoon pepper in a small bowl until\n",
            "combined:   \t39.55%\n",
            "smooth:   \t33.95%\n",
            "mixture:   \t11.82%\n",
            "blended:   \t3.63%\n",
            "well:   \t3.32%\n",
            "--------\n",
            "\n",
            "\n",
            "PROMPT: recipe for lemon fried rice | whisk egg whites , 1 / 2 teaspoon salt , and 1 / 4 teaspoon pepper in a small bowl until smooth\n",
            ".:   \t84.02%\n",
            ",:   \t12.63%\n",
            "and:   \t2.97%\n",
            "(:   \t0.21%\n",
            ";:   \t0.14%\n",
            "--------\n",
            "\n",
            "\n",
            "PROMPT: recipe for lemon fried rice | whisk egg whites , 1 / 2 teaspoon salt , and 1 / 4 teaspoon pepper in a small bowl until smooth .\n",
            "add:   \t53.47%\n",
            "stir:   \t10.3%\n",
            "season:   \t9.66%\n",
            "whisk:   \t6.36%\n",
            "pour:   \t5.35%\n",
            "--------\n",
            "\n",
            "\n",
            "PROMPT: recipe for lemon fried rice | whisk egg whites , 1 / 2 teaspoon salt , and 1 / 4 teaspoon pepper in a small bowl until smooth . cover\n",
            "and:   \t51.56%\n",
            "bowl:   \t36.44%\n",
            "with:   \t9.06%\n",
            ";:   \t1.31%\n",
            ",:   \t1.06%\n",
            "--------\n",
            "\n",
            "\n",
            "PROMPT: recipe for lemon fried rice | whisk egg whites , 1 / 2 teaspoon salt , and 1 / 4 teaspoon pepper in a small bowl until smooth . cover bowl\n",
            "with:   \t98.37%\n",
            "and:   \t1.17%\n",
            "of:   \t0.24%\n",
            "tightly:   \t0.13%\n",
            ",:   \t0.08%\n",
            "--------\n",
            "\n",
            "\n",
            "PROMPT: recipe for lemon fried rice | whisk egg whites , 1 / 2 teaspoon salt , and 1 / 4 teaspoon pepper in a small bowl until smooth . cover bowl with\n",
            "plastic:   \t90.65%\n",
            "cold:   \t3.59%\n",
            "a:   \t2.73%\n",
            "water:   \t1.96%\n",
            "ice:   \t0.29%\n",
            "--------\n",
            "\n",
            "\n",
            "PROMPT: recipe for lemon fried rice | whisk egg whites , 1 / 2 teaspoon salt , and 1 / 4 teaspoon pepper in a small bowl until smooth . cover bowl with plastic\n",
            "wrap:   \t99.98%\n",
            "and:   \t0.02%\n",
            "bag:   \t0.0%\n",
            ";:   \t0.0%\n",
            "base:   \t0.0%\n",
            "--------\n",
            "\n",
            "\n",
            "PROMPT: recipe for lemon fried rice | whisk egg whites , 1 / 2 teaspoon salt , and 1 / 4 teaspoon pepper in a small bowl until smooth . cover bowl with plastic wrap\n",
            "and:   \t89.35%\n",
            ",:   \t8.82%\n",
            ".:   \t1.48%\n",
            ";:   \t0.3%\n",
            "(:   \t0.03%\n",
            "--------\n",
            "\n",
            "\n",
            "PROMPT: recipe for lemon fried rice | whisk egg whites , 1 / 2 teaspoon salt , and 1 / 4 teaspoon pepper in a small bowl until smooth . cover bowl with plastic wrap and\n",
            "chill:   \t77.28%\n",
            "let:   \t14.41%\n",
            "refrigerate:   \t7.62%\n",
            "keep:   \t0.49%\n",
            "freeze:   \t0.05%\n",
            "--------\n",
            "\n",
            "\n",
            "PROMPT: recipe for lemon fried rice | whisk egg whites , 1 / 2 teaspoon salt , and 1 / 4 teaspoon pepper in a small bowl until smooth . cover bowl with plastic wrap and let\n",
            "sit:   \t63.14%\n",
            "stand:   \t33.69%\n",
            "rest:   \t1.15%\n",
            "cool:   \t1.06%\n",
            "rise:   \t0.58%\n",
            "--------\n",
            "\n",
            "\n",
            "PROMPT: recipe for lemon fried rice | whisk egg whites , 1 / 2 teaspoon salt , and 1 / 4 teaspoon pepper in a small bowl until smooth . cover bowl with plastic wrap and let sit\n",
            "at:   \t50.32%\n",
            "until:   \t17.59%\n",
            "10:   \t9.31%\n",
            "5:   \t8.29%\n",
            "30:   \t4.91%\n",
            "--------\n",
            "\n",
            "\n",
            "PROMPT: recipe for lemon fried rice | whisk egg whites , 1 / 2 teaspoon salt , and 1 / 4 teaspoon pepper in a small bowl until smooth . cover bowl with plastic wrap and let sit at\n",
            "least:   \t50.67%\n",
            "room:   \t49.1%\n",
            "a:   \t0.19%\n",
            "high:   \t0.02%\n",
            "an:   \t0.01%\n",
            "--------\n",
            "\n",
            "\n",
            "PROMPT: recipe for lemon fried rice | whisk egg whites , 1 / 2 teaspoon salt , and 1 / 4 teaspoon pepper in a small bowl until smooth . cover bowl with plastic wrap and let sit at room\n",
            "temperature:   \t100.0%\n",
            "-:   \t0.0%\n",
            "days:   \t0.0%\n",
            ",:   \t0.0%\n",
            "percent:   \t0.0%\n",
            "--------\n",
            "\n",
            "\n",
            "PROMPT: recipe for lemon fried rice | whisk egg whites , 1 / 2 teaspoon salt , and 1 / 4 teaspoon pepper in a small bowl until smooth . cover bowl with plastic wrap and let sit at room temperature\n",
            "1:   \t41.51%\n",
            "30:   \t23.85%\n",
            "until:   \t13.6%\n",
            "at:   \t10.34%\n",
            "2:   \t2.88%\n",
            "--------\n",
            "\n",
            "\n",
            "PROMPT: recipe for lemon fried rice | whisk egg whites , 1 / 2 teaspoon salt , and 1 / 4 teaspoon pepper in a small bowl until smooth . cover bowl with plastic wrap and let sit at room temperature 1\n",
            "hour:   \t99.79%\n",
            "day:   \t0.17%\n",
            "minute:   \t0.02%\n",
            "1:   \t0.01%\n",
            "/:   \t0.0%\n",
            "--------\n",
            "\n",
            "\n",
            "PROMPT: recipe for lemon fried rice | whisk egg whites , 1 / 2 teaspoon salt , and 1 / 4 teaspoon pepper in a small bowl until smooth . cover bowl with plastic wrap and let sit at room temperature 1 hour\n",
            ".:   \t97.67%\n",
            ",:   \t1.13%\n",
            "to:   \t0.61%\n",
            "before:   \t0.27%\n",
            "and:   \t0.13%\n",
            "--------\n",
            "\n",
            "\n",
            "PROMPT: recipe for lemon fried rice | whisk egg whites , 1 / 2 teaspoon salt , and 1 / 4 teaspoon pepper in a small bowl until smooth . cover bowl with plastic wrap and let sit at room temperature 1 hour .\n",
            "preheat:   \t38.52%\n",
            "heat:   \t12.53%\n",
            "whisk:   \t6.9%\n",
            "(:   \t6.23%\n",
            "chill:   \t5.36%\n",
            "--------\n",
            "\n",
            "\n",
            "PROMPT: recipe for lemon fried rice | whisk egg whites , 1 / 2 teaspoon salt , and 1 / 4 teaspoon pepper in a small bowl until smooth . cover bowl with plastic wrap and let sit at room temperature 1 hour . in\n",
            "a:   \t98.32%\n",
            "another:   \t0.65%\n",
            "cleaned:   \t0.47%\n",
            "an:   \t0.33%\n",
            "large:   \t0.14%\n",
            "--------\n",
            "\n",
            "\n",
            "PROMPT: recipe for lemon fried rice | whisk egg whites , 1 / 2 teaspoon salt , and 1 / 4 teaspoon pepper in a small bowl until smooth . cover bowl with plastic wrap and let sit at room temperature 1 hour . in a\n",
            "large:   \t62.31%\n",
            "bowl:   \t15.36%\n",
            "small:   \t14.75%\n",
            "medium:   \t3.47%\n",
            "blender:   \t1.18%\n",
            "--------\n",
            "\n",
            "\n",
            "PROMPT: recipe for lemon fried rice | whisk egg whites , 1 / 2 teaspoon salt , and 1 / 4 teaspoon pepper in a small bowl until smooth . cover bowl with plastic wrap and let sit at room temperature 1 hour . in a small\n",
            "bowl:   \t89.35%\n",
            "saucepan:   \t9.67%\n",
            "heavy:   \t0.89%\n",
            "skillet:   \t0.07%\n",
            "non:   \t0.0%\n",
            "--------\n",
            "\n",
            "\n",
            "PROMPT: recipe for lemon fried rice | whisk egg whites , 1 / 2 teaspoon salt , and 1 / 4 teaspoon pepper in a small bowl until smooth . cover bowl with plastic wrap and let sit at room temperature 1 hour . in a small bowl\n",
            "whisk:   \t80.85%\n",
            "stir:   \t13.57%\n",
            ",:   \t3.07%\n",
            "combine:   \t1.13%\n",
            "with:   \t0.65%\n",
            "--------\n",
            "\n",
            "\n",
            "PROMPT: recipe for lemon fried rice | whisk egg whites , 1 / 2 teaspoon salt , and 1 / 4 teaspoon pepper in a small bowl until smooth . cover bowl with plastic wrap and let sit at room temperature 1 hour . in a small bowl whisk\n",
            "together:   \t100.0%\n",
            "remaining:   \t0.0%\n",
            "eggs:   \t0.0%\n",
            "in:   \t0.0%\n",
            "butter:   \t0.0%\n",
            "--------\n",
            "\n",
            "\n",
            "PROMPT: recipe for lemon fried rice | whisk egg whites , 1 / 2 teaspoon salt , and 1 / 4 teaspoon pepper in a small bowl until smooth . cover bowl with plastic wrap and let sit at room temperature 1 hour . in a small bowl whisk together\n",
            "sour:   \t14.03%\n",
            "eggs:   \t12.96%\n",
            "remaining:   \t10.9%\n",
            "mayonnaise:   \t8.66%\n",
            "butter:   \t8.18%\n",
            "--------\n",
            "\n",
            "\n",
            "PROMPT: recipe for lemon fried rice | whisk egg whites , 1 / 2 teaspoon salt , and 1 / 4 teaspoon pepper in a small bowl until smooth . cover bowl with plastic wrap and let sit at room temperature 1 hour . in a small bowl whisk together water\n",
            "and:   \t58.22%\n",
            ",:   \t41.53%\n",
            "by:   \t0.09%\n",
            "1:   \t0.05%\n",
            "until:   \t0.04%\n",
            "--------\n",
            "\n",
            "\n",
            "PROMPT: recipe for lemon fried rice | whisk egg whites , 1 / 2 teaspoon salt , and 1 / 4 teaspoon pepper in a small bowl until smooth . cover bowl with plastic wrap and let sit at room temperature 1 hour . in a small bowl whisk together water and\n",
            "sugar:   \t65.86%\n",
            "salt:   \t9.8%\n",
            "1:   \t7.28%\n",
            "remaining:   \t5.29%\n",
            "water:   \t2.48%\n",
            "--------\n",
            "\n",
            "\n",
            "PROMPT: recipe for lemon fried rice | whisk egg whites , 1 / 2 teaspoon salt , and 1 / 4 teaspoon pepper in a small bowl until smooth . cover bowl with plastic wrap and let sit at room temperature 1 hour . in a small bowl whisk together water and sugar\n",
            "until:   \t49.72%\n",
            "and:   \t29.83%\n",
            ".:   \t9.23%\n",
            ",:   \t7.44%\n",
            "to:   \t2.42%\n",
            "--------\n",
            "\n",
            "\n",
            "PROMPT: recipe for lemon fried rice | whisk egg whites , 1 / 2 teaspoon salt , and 1 / 4 teaspoon pepper in a small bowl until smooth . cover bowl with plastic wrap and let sit at room temperature 1 hour . in a small bowl whisk together water and sugar and\n",
            "whisk:   \t39.75%\n",
            "bring:   \t10.5%\n",
            "stir:   \t8.01%\n",
            "cook:   \t6.67%\n",
            "blend:   \t6.35%\n",
            "--------\n",
            "\n",
            "\n",
            "PROMPT: recipe for lemon fried rice | whisk egg whites , 1 / 2 teaspoon salt , and 1 / 4 teaspoon pepper in a small bowl until smooth . cover bowl with plastic wrap and let sit at room temperature 1 hour . in a small bowl whisk together water and sugar and stir\n",
            "in:   \t42.85%\n",
            "until:   \t32.83%\n",
            "to:   \t12.54%\n",
            "just:   \t3.74%\n",
            "gently:   \t2.83%\n",
            "--------\n",
            "\n",
            "\n",
            "PROMPT: recipe for lemon fried rice | whisk egg whites , 1 / 2 teaspoon salt , and 1 / 4 teaspoon pepper in a small bowl until smooth . cover bowl with plastic wrap and let sit at room temperature 1 hour . in a small bowl whisk together water and sugar and stir in\n",
            "1:   \t33.19%\n",
            "sugar:   \t23.66%\n",
            "remaining:   \t12.09%\n",
            "salt:   \t6.54%\n",
            "2:   \t3.99%\n",
            "--------\n",
            "\n",
            "\n",
            "PROMPT: recipe for lemon fried rice | whisk egg whites , 1 / 2 teaspoon salt , and 1 / 4 teaspoon pepper in a small bowl until smooth . cover bowl with plastic wrap and let sit at room temperature 1 hour . in a small bowl whisk together water and sugar and stir in 1\n",
            "/:   \t96.33%\n",
            "1:   \t1.82%\n",
            "tablespoon:   \t0.91%\n",
            "cup:   \t0.8%\n",
            "teaspoon:   \t0.06%\n",
            "--------\n",
            "\n",
            "\n",
            "PROMPT: recipe for lemon fried rice | whisk egg whites , 1 / 2 teaspoon salt , and 1 / 4 teaspoon pepper in a small bowl until smooth . cover bowl with plastic wrap and let sit at room temperature 1 hour . in a small bowl whisk together water and sugar and stir in 1 /\n",
            "4:   \t53.19%\n",
            "2:   \t41.29%\n",
            "3:   \t5.39%\n",
            "8:   \t0.12%\n",
            "1:   \t0.0%\n",
            "--------\n",
            "\n",
            "\n",
            "PROMPT: recipe for lemon fried rice | whisk egg whites , 1 / 2 teaspoon salt , and 1 / 4 teaspoon pepper in a small bowl until smooth . cover bowl with plastic wrap and let sit at room temperature 1 hour . in a small bowl whisk together water and sugar and stir in 1 / 2\n",
            "cup:   \t96.8%\n",
            "teaspoon:   \t3.01%\n",
            "tablespoon:   \t0.14%\n",
            "tsp:   \t0.06%\n",
            "tablespoons:   \t0.0%\n",
            "--------\n",
            "\n",
            "\n",
            "PROMPT: recipe for lemon fried rice | whisk egg whites , 1 / 2 teaspoon salt , and 1 / 4 teaspoon pepper in a small bowl until smooth . cover bowl with plastic wrap and let sit at room temperature 1 hour . in a small bowl whisk together water and sugar and stir in 1 / 2 cup\n",
            "sugar:   \t84.12%\n",
            "water:   \t10.04%\n",
            "hot:   \t0.74%\n",
            "flour:   \t0.62%\n",
            "dressing:   \t0.61%\n",
            "--------\n",
            "\n",
            "\n",
            "PROMPT: recipe for lemon fried rice | whisk egg whites , 1 / 2 teaspoon salt , and 1 / 4 teaspoon pepper in a small bowl until smooth . cover bowl with plastic wrap and let sit at room temperature 1 hour . in a small bowl whisk together water and sugar and stir in 1 / 2 cup water\n",
            ".:   \t84.53%\n",
            ",:   \t6.25%\n",
            "and:   \t4.64%\n",
            "until:   \t2.8%\n",
            "to:   \t1.04%\n",
            "--------\n",
            "\n",
            "\n",
            "PROMPT: recipe for lemon fried rice | whisk egg whites , 1 / 2 teaspoon salt , and 1 / 4 teaspoon pepper in a small bowl until smooth . cover bowl with plastic wrap and let sit at room temperature 1 hour . in a small bowl whisk together water and sugar and stir in 1 / 2 cup water .\n",
            "let:   \t52.77%\n",
            "add:   \t11.86%\n",
            "stir:   \t7.91%\n",
            "whisk:   \t6.47%\n",
            "cover:   \t3.64%\n",
            "--------\n",
            "\n",
            "\n",
            "PROMPT: recipe for lemon fried rice | whisk egg whites , 1 / 2 teaspoon salt , and 1 / 4 teaspoon pepper in a small bowl until smooth . cover bowl with plastic wrap and let sit at room temperature 1 hour . in a small bowl whisk together water and sugar and stir in 1 / 2 cup water . let\n",
            "stand:   \t80.16%\n",
            "sit:   \t18.95%\n",
            "cool:   \t0.64%\n",
            "steep:   \t0.06%\n",
            "soak:   \t0.06%\n",
            "--------\n",
            "\n",
            "\n",
            "PROMPT: recipe for lemon fried rice | whisk egg whites , 1 / 2 teaspoon salt , and 1 / 4 teaspoon pepper in a small bowl until smooth . cover bowl with plastic wrap and let sit at room temperature 1 hour . in a small bowl whisk together water and sugar and stir in 1 / 2 cup water . let stand\n",
            "until:   \t27.92%\n",
            ",:   \t25.64%\n",
            "at:   \t23.79%\n",
            "15:   \t6.05%\n",
            "30:   \t4.93%\n",
            "--------\n",
            "\n",
            "\n",
            "PROMPT: recipe for lemon fried rice | whisk egg whites , 1 / 2 teaspoon salt , and 1 / 4 teaspoon pepper in a small bowl until smooth . cover bowl with plastic wrap and let sit at room temperature 1 hour . in a small bowl whisk together water and sugar and stir in 1 / 2 cup water . let stand ,\n",
            "covered:   \t84.12%\n",
            "stirring:   \t12.5%\n",
            "tossing:   \t2.09%\n",
            "uncovered:   \t1.12%\n",
            "whisking:   \t0.12%\n",
            "--------\n",
            "\n",
            "\n",
            "PROMPT: recipe for lemon fried rice | whisk egg whites , 1 / 2 teaspoon salt , and 1 / 4 teaspoon pepper in a small bowl until smooth . cover bowl with plastic wrap and let sit at room temperature 1 hour . in a small bowl whisk together water and sugar and stir in 1 / 2 cup water . let stand , covered\n",
            ",:   \t99.9%\n",
            "and:   \t0.08%\n",
            "with:   \t0.01%\n",
            ".:   \t0.0%\n",
            "until:   \t0.0%\n",
            "--------\n",
            "\n",
            "\n",
            "PROMPT: recipe for lemon fried rice | whisk egg whites , 1 / 2 teaspoon salt , and 1 / 4 teaspoon pepper in a small bowl until smooth . cover bowl with plastic wrap and let sit at room temperature 1 hour . in a small bowl whisk together water and sugar and stir in 1 / 2 cup water . let stand , covered ,\n",
            "at:   \t76.83%\n",
            "until:   \t13.54%\n",
            "10:   \t2.63%\n",
            "15:   \t2.17%\n",
            "stirring:   \t1.1%\n",
            "--------\n",
            "\n",
            "\n",
            "PROMPT: recipe for lemon fried rice | whisk egg whites , 1 / 2 teaspoon salt , and 1 / 4 teaspoon pepper in a small bowl until smooth . cover bowl with plastic wrap and let sit at room temperature 1 hour . in a small bowl whisk together water and sugar and stir in 1 / 2 cup water . let stand , covered , at\n",
            "least:   \t72.4%\n",
            "room:   \t27.58%\n",
            "lowest:   \t0.01%\n",
            "a:   \t0.0%\n",
            "high:   \t0.0%\n",
            "--------\n",
            "\n",
            "\n",
            "PROMPT: recipe for lemon fried rice | whisk egg whites , 1 / 2 teaspoon salt , and 1 / 4 teaspoon pepper in a small bowl until smooth . cover bowl with plastic wrap and let sit at room temperature 1 hour . in a small bowl whisk together water and sugar and stir in 1 / 2 cup water . let stand , covered , at least\n",
            "1:   \t59.79%\n",
            "30:   \t15.0%\n",
            "2:   \t10.28%\n",
            "8:   \t5.63%\n",
            "15:   \t2.55%\n",
            "--------\n",
            "\n",
            "\n",
            "PROMPT: recipe for lemon fried rice | whisk egg whites , 1 / 2 teaspoon salt , and 1 / 4 teaspoon pepper in a small bowl until smooth . cover bowl with plastic wrap and let sit at room temperature 1 hour . in a small bowl whisk together water and sugar and stir in 1 / 2 cup water . let stand , covered , at least 2\n",
            "hours:   \t99.99%\n",
            "days:   \t0.0%\n",
            "1:   \t0.0%\n",
            "minutes:   \t0.0%\n",
            "hour:   \t0.0%\n",
            "--------\n",
            "\n",
            "\n",
            "PROMPT: recipe for lemon fried rice | whisk egg whites , 1 / 2 teaspoon salt , and 1 / 4 teaspoon pepper in a small bowl until smooth . cover bowl with plastic wrap and let sit at room temperature 1 hour . in a small bowl whisk together water and sugar and stir in 1 / 2 cup water . let stand , covered , at least 2 hours\n",
            "and:   \t67.14%\n",
            ".:   \t18.91%\n",
            ",:   \t10.69%\n",
            "or:   \t2.96%\n",
            "(:   \t0.2%\n",
            "--------\n",
            "\n",
            "\n",
            "PROMPT: recipe for lemon fried rice | whisk egg whites , 1 / 2 teaspoon salt , and 1 / 4 teaspoon pepper in a small bowl until smooth . cover bowl with plastic wrap and let sit at room temperature 1 hour . in a small bowl whisk together water and sugar and stir in 1 / 2 cup water . let stand , covered , at least 2 hours and\n",
            "up:   \t99.99%\n",
            "1:   \t0.0%\n",
            "at:   \t0.0%\n",
            "drain:   \t0.0%\n",
            "chill:   \t0.0%\n",
            "--------\n",
            "\n",
            "\n",
            "PROMPT: recipe for lemon fried rice | whisk egg whites , 1 / 2 teaspoon salt , and 1 / 4 teaspoon pepper in a small bowl until smooth . cover bowl with plastic wrap and let sit at room temperature 1 hour . in a small bowl whisk together water and sugar and stir in 1 / 2 cup water . let stand , covered , at least 2 hours and up\n",
            "to:   \t100.0%\n",
            "-:   \t0.0%\n",
            ".:   \t0.0%\n",
            "up:   \t0.0%\n",
            "minutes:   \t0.0%\n",
            "--------\n",
            "\n",
            "\n",
            "PROMPT: recipe for lemon fried rice | whisk egg whites , 1 / 2 teaspoon salt , and 1 / 4 teaspoon pepper in a small bowl until smooth . cover bowl with plastic wrap and let sit at room temperature 1 hour . in a small bowl whisk together water and sugar and stir in 1 / 2 cup water . let stand , covered , at least 2 hours and up to\n",
            "1:   \t76.54%\n",
            "2:   \t9.78%\n",
            "3:   \t7.85%\n",
            "4:   \t1.84%\n",
            "24:   \t1.11%\n",
            "--------\n",
            "\n",
            "\n",
            "PROMPT: recipe for lemon fried rice | whisk egg whites , 1 / 2 teaspoon salt , and 1 / 4 teaspoon pepper in a small bowl until smooth . cover bowl with plastic wrap and let sit at room temperature 1 hour . in a small bowl whisk together water and sugar and stir in 1 / 2 cup water . let stand , covered , at least 2 hours and up to 1\n",
            "day:   \t95.64%\n",
            "week:   \t2.19%\n",
            "hour:   \t1.72%\n",
            "1:   \t0.23%\n",
            "month:   \t0.21%\n",
            "--------\n",
            "\n",
            "\n",
            "PROMPT: recipe for lemon fried rice | whisk egg whites , 1 / 2 teaspoon salt , and 1 / 4 teaspoon pepper in a small bowl until smooth . cover bowl with plastic wrap and let sit at room temperature 1 hour . in a small bowl whisk together water and sugar and stir in 1 / 2 cup water . let stand , covered , at least 2 hours and up to 1 day\n",
            ".:   \t98.21%\n",
            ",:   \t1.58%\n",
            "and:   \t0.1%\n",
            "in:   \t0.06%\n",
            "(:   \t0.03%\n",
            "--------\n",
            "\n",
            "\n",
            "PROMPT: recipe for lemon fried rice | whisk egg whites , 1 / 2 teaspoon salt , and 1 / 4 teaspoon pepper in a small bowl until smooth . cover bowl with plastic wrap and let sit at room temperature 1 hour . in a small bowl whisk together water and sugar and stir in 1 / 2 cup water . let stand , covered , at least 2 hours and up to 1 day .\n",
            "preheat:   \t31.72%\n",
            "in:   \t21.29%\n",
            "heat:   \t15.61%\n",
            "bring:   \t10.17%\n",
            "(:   \t7.98%\n",
            "--------\n",
            "\n",
            "\n",
            "PROMPT: recipe for lemon fried rice | whisk egg whites , 1 / 2 teaspoon salt , and 1 / 4 teaspoon pepper in a small bowl until smooth . cover bowl with plastic wrap and let sit at room temperature 1 hour . in a small bowl whisk together water and sugar and stir in 1 / 2 cup water . let stand , covered , at least 2 hours and up to 1 day . in\n",
            "a:   \t99.9%\n",
            "another:   \t0.03%\n",
            "an:   \t0.03%\n",
            "cleaned:   \t0.02%\n",
            "large:   \t0.01%\n",
            "--------\n",
            "\n",
            "\n",
            "PROMPT: recipe for lemon fried rice | whisk egg whites , 1 / 2 teaspoon salt , and 1 / 4 teaspoon pepper in a small bowl until smooth . cover bowl with plastic wrap and let sit at room temperature 1 hour . in a small bowl whisk together water and sugar and stir in 1 / 2 cup water . let stand , covered , at least 2 hours and up to 1 day . in a\n",
            "large:   \t56.85%\n",
            "small:   \t16.05%\n",
            "bowl:   \t15.53%\n",
            "blender:   \t5.87%\n",
            "saucepan:   \t1.59%\n",
            "--------\n",
            "\n",
            "\n",
            "PROMPT: recipe for lemon fried rice | whisk egg whites , 1 / 2 teaspoon salt , and 1 / 4 teaspoon pepper in a small bowl until smooth . cover bowl with plastic wrap and let sit at room temperature 1 hour . in a small bowl whisk together water and sugar and stir in 1 / 2 cup water . let stand , covered , at least 2 hours and up to 1 day . in a large\n",
            "bowl:   \t80.68%\n",
            "heavy:   \t13.05%\n",
            "saucepan:   \t4.93%\n",
            "skillet:   \t0.54%\n",
            "sealable:   \t0.22%\n",
            "--------\n",
            "\n",
            "\n",
            "PROMPT: recipe for lemon fried rice | whisk egg whites , 1 / 2 teaspoon salt , and 1 / 4 teaspoon pepper in a small bowl until smooth . cover bowl with plastic wrap and let sit at room temperature 1 hour . in a small bowl whisk together water and sugar and stir in 1 / 2 cup water . let stand , covered , at least 2 hours and up to 1 day . in a large bowl\n",
            "stir:   \t35.42%\n",
            "whisk:   \t27.92%\n",
            ",:   \t22.14%\n",
            "with:   \t9.04%\n",
            "toss:   \t2.62%\n",
            "--------\n",
            "\n",
            "\n",
            "PROMPT: recipe for lemon fried rice | whisk egg whites , 1 / 2 teaspoon salt , and 1 / 4 teaspoon pepper in a small bowl until smooth . cover bowl with plastic wrap and let sit at room temperature 1 hour . in a small bowl whisk together water and sugar and stir in 1 / 2 cup water . let stand , covered , at least 2 hours and up to 1 day . in a large bowl whisk\n",
            "together:   \t100.0%\n",
            "remaining:   \t0.0%\n",
            "eggs:   \t0.0%\n",
            "in:   \t0.0%\n",
            "butter:   \t0.0%\n",
            "--------\n",
            "\n",
            "\n",
            "PROMPT: recipe for lemon fried rice | whisk egg whites , 1 / 2 teaspoon salt , and 1 / 4 teaspoon pepper in a small bowl until smooth . cover bowl with plastic wrap and let sit at room temperature 1 hour . in a small bowl whisk together water and sugar and stir in 1 / 2 cup water . let stand , covered , at least 2 hours and up to 1 day . in a large bowl whisk together\n",
            "eggs:   \t26.19%\n",
            "sour:   \t12.34%\n",
            "remaining:   \t11.5%\n",
            "cream:   \t7.91%\n",
            "butter:   \t6.4%\n",
            "--------\n",
            "\n",
            "\n",
            "PROMPT: recipe for lemon fried rice | whisk egg whites , 1 / 2 teaspoon salt , and 1 / 4 teaspoon pepper in a small bowl until smooth . cover bowl with plastic wrap and let sit at room temperature 1 hour . in a small bowl whisk together water and sugar and stir in 1 / 2 cup water . let stand , covered , at least 2 hours and up to 1 day . in a large bowl whisk together yolks\n",
            ",:   \t66.31%\n",
            "and:   \t33.6%\n",
            "with:   \t0.05%\n",
            "until:   \t0.01%\n",
            "mixture:   \t0.01%\n",
            "--------\n",
            "\n",
            "\n",
            "PROMPT: recipe for lemon fried rice | whisk egg whites , 1 / 2 teaspoon salt , and 1 / 4 teaspoon pepper in a small bowl until smooth . cover bowl with plastic wrap and let sit at room temperature 1 hour . in a small bowl whisk together water and sugar and stir in 1 / 2 cup water . let stand , covered , at least 2 hours and up to 1 day . in a large bowl whisk together yolks and\n",
            "remaining:   \t34.11%\n",
            "sugar:   \t31.48%\n",
            "salt:   \t17.64%\n",
            "1:   \t9.69%\n",
            "water:   \t1.69%\n",
            "--------\n",
            "\n",
            "\n",
            "PROMPT: recipe for lemon fried rice | whisk egg whites , 1 / 2 teaspoon salt , and 1 / 4 teaspoon pepper in a small bowl until smooth . cover bowl with plastic wrap and let sit at room temperature 1 hour . in a small bowl whisk together water and sugar and stir in 1 / 2 cup water . let stand , covered , at least 2 hours and up to 1 day . in a large bowl whisk together yolks and sugar\n",
            "and:   \t41.44%\n",
            "until:   \t22.38%\n",
            ".:   \t15.08%\n",
            ",:   \t12.14%\n",
            "in:   \t5.73%\n",
            "--------\n",
            "\n",
            "\n",
            "PROMPT: recipe for lemon fried rice | whisk egg whites , 1 / 2 teaspoon salt , and 1 / 4 teaspoon pepper in a small bowl until smooth . cover bowl with plastic wrap and let sit at room temperature 1 hour . in a small bowl whisk together water and sugar and stir in 1 / 2 cup water . let stand , covered , at least 2 hours and up to 1 day . in a large bowl whisk together yolks and sugar until\n",
            "smooth:   \t80.71%\n",
            "combined:   \t16.64%\n",
            "mixture:   \t1.53%\n",
            "sugar:   \t0.46%\n",
            "dissolved:   \t0.16%\n",
            "--------\n",
            "\n",
            "\n",
            "PROMPT: recipe for lemon fried rice | whisk egg whites , 1 / 2 teaspoon salt , and 1 / 4 teaspoon pepper in a small bowl until smooth . cover bowl with plastic wrap and let sit at room temperature 1 hour . in a small bowl whisk together water and sugar and stir in 1 / 2 cup water . let stand , covered , at least 2 hours and up to 1 day . in a large bowl whisk together yolks and sugar until smooth\n",
            ".:   \t93.28%\n",
            ",:   \t3.98%\n",
            "and:   \t2.62%\n",
            "(:   \t0.08%\n",
            ";:   \t0.03%\n",
            "--------\n",
            "\n",
            "\n",
            "PROMPT: recipe for lemon fried rice | whisk egg whites , 1 / 2 teaspoon salt , and 1 / 4 teaspoon pepper in a small bowl until smooth . cover bowl with plastic wrap and let sit at room temperature 1 hour . in a small bowl whisk together water and sugar and stir in 1 / 2 cup water . let stand , covered , at least 2 hours and up to 1 day . in a large bowl whisk together yolks and sugar until smooth .\n",
            "add:   \t48.4%\n",
            "stir:   \t16.31%\n",
            "whisk:   \t10.05%\n",
            "season:   \t4.66%\n",
            "pour:   \t4.65%\n",
            "--------\n",
            "\n",
            "\n",
            "PROMPT: recipe for lemon fried rice | whisk egg whites , 1 / 2 teaspoon salt , and 1 / 4 teaspoon pepper in a small bowl until smooth . cover bowl with plastic wrap and let sit at room temperature 1 hour . in a small bowl whisk together water and sugar and stir in 1 / 2 cup water . let stand , covered , at least 2 hours and up to 1 day . in a large bowl whisk together yolks and sugar until smooth . add\n",
            "remaining:   \t39.91%\n",
            "cream:   \t18.5%\n",
            "eggs:   \t6.75%\n",
            "butter:   \t4.92%\n",
            "egg:   \t4.62%\n",
            "--------\n",
            "\n",
            "\n",
            "PROMPT: recipe for lemon fried rice | whisk egg whites , 1 / 2 teaspoon salt , and 1 / 4 teaspoon pepper in a small bowl until smooth . cover bowl with plastic wrap and let sit at room temperature 1 hour . in a small bowl whisk together water and sugar and stir in 1 / 2 cup water . let stand , covered , at least 2 hours and up to 1 day . in a large bowl whisk together yolks and sugar until smooth . add butter\n",
            "and:   \t96.86%\n",
            ",:   \t1.86%\n",
            "mixture:   \t0.78%\n",
            ";:   \t0.37%\n",
            "to:   \t0.08%\n",
            "--------\n",
            "\n",
            "\n",
            "PROMPT: recipe for lemon fried rice | whisk egg whites , 1 / 2 teaspoon salt , and 1 / 4 teaspoon pepper in a small bowl until smooth . cover bowl with plastic wrap and let sit at room temperature 1 hour . in a small bowl whisk together water and sugar and stir in 1 / 2 cup water . let stand , covered , at least 2 hours and up to 1 day . in a large bowl whisk together yolks and sugar until smooth . add butter and\n",
            "stir:   \t47.81%\n",
            "pulse:   \t18.25%\n",
            "beat:   \t10.73%\n",
            "1:   \t3.87%\n",
            "blend:   \t3.74%\n",
            "--------\n",
            "\n",
            "\n",
            "PROMPT: recipe for lemon fried rice | whisk egg whites , 1 / 2 teaspoon salt , and 1 / 4 teaspoon pepper in a small bowl until smooth . cover bowl with plastic wrap and let sit at room temperature 1 hour . in a small bowl whisk together water and sugar and stir in 1 / 2 cup water . let stand , covered , at least 2 hours and up to 1 day . in a large bowl whisk together yolks and sugar until smooth . add butter and beat\n",
            "until:   \t90.35%\n",
            "just:   \t5.97%\n",
            "to:   \t0.68%\n",
            "with:   \t0.6%\n",
            ",:   \t0.58%\n",
            "--------\n",
            "\n",
            "\n",
            "PROMPT: recipe for lemon fried rice | whisk egg whites , 1 / 2 teaspoon salt , and 1 / 4 teaspoon pepper in a small bowl until smooth . cover bowl with plastic wrap and let sit at room temperature 1 hour . in a small bowl whisk together water and sugar and stir in 1 / 2 cup water . let stand , covered , at least 2 hours and up to 1 day . in a large bowl whisk together yolks and sugar until smooth . add butter and beat until\n",
            "smooth:   \t36.01%\n",
            "combined:   \t32.19%\n",
            "just:   \t17.18%\n",
            "mixture:   \t6.37%\n",
            "stiff:   \t1.58%\n",
            "--------\n",
            "\n",
            "\n",
            "PROMPT: recipe for lemon fried rice | whisk egg whites , 1 / 2 teaspoon salt , and 1 / 4 teaspoon pepper in a small bowl until smooth . cover bowl with plastic wrap and let sit at room temperature 1 hour . in a small bowl whisk together water and sugar and stir in 1 / 2 cup water . let stand , covered , at least 2 hours and up to 1 day . in a large bowl whisk together yolks and sugar until smooth . add butter and beat until combined\n",
            ".:   \t63.87%\n",
            "well:   \t35.28%\n",
            "(:   \t0.42%\n",
            ",:   \t0.23%\n",
            "and:   \t0.15%\n",
            "--------\n",
            "\n",
            "\n",
            "PROMPT: recipe for lemon fried rice | whisk egg whites , 1 / 2 teaspoon salt , and 1 / 4 teaspoon pepper in a small bowl until smooth . cover bowl with plastic wrap and let sit at room temperature 1 hour . in a small bowl whisk together water and sugar and stir in 1 / 2 cup water . let stand , covered , at least 2 hours and up to 1 day . in a large bowl whisk together yolks and sugar until smooth . add butter and beat until combined .\n",
            "add:   \t31.56%\n",
            "stir:   \t12.92%\n",
            "divide:   \t12.02%\n",
            "pour:   \t10.28%\n",
            "transfer:   \t9.77%\n",
            "--------\n",
            "\n",
            "\n",
            "PROMPT: recipe for lemon fried rice | whisk egg whites , 1 / 2 teaspoon salt , and 1 / 4 teaspoon pepper in a small bowl until smooth . cover bowl with plastic wrap and let sit at room temperature 1 hour . in a small bowl whisk together water and sugar and stir in 1 / 2 cup water . let stand , covered , at least 2 hours and up to 1 day . in a large bowl whisk together yolks and sugar until smooth . add butter and beat until combined . add\n",
            "remaining:   \t35.45%\n",
            "cream:   \t12.64%\n",
            "butter:   \t9.87%\n",
            "egg:   \t9.69%\n",
            "eggs:   \t6.04%\n",
            "--------\n",
            "\n",
            "\n",
            "PROMPT: recipe for lemon fried rice | whisk egg whites , 1 / 2 teaspoon salt , and 1 / 4 teaspoon pepper in a small bowl until smooth . cover bowl with plastic wrap and let sit at room temperature 1 hour . in a small bowl whisk together water and sugar and stir in 1 / 2 cup water . let stand , covered , at least 2 hours and up to 1 day . in a large bowl whisk together yolks and sugar until smooth . add butter and beat until combined . add eggs\n",
            ",:   \t53.67%\n",
            "and:   \t27.05%\n",
            "1:   \t15.15%\n",
            "one:   \t2.59%\n",
            "in:   \t0.82%\n",
            "--------\n",
            "\n",
            "\n",
            "PROMPT: recipe for lemon fried rice | whisk egg whites , 1 / 2 teaspoon salt , and 1 / 4 teaspoon pepper in a small bowl until smooth . cover bowl with plastic wrap and let sit at room temperature 1 hour . in a small bowl whisk together water and sugar and stir in 1 / 2 cup water . let stand , covered , at least 2 hours and up to 1 day . in a large bowl whisk together yolks and sugar until smooth . add butter and beat until combined . add eggs 1\n",
            "at:   \t99.94%\n",
            "1:   \t0.03%\n",
            "/:   \t0.03%\n",
            "minute:   \t0.0%\n",
            "piece:   \t0.0%\n",
            "--------\n",
            "\n",
            "\n",
            "PROMPT: recipe for lemon fried rice | whisk egg whites , 1 / 2 teaspoon salt , and 1 / 4 teaspoon pepper in a small bowl until smooth . cover bowl with plastic wrap and let sit at room temperature 1 hour . in a small bowl whisk together water and sugar and stir in 1 / 2 cup water . let stand , covered , at least 2 hours and up to 1 day . in a large bowl whisk together yolks and sugar until smooth . add butter and beat until combined . add eggs 1 at\n",
            "a:   \t99.99%\n",
            "each:   \t0.01%\n",
            "the:   \t0.0%\n",
            "an:   \t0.0%\n",
            "time:   \t0.0%\n",
            "--------\n",
            "\n"
          ]
        }
      ],
      "source": [
        "info = text_generator.generate(\n",
        "\"recipe for lemon fried rice |\", max_tokens=100, temperature=0.5\n",
        ")\n",
        "\n",
        "print_probs(info, vocab)"
      ]
    }
  ],
  "metadata": {
    "accelerator": "GPU",
    "colab": {
      "gpuType": "T4",
      "provenance": [],
      "include_colab_link": true
    },
    "kernelspec": {
      "display_name": "Python 3",
      "name": "python3"
    },
    "language_info": {
      "codemirror_mode": {
        "name": "ipython",
        "version": 3
      },
      "file_extension": ".py",
      "mimetype": "text/x-python",
      "name": "python",
      "nbconvert_exporter": "python",
      "pygments_lexer": "ipython3",
      "version": "3.8.10"
    }
  },
  "nbformat": 4,
  "nbformat_minor": 5
}